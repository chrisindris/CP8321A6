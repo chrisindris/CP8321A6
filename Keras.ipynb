{
 "cells": [
  {
   "cell_type": "markdown",
   "metadata": {
    "id": "IqsKdeFiHkxq"
   },
   "source": [
    "# MNIST CNN in Keras\n",
    "\n",
    "Followed from [this tutorial](https://keras.io/examples/vision/mnist_convnet/)."
   ]
  },
  {
   "cell_type": "code",
   "execution_count": 68,
   "metadata": {
    "id": "9xeN4ChvHkxv"
   },
   "outputs": [],
   "source": [
    "import numpy as np\n",
    "import matplotlib.pyplot as plt\n",
    "import tensorflow as tf\n",
    "from tensorflow import keras\n",
    "from tensorflow.keras import layers"
   ]
  },
  {
   "cell_type": "markdown",
   "metadata": {
    "id": "5XyC089GHkxw"
   },
   "source": [
    "## Prepare the data"
   ]
  },
  {
   "cell_type": "code",
   "execution_count": 61,
   "metadata": {
    "id": "jtO2NVZrHkxx"
   },
   "outputs": [
    {
     "name": "stdout",
     "output_type": "stream",
     "text": [
      "x_train shape: (60000, 28, 28, 1)\n",
      "60000 train samples\n",
      "10000 test samples\n"
     ]
    }
   ],
   "source": [
    "# Model / data parameters\n",
    "num_classes = 10\n",
    "input_shape = (28, 28, 1)\n",
    "\n",
    "# Load the data and split it between train and test sets\n",
    "(x_train, y_train), (x_test, y_test) = keras.datasets.mnist.load_data()\n",
    "\n",
    "# Scale images to the [0, 1] range\n",
    "x_train = x_train.astype(\"float32\") / 255\n",
    "x_test = x_test.astype(\"float32\") / 255\n",
    "# Make sure images have shape (28, 28, 1)\n",
    "x_train = np.expand_dims(x_train, -1)\n",
    "x_test = np.expand_dims(x_test, -1)\n",
    "print(\"x_train shape:\", x_train.shape)\n",
    "print(x_train.shape[0], \"train samples\")\n",
    "print(x_test.shape[0], \"test samples\")\n",
    "\n",
    "\n",
    "# convert class vectors to binary class matrices\n",
    "#y_train = keras.utils.to_categorical(y_train, num_classes)\n",
    "#y_test = keras.utils.to_categorical(y_test, num_classes)"
   ]
  },
  {
   "cell_type": "markdown",
   "metadata": {
    "id": "VXpD7vjkHkxx"
   },
   "source": [
    "## Build the model"
   ]
  },
  {
   "cell_type": "code",
   "execution_count": 62,
   "metadata": {
    "id": "0P5ayM-uHkxy"
   },
   "outputs": [
    {
     "name": "stdout",
     "output_type": "stream",
     "text": [
      "Model: \"sequential_18\"\n",
      "_________________________________________________________________\n",
      " Layer (type)                Output Shape              Param #   \n",
      "=================================================================\n",
      " conv2d_36 (Conv2D)          (None, 24, 24, 10)        260       \n",
      "                                                                 \n",
      " max_pooling2d_36 (MaxPoolin  (None, 12, 12, 10)       0         \n",
      " g2D)                                                            \n",
      "                                                                 \n",
      " conv2d_37 (Conv2D)          (None, 8, 8, 20)          5020      \n",
      "                                                                 \n",
      " max_pooling2d_37 (MaxPoolin  (None, 4, 4, 20)         0         \n",
      " g2D)                                                            \n",
      "                                                                 \n",
      " dropout_18 (Dropout)        (None, 4, 4, 20)          0         \n",
      "                                                                 \n",
      " flatten_18 (Flatten)        (None, 320)               0         \n",
      "                                                                 \n",
      " dense_36 (Dense)            (None, 50)                16050     \n",
      "                                                                 \n",
      " dense_37 (Dense)            (None, 10)                510       \n",
      "                                                                 \n",
      "=================================================================\n",
      "Total params: 21,840\n",
      "Trainable params: 21,840\n",
      "Non-trainable params: 0\n",
      "_________________________________________________________________\n"
     ]
    }
   ],
   "source": [
    "# Model\n",
    "\n",
    "model = keras.Sequential(\n",
    "    [\n",
    "        keras.Input(shape = input_shape),\n",
    "        \n",
    "        layers.Conv2D(filters=10, kernel_size=5, activation='relu'),\n",
    "        layers.MaxPooling2D(pool_size=2),\n",
    "\n",
    "        layers.Conv2D(filters=20, kernel_size=5, activation='relu'),\n",
    "        layers.MaxPooling2D(pool_size=2),\n",
    "\n",
    "        layers.Dropout(rate=0.5),\n",
    "\n",
    "        layers.Flatten(),\n",
    "\n",
    "        layers.Dense(50, activation='relu'),\n",
    "\n",
    "        layers.Dense(10, activation='softmax')\n",
    "    ]\n",
    ")\n",
    "\n",
    "# Compile\n",
    "model.compile(optimizer=tf.keras.optimizers.SGD(learning_rate=0.01, momentum=0.5), \n",
    "              loss=tf.keras.losses.SparseCategoricalCrossentropy(from_logits=True), \n",
    "              metrics=[tf.keras.metrics.SparseCategoricalAccuracy()]\n",
    ")\n",
    "\"\"\"\n",
    "model.compile(\n",
    "    optimizer = tf.keras.optimizers.SGD(\n",
    "        learning_rate = 0.01,\n",
    "        momentum = 0.5\n",
    "    ),\n",
    "    loss=tf.keras.losses.SparseCategoricalCrossentropy(from_logits=True),\n",
    "    metrics=[tf.keras.metrics.SparseCategoricalAccuracy()]\n",
    ")\n",
    "\"\"\"\n",
    "\n",
    "# Summary\n",
    "model.summary()"
   ]
  },
  {
   "cell_type": "code",
   "execution_count": 63,
   "metadata": {},
   "outputs": [
    {
     "data": {
      "text/plain": [
       "(60000, 28, 28, 1)"
      ]
     },
     "execution_count": 63,
     "metadata": {},
     "output_type": "execute_result"
    }
   ],
   "source": [
    "x_train.shape"
   ]
  },
  {
   "cell_type": "code",
   "execution_count": 64,
   "metadata": {},
   "outputs": [
    {
     "data": {
      "text/plain": [
       "(60000,)"
      ]
     },
     "execution_count": 64,
     "metadata": {},
     "output_type": "execute_result"
    }
   ],
   "source": [
    "y_train.shape"
   ]
  },
  {
   "cell_type": "markdown",
   "metadata": {
    "id": "wt0ijnXTHkx0"
   },
   "source": [
    "## Train the model"
   ]
  },
  {
   "cell_type": "code",
   "execution_count": 65,
   "metadata": {
    "id": "vsCdig6sHkx1"
   },
   "outputs": [
    {
     "name": "stdout",
     "output_type": "stream",
     "text": [
      "Epoch 1/6\n",
      "938/938 [==============================] - 11s 11ms/step - loss: 0.9122 - sparse_categorical_accuracy: 0.6994\n",
      "Epoch 2/6\n",
      "938/938 [==============================] - 10s 10ms/step - loss: 0.2689 - sparse_categorical_accuracy: 0.9183\n",
      "Epoch 3/6\n",
      "938/938 [==============================] - 10s 10ms/step - loss: 0.2040 - sparse_categorical_accuracy: 0.9386\n",
      "Epoch 4/6\n",
      "938/938 [==============================] - 10s 10ms/step - loss: 0.1720 - sparse_categorical_accuracy: 0.9477\n",
      "Epoch 5/6\n",
      "938/938 [==============================] - 10s 10ms/step - loss: 0.1548 - sparse_categorical_accuracy: 0.9528\n",
      "Epoch 6/6\n",
      "938/938 [==============================] - 10s 10ms/step - loss: 0.1406 - sparse_categorical_accuracy: 0.9574\n"
     ]
    }
   ],
   "source": [
    "history = model.fit(x_train, y_train, batch_size=64, epochs=6)"
   ]
  },
  {
   "cell_type": "markdown",
   "metadata": {
    "id": "NmLA8_LKHkx1"
   },
   "source": [
    "## Evaluate the trained model"
   ]
  },
  {
   "cell_type": "code",
   "execution_count": 66,
   "metadata": {
    "id": "4BrxKNMYHkx2"
   },
   "outputs": [
    {
     "name": "stdout",
     "output_type": "stream",
     "text": [
      "Test loss: 0.06282080709934235\n",
      "Test accuracy: 0.9810000061988831\n"
     ]
    }
   ],
   "source": [
    "score = model.evaluate(x_test, y_test, verbose=0)\n",
    "print(\"Test loss:\", score[0])\n",
    "print(\"Test accuracy:\", score[1])"
   ]
  },
  {
   "cell_type": "code",
   "execution_count": 70,
   "metadata": {},
   "outputs": [
    {
     "data": {
      "image/png": "[encoded data removed]",
      "text/plain": [
       "<Figure size 1440x1224 with 2 Axes>"
      ]
     },
     "metadata": {
      "needs_background": "light"
     },
     "output_type": "display_data"
    }
   ],
   "source": [
    "# This will plot what was printed to the console during the training.\n",
    "plt.figure(figsize=(20, 17))\n",
    "for i in range(2):\n",
    "    idx = list(history.history.keys())[i]\n",
    "    plt.subplot(2, 1, i+1)\n",
    "    plt.ylabel(idx)\n",
    "    plt.xlabel('epoch')\n",
    "    plt.plot(history.history[idx])\n",
    "plt.show()"
   ]
  }
 ],
 "metadata": {
  "colab": {
   "collapsed_sections": [],
   "name": "mnist_convnet",
   "provenance": [],
   "toc_visible": true
  },
  "kernelspec": {
   "display_name": "Python 3 (ipykernel)",
   "language": "python",
   "name": "python3"
  },
  "language_info": {
   "codemirror_mode": {
    "name": "ipython",
    "version": 3
   },
   "file_extension": ".py",
   "mimetype": "text/x-python",
   "name": "python",
   "nbconvert_exporter": "python",
   "pygments_lexer": "ipython3",
   "version": "3.9.12"
  }
 },
 "nbformat": 4,
 "nbformat_minor": 1
}
