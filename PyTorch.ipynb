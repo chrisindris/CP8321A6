{
 "cells": [
  {
   "cell_type": "markdown",
   "metadata": {
    "id": "okBVJ7OSkxhq"
   },
   "source": [
    "# MNIST CNN in PyTorch\n",
    "\n",
    "Followed from [this tutorial](https://nextjournal.com/gkoehler/pytorch-mnist) and [this for visualizations](https://medium.com/dataseries/visualizing-the-feature-maps-and-filters-by-convolutional-neural-networks-e1462340518e). Used also for CP8321 A5."
   ]
  },
  {
   "cell_type": "code",
   "execution_count": 8,
   "metadata": {},
   "outputs": [
    {
     "name": "stdout",
     "output_type": "stream",
     "text": [
      "Requirement already satisfied: torch in /Users/lorybuttazzoni/opt/anaconda3/lib/python3.9/site-packages (1.13.0)\n",
      "Requirement already satisfied: torchvision in /Users/lorybuttazzoni/opt/anaconda3/lib/python3.9/site-packages (0.14.0)\n",
      "Collecting tensorflow\n",
      "  Using cached tensorflow-2.10.0-cp39-cp39-macosx_10_14_x86_64.whl (241.2 MB)\n",
      "Requirement already satisfied: typing-extensions in /Users/lorybuttazzoni/opt/anaconda3/lib/python3.9/site-packages (from torch) (4.1.1)\n",
      "Requirement already satisfied: numpy in /Users/lorybuttazzoni/opt/anaconda3/lib/python3.9/site-packages (from torchvision) (1.21.5)\n",
      "Requirement already satisfied: requests in /Users/lorybuttazzoni/opt/anaconda3/lib/python3.9/site-packages (from torchvision) (2.27.1)\n",
      "Requirement already satisfied: pillow!=8.3.*,>=5.3.0 in /Users/lorybuttazzoni/opt/anaconda3/lib/python3.9/site-packages (from torchvision) (9.0.1)\n",
      "Collecting absl-py>=1.0.0\n",
      "  Using cached absl_py-1.3.0-py3-none-any.whl (124 kB)\n",
      "Collecting keras-preprocessing>=1.1.1\n",
      "  Using cached Keras_Preprocessing-1.1.2-py2.py3-none-any.whl (42 kB)\n",
      "Collecting gast<=0.4.0,>=0.2.1\n",
      "  Using cached gast-0.4.0-py3-none-any.whl (9.8 kB)\n",
      "Collecting flatbuffers>=2.0\n",
      "  Using cached flatbuffers-22.10.26-py2.py3-none-any.whl (26 kB)\n",
      "Requirement already satisfied: grpcio<2.0,>=1.24.3 in /Users/lorybuttazzoni/opt/anaconda3/lib/python3.9/site-packages (from tensorflow) (1.42.0)\n",
      "Collecting tensorflow-estimator<2.11,>=2.10.0\n",
      "  Using cached tensorflow_estimator-2.10.0-py2.py3-none-any.whl (438 kB)\n",
      "Requirement already satisfied: packaging in /Users/lorybuttazzoni/opt/anaconda3/lib/python3.9/site-packages (from tensorflow) (21.3)\n",
      "Requirement already satisfied: setuptools in /Users/lorybuttazzoni/opt/anaconda3/lib/python3.9/site-packages (from tensorflow) (61.2.0)\n",
      "Requirement already satisfied: wrapt>=1.11.0 in /Users/lorybuttazzoni/opt/anaconda3/lib/python3.9/site-packages (from tensorflow) (1.12.1)\n",
      "Collecting tensorflow-io-gcs-filesystem>=0.23.1\n",
      "  Using cached tensorflow_io_gcs_filesystem-0.27.0-cp39-cp39-macosx_10_14_x86_64.whl (1.6 MB)\n",
      "Requirement already satisfied: six>=1.12.0 in /Users/lorybuttazzoni/opt/anaconda3/lib/python3.9/site-packages (from tensorflow) (1.16.0)\n",
      "Collecting keras<2.11,>=2.10.0\n",
      "  Using cached keras-2.10.0-py2.py3-none-any.whl (1.7 MB)\n",
      "Collecting tensorboard<2.11,>=2.10\n",
      "  Using cached tensorboard-2.10.1-py3-none-any.whl (5.9 MB)\n",
      "Collecting google-pasta>=0.1.1\n",
      "  Using cached google_pasta-0.2.0-py3-none-any.whl (57 kB)\n",
      "Collecting termcolor>=1.1.0\n",
      "  Using cached termcolor-2.1.0-py3-none-any.whl (5.8 kB)\n",
      "Requirement already satisfied: protobuf<3.20,>=3.9.2 in /Users/lorybuttazzoni/opt/anaconda3/lib/python3.9/site-packages (from tensorflow) (3.19.1)\n",
      "Collecting libclang>=13.0.0\n",
      "  Using cached libclang-14.0.6-py2.py3-none-macosx_10_9_x86_64.whl (13.2 MB)\n",
      "Requirement already satisfied: h5py>=2.9.0 in /Users/lorybuttazzoni/opt/anaconda3/lib/python3.9/site-packages (from tensorflow) (3.6.0)\n",
      "Collecting opt-einsum>=2.3.2\n",
      "  Using cached opt_einsum-3.3.0-py3-none-any.whl (65 kB)\n",
      "Collecting astunparse>=1.6.0\n",
      "  Using cached astunparse-1.6.3-py2.py3-none-any.whl (12 kB)\n",
      "Requirement already satisfied: wheel<1.0,>=0.23.0 in /Users/lorybuttazzoni/opt/anaconda3/lib/python3.9/site-packages (from astunparse>=1.6.0->tensorflow) (0.37.1)\n",
      "Collecting google-auth-oauthlib<0.5,>=0.4.1\n",
      "  Using cached google_auth_oauthlib-0.4.6-py2.py3-none-any.whl (18 kB)\n",
      "Requirement already satisfied: werkzeug>=1.0.1 in /Users/lorybuttazzoni/opt/anaconda3/lib/python3.9/site-packages (from tensorboard<2.11,>=2.10->tensorflow) (2.0.3)\n",
      "Collecting tensorboard-data-server<0.7.0,>=0.6.0\n",
      "  Using cached tensorboard_data_server-0.6.1-py3-none-macosx_10_9_x86_64.whl (3.5 MB)\n",
      "Collecting tensorboard-plugin-wit>=1.6.0\n",
      "  Using cached tensorboard_plugin_wit-1.8.1-py3-none-any.whl (781 kB)\n",
      "Requirement already satisfied: google-auth<3,>=1.6.3 in /Users/lorybuttazzoni/opt/anaconda3/lib/python3.9/site-packages (from tensorboard<2.11,>=2.10->tensorflow) (1.33.0)\n",
      "Requirement already satisfied: markdown>=2.6.8 in /Users/lorybuttazzoni/opt/anaconda3/lib/python3.9/site-packages (from tensorboard<2.11,>=2.10->tensorflow) (3.3.4)\n",
      "Requirement already satisfied: pyasn1-modules>=0.2.1 in /Users/lorybuttazzoni/opt/anaconda3/lib/python3.9/site-packages (from google-auth<3,>=1.6.3->tensorboard<2.11,>=2.10->tensorflow) (0.2.8)\n",
      "Requirement already satisfied: cachetools<5.0,>=2.0.0 in /Users/lorybuttazzoni/opt/anaconda3/lib/python3.9/site-packages (from google-auth<3,>=1.6.3->tensorboard<2.11,>=2.10->tensorflow) (4.2.2)\n",
      "Requirement already satisfied: rsa<5,>=3.1.4 in /Users/lorybuttazzoni/opt/anaconda3/lib/python3.9/site-packages (from google-auth<3,>=1.6.3->tensorboard<2.11,>=2.10->tensorflow) (4.7.2)\n",
      "Collecting requests-oauthlib>=0.7.0\n",
      "  Using cached requests_oauthlib-1.3.1-py2.py3-none-any.whl (23 kB)\n",
      "Requirement already satisfied: pyasn1<0.5.0,>=0.4.6 in /Users/lorybuttazzoni/opt/anaconda3/lib/python3.9/site-packages (from pyasn1-modules>=0.2.1->google-auth<3,>=1.6.3->tensorboard<2.11,>=2.10->tensorflow) (0.4.8)\n",
      "Requirement already satisfied: charset-normalizer~=2.0.0 in /Users/lorybuttazzoni/opt/anaconda3/lib/python3.9/site-packages (from requests->torchvision) (2.0.4)\n",
      "Requirement already satisfied: idna<4,>=2.5 in /Users/lorybuttazzoni/opt/anaconda3/lib/python3.9/site-packages (from requests->torchvision) (3.3)\n",
      "Requirement already satisfied: urllib3<1.27,>=1.21.1 in /Users/lorybuttazzoni/opt/anaconda3/lib/python3.9/site-packages (from requests->torchvision) (1.26.9)\n",
      "Requirement already satisfied: certifi>=2017.4.17 in /Users/lorybuttazzoni/opt/anaconda3/lib/python3.9/site-packages (from requests->torchvision) (2022.9.24)\n",
      "Collecting oauthlib>=3.0.0\n",
      "  Using cached oauthlib-3.2.2-py3-none-any.whl (151 kB)\n",
      "Requirement already satisfied: pyparsing!=3.0.5,>=2.0.2 in /Users/lorybuttazzoni/opt/anaconda3/lib/python3.9/site-packages (from packaging->tensorflow) (3.0.4)\n",
      "Installing collected packages: oauthlib, requests-oauthlib, tensorboard-plugin-wit, tensorboard-data-server, google-auth-oauthlib, absl-py, termcolor, tensorflow-io-gcs-filesystem, tensorflow-estimator, tensorboard, opt-einsum, libclang, keras-preprocessing, keras, google-pasta, gast, flatbuffers, astunparse, tensorflow\n",
      "Successfully installed absl-py-1.3.0 astunparse-1.6.3 flatbuffers-22.10.26 gast-0.4.0 google-auth-oauthlib-0.4.6 google-pasta-0.2.0 keras-2.10.0 keras-preprocessing-1.1.2 libclang-14.0.6 oauthlib-3.2.2 opt-einsum-3.3.0 requests-oauthlib-1.3.1 tensorboard-2.10.1 tensorboard-data-server-0.6.1 tensorboard-plugin-wit-1.8.1 tensorflow-2.10.0 tensorflow-estimator-2.10.0 tensorflow-io-gcs-filesystem-0.27.0 termcolor-2.1.0\n"
     ]
    }
   ],
   "source": [
    "!pip install torch torchvision tensorflow"
   ]
  },
  {
   "cell_type": "code",
   "execution_count": 9,
   "metadata": {
    "id": "glL-uTP8xaOQ"
   },
   "outputs": [
    {
     "name": "stderr",
     "output_type": "stream",
     "text": [
      "2022-11-13 18:13:01.217238: I tensorflow/core/platform/cpu_feature_guard.cc:193] This TensorFlow binary is optimized with oneAPI Deep Neural Network Library (oneDNN) to use the following CPU instructions in performance-critical operations:  AVX2 FMA\n",
      "To enable them in other operations, rebuild TensorFlow with the appropriate compiler flags.\n"
     ]
    }
   ],
   "source": [
    "import torch\n",
    "import torchvision\n",
    "import matplotlib.pyplot as plt\n",
    "import numpy as np\n",
    "import tensorflow as tf\n",
    "\n",
    "import torch.nn as nn\n",
    "import torch.nn.functional as F\n",
    "import torch.optim as optim"
   ]
  },
  {
   "cell_type": "markdown",
   "metadata": {
    "id": "pjtTSiy6mMJN"
   },
   "source": [
    "### Hyperparameters"
   ]
  },
  {
   "cell_type": "code",
   "execution_count": 13,
   "metadata": {
    "colab": {
     "base_uri": "https://localhost:8080/"
    },
    "id": "Tt2JtmvKxomn",
    "outputId": "898d98b0-69d0-401a-b1c9-b728085f1c46"
   },
   "outputs": [
    {
     "data": {
      "text/plain": [
       "<torch._C.Generator at 0x7fcfb0b39690>"
      ]
     },
     "execution_count": 13,
     "metadata": {},
     "output_type": "execute_result"
    }
   ],
   "source": [
    "n_epochs = 3 # we can do more than 3 epochs.\n",
    "batch_size_train = 64\n",
    "batch_size_test = 1000\n",
    "learning_rate = 0.01\n",
    "momentum = 0.5\n",
    "log_interval = 10\n",
    "\n",
    "random_seed = 1\n",
    "torch.backends.cudnn.enabled = False\n",
    "torch.manual_seed(random_seed)"
   ]
  },
  {
   "cell_type": "markdown",
   "metadata": {
    "id": "oS2R2gr4mQhl"
   },
   "source": [
    "### Data"
   ]
  },
  {
   "cell_type": "code",
   "execution_count": 15,
   "metadata": {
    "colab": {
     "base_uri": "https://localhost:8080/",
     "height": 431,
     "referenced_widgets": [
      "59955a8db8da4fb9814f804dc8bfa6c7",
      "a51066cf5f3240b18a28c29b93bfb44c",
      "ce16c4d3fffa4ced8df41b58c39f1331",
      "2044699725d94225b1ceae6aae8e8a9c",
      "e3c853b0b2764333ad52356e2a14a4f4",
      "41362678efc04be5857042ade513c366",
      "2f79e5d8be0b4ed68d3fd478ea6a8a83",
      "1466ad5f698e459e840a7813e5d75450",
      "68a61dad9c8e48a2bb6b11a31dbe9fb1",
      "c6faa735a0784c67b2c33e43fe1bacb1",
      "1e1c7d6a812e449db139c8853d9cfb80",
      "fa9eb52a18b549f28f60ed447a316c0a",
      "fb90ca245758489eb86317e8e940bdec",
      "7780b5cc86774db5945a029aec5a3b43",
      "5c914350fda1451686fd2a929ab42a06",
      "a3e9a0d8f4724412b4d0cb11ba7f613e",
      "07615fc58c85434683d131dabe659fb8",
      "d2793909d8dd4dd1862aae5bbf10ac2a",
      "bd1215a69f5848a0bc3d3af8997564fa",
      "05665de1ebb04eab99c7c6a4499b0662",
      "da235270b9ff422a8127f9f081d95833",
      "f18bf9abbda743f9a0245524887041f9",
      "f2057c39d740439d9c320414de1db673",
      "73dd44fcabdc4ba5b29566503f3cd4ca",
      "b047344fbe4344a69168fedf7ad09e0f",
      "7b73549f99be4844b883d3d1c0725bdf",
      "e24a49ff7c364f5191c34b9007a326b2",
      "13412885e84a40bc90d394985dabe8f5",
      "87e84db02c4949ac9ca8a51d953e1563",
      "027b2a01c3aa4bf292d204f0b43e02fe",
      "7feb27b9eb274b19bcaaabc046784719",
      "742f3455fb774a449c49bf7d4b517821",
      "c6e4da2425b542eca2b8397283552c17",
      "ca93df9c0ff744209b059df51f1beb24",
      "084d884300f94d9596e603e02c8ab8e8",
      "6863b73f063242a3ba3238b6c7b09b89",
      "c3df6522189146ff91947b3f7c49a127",
      "a1eadcc54d20460b9094e24e4dd77bda",
      "248868f864384511978248968931f58e",
      "d719ffbc91f8423db7b26331f8dca64b",
      "0b92451446d845548a4fc5fd8b08d0c9",
      "3e7ef6778ee14e8e874fc48f4adbcbe4",
      "02f6f38194af48e0a215fd0122ef545e",
      "404c6ce41cc240ecb2dd880248813323"
     ]
    },
    "id": "f08VFHvbxp9G",
    "outputId": "21663412-e7e5-4068-8e04-6b3d2c748230"
   },
   "outputs": [
    {
     "name": "stdout",
     "output_type": "stream",
     "text": [
      "Downloading http://yann.lecun.com/exdb/mnist/train-images-idx3-ubyte.gz\n",
      "Downloading http://yann.lecun.com/exdb/mnist/train-images-idx3-ubyte.gz to ./files/MNIST/raw/train-images-idx3-ubyte.gz\n"
     ]
    },
    {
     "data": {
      "application/vnd.jupyter.widget-view+json": {
       "model_id": "b08fee49095740b1ba54a06dfaa1f32c",
       "version_major": 2,
       "version_minor": 0
      },
      "text/plain": [
       "  0%|          | 0/9912422 [00:00<?, ?it/s]"
      ]
     },
     "metadata": {},
     "output_type": "display_data"
    },
    {
     "name": "stdout",
     "output_type": "stream",
     "text": [
      "Extracting ./files/MNIST/raw/train-images-idx3-ubyte.gz to ./files/MNIST/raw\n",
      "\n",
      "Downloading http://yann.lecun.com/exdb/mnist/train-labels-idx1-ubyte.gz\n",
      "Downloading http://yann.lecun.com/exdb/mnist/train-labels-idx1-ubyte.gz to ./files/MNIST/raw/train-labels-idx1-ubyte.gz\n"
     ]
    },
    {
     "data": {
      "application/vnd.jupyter.widget-view+json": {
       "model_id": "5538ca67dfc242e9aa9ec6aa83b7ddba",
       "version_major": 2,
       "version_minor": 0
      },
      "text/plain": [
       "  0%|          | 0/28881 [00:00<?, ?it/s]"
      ]
     },
     "metadata": {},
     "output_type": "display_data"
    },
    {
     "name": "stdout",
     "output_type": "stream",
     "text": [
      "Extracting ./files/MNIST/raw/train-labels-idx1-ubyte.gz to ./files/MNIST/raw\n",
      "\n",
      "Downloading http://yann.lecun.com/exdb/mnist/t10k-images-idx3-ubyte.gz\n",
      "Downloading http://yann.lecun.com/exdb/mnist/t10k-images-idx3-ubyte.gz to ./files/MNIST/raw/t10k-images-idx3-ubyte.gz\n"
     ]
    },
    {
     "data": {
      "application/vnd.jupyter.widget-view+json": {
       "model_id": "68ea7a0c415f4e9b9c180154448101b9",
       "version_major": 2,
       "version_minor": 0
      },
      "text/plain": [
       "  0%|          | 0/1648877 [00:00<?, ?it/s]"
      ]
     },
     "metadata": {},
     "output_type": "display_data"
    },
    {
     "name": "stdout",
     "output_type": "stream",
     "text": [
      "Extracting ./files/MNIST/raw/t10k-images-idx3-ubyte.gz to ./files/MNIST/raw\n",
      "\n",
      "Downloading http://yann.lecun.com/exdb/mnist/t10k-labels-idx1-ubyte.gz\n",
      "Downloading http://yann.lecun.com/exdb/mnist/t10k-labels-idx1-ubyte.gz to ./files/MNIST/raw/t10k-labels-idx1-ubyte.gz\n"
     ]
    },
    {
     "data": {
      "application/vnd.jupyter.widget-view+json": {
       "model_id": "df3524469cb44001bf5b87ff278d9ffa",
       "version_major": 2,
       "version_minor": 0
      },
      "text/plain": [
       "  0%|          | 0/4542 [00:00<?, ?it/s]"
      ]
     },
     "metadata": {},
     "output_type": "display_data"
    },
    {
     "name": "stdout",
     "output_type": "stream",
     "text": [
      "Extracting ./files/MNIST/raw/t10k-labels-idx1-ubyte.gz to ./files/MNIST/raw\n",
      "\n"
     ]
    }
   ],
   "source": [
    "train_dataset = torchvision.datasets.MNIST('./files/', train=True, download=True,\n",
    "                             transform=torchvision.transforms.Compose([\n",
    "                               torchvision.transforms.ToTensor(),\n",
    "                               torchvision.transforms.Normalize(\n",
    "                                 (0.1307,), (0.3081,))\n",
    "                             ]))\n",
    "\n",
    "test_dataset = torchvision.datasets.MNIST('./files/', train=False, download=True,\n",
    "                             transform=torchvision.transforms.Compose([\n",
    "                               torchvision.transforms.ToTensor(),\n",
    "                               torchvision.transforms.Normalize(\n",
    "                                 (0.1307,), (0.3081,))\n",
    "                             ]))\n",
    "\n",
    "\n",
    "train_loader = torch.utils.data.DataLoader(train_dataset, \n",
    "                                           batch_size=batch_size_train, \n",
    "                                           shuffle=True)\n",
    "\n",
    "test_loader = torch.utils.data.DataLoader(test_dataset, \n",
    "                                          batch_size=batch_size_test, \n",
    "                                          shuffle=True)"
   ]
  },
  {
   "cell_type": "code",
   "execution_count": 16,
   "metadata": {
    "colab": {
     "base_uri": "https://localhost:8080/"
    },
    "id": "lloVtQRBIPVb",
    "outputId": "a9190b61-b8e8-425e-a0eb-45d87c8c76c5"
   },
   "outputs": [
    {
     "name": "stdout",
     "output_type": "stream",
     "text": [
      "Batches in Train Loader: 938\n",
      "Batches in Test Loader: 10\n",
      "Examples in Train Loader: 60000\n",
      "Examples in Test Loader: 10000\n"
     ]
    }
   ],
   "source": [
    "print(\"Batches in Train Loader: {}\".format(len(train_loader)))\n",
    "print(\"Batches in Test Loader: {}\".format(len(test_loader)))\n",
    "\n",
    "print(\"Examples in Train Loader: {}\".format(len(train_loader.sampler)))\n",
    "print(\"Examples in Test Loader: {}\".format(len(test_loader.sampler)))"
   ]
  },
  {
   "cell_type": "code",
   "execution_count": 17,
   "metadata": {
    "id": "Q5XfFuWAxuA1"
   },
   "outputs": [],
   "source": [
    "examples = enumerate(test_loader)\n",
    "batch_idx, (example_data, example_targets) = next(examples)"
   ]
  },
  {
   "cell_type": "markdown",
   "metadata": {
    "id": "han2nb_-mkcN"
   },
   "source": [
    "The size of the data:"
   ]
  },
  {
   "cell_type": "code",
   "execution_count": 18,
   "metadata": {
    "colab": {
     "base_uri": "https://localhost:8080/"
    },
    "id": "XNPz-Yekxx4D",
    "outputId": "ad1b63bd-1480-4264-db1c-eaf328f0e115"
   },
   "outputs": [
    {
     "data": {
      "text/plain": [
       "torch.Size([1000, 1, 28, 28])"
      ]
     },
     "execution_count": 18,
     "metadata": {},
     "output_type": "execute_result"
    }
   ],
   "source": [
    "example_data.shape"
   ]
  },
  {
   "cell_type": "markdown",
   "metadata": {
    "id": "ZqzLSO6Gmem8"
   },
   "source": [
    "Let's see some cases; example images and their ground truth classes."
   ]
  },
  {
   "cell_type": "code",
   "execution_count": 19,
   "metadata": {
    "colab": {
     "base_uri": "https://localhost:8080/",
     "height": 551
    },
    "id": "wWlTPdISx32M",
    "outputId": "85068b0f-5dcb-4bd8-9cda-722aa4aa593c"
   },
   "outputs": [
    {
     "data": {
      "image/png": "[encoded data removed]",
      "text/plain": [
       "<Figure size 432x288 with 6 Axes>"
      ]
     },
     "execution_count": 19,
     "metadata": {},
     "output_type": "execute_result"
    },
    {
     "data": {
      "image/png": "[encoded data removed]",
      "text/plain": [
       "<Figure size 432x288 with 6 Axes>"
      ]
     },
     "metadata": {},
     "output_type": "display_data"
    }
   ],
   "source": [
    "fig = plt.figure()\n",
    "for i in range(6):\n",
    "  plt.subplot(2,3,i+1)\n",
    "  plt.tight_layout()\n",
    "  plt.imshow(example_data[i][0], cmap='gray', interpolation='none')\n",
    "  plt.title(\"Ground Truth: {}\".format(example_targets[i]))\n",
    "  plt.xticks([])\n",
    "  plt.yticks([])\n",
    "fig"
   ]
  },
  {
   "cell_type": "markdown",
   "metadata": {
    "id": "mxdR2nC7mow2"
   },
   "source": [
    "### Model Architecture\n",
    "\n",
    "We have two conv layers and two fully-connected layers, with dropout between them."
   ]
  },
  {
   "cell_type": "code",
   "execution_count": 20,
   "metadata": {
    "id": "8KAuFR21yE2w"
   },
   "outputs": [],
   "source": [
    "from os import name\n",
    "class Net(nn.Module):\n",
    "    def __init__(self):\n",
    "        super(Net, self).__init__()\n",
    "        self.conv1 = nn.Conv2d(1, 10, kernel_size=5)\n",
    "        self.conv2 = nn.Conv2d(10, 20, kernel_size=5)\n",
    "        self.conv2_drop = nn.Dropout2d()\n",
    "        self.fc1 = nn.Linear(320, 50) # original: 320 x 50\n",
    "        self.fc2 = nn.Linear(50, 10)\n",
    "\n",
    "    def forward(self, x):\n",
    "        x = F.relu(F.max_pool2d(self.conv1(x), 2))\n",
    "        x = F.relu(F.max_pool2d(self.conv2_drop(self.conv2(x)), 2))\n",
    "        x = x.view(-1, 320)\n",
    "        x = F.relu(self.fc1(x))\n",
    "        x = F.dropout(x, training=self.training)\n",
    "        x = self.fc2(x)\n",
    "        return F.log_softmax(x)"
   ]
  },
  {
   "cell_type": "code",
   "execution_count": 21,
   "metadata": {
    "id": "dEfcBYegyQsC"
   },
   "outputs": [],
   "source": [
    "network = Net()\n",
    "optimizer = optim.SGD(network.parameters(), lr=learning_rate,\n",
    "                      momentum=momentum)"
   ]
  },
  {
   "cell_type": "markdown",
   "metadata": {
    "id": "WYAwgLShm1sd"
   },
   "source": [
    "To keep track of losses and the epoch count, for printing to the console."
   ]
  },
  {
   "cell_type": "code",
   "execution_count": 22,
   "metadata": {
    "id": "XHoLFmahyU9D"
   },
   "outputs": [],
   "source": [
    "train_losses = []\n",
    "train_counter = []\n",
    "test_losses = []\n",
    "test_counter = [i*len(train_loader.dataset) for i in range(n_epochs + 1)]"
   ]
  },
  {
   "cell_type": "markdown",
   "metadata": {
    "id": "uBGa7Lsw6WzL"
   },
   "source": [
    "### Initial Values\n",
    "\n",
    "Let's inspect the size of the layers and their initial weight values."
   ]
  },
  {
   "cell_type": "code",
   "execution_count": 23,
   "metadata": {
    "colab": {
     "base_uri": "https://localhost:8080/"
    },
    "id": "lV4_Ho-ayzf2",
    "outputId": "93c44221-8897-4885-afcd-1371e66c20a6"
   },
   "outputs": [
    {
     "name": "stdout",
     "output_type": "stream",
     "text": [
      "<class 'torch.Tensor'> torch.Size([10, 1, 5, 5])\n",
      "<class 'torch.Tensor'> torch.Size([10])\n",
      "<class 'torch.Tensor'> torch.Size([20, 10, 5, 5])\n",
      "<class 'torch.Tensor'> torch.Size([20])\n",
      "<class 'torch.Tensor'> torch.Size([50, 320])\n",
      "<class 'torch.Tensor'> torch.Size([50])\n",
      "<class 'torch.Tensor'> torch.Size([10, 50])\n",
      "<class 'torch.Tensor'> torch.Size([10])\n",
      "torch.Size([10, 1, 5, 5])\n",
      "torch.Size([20, 10, 5, 5])\n",
      "torch.Size([50, 320])\n",
      "torch.Size([10, 50])\n",
      "Parameter containing:\n",
      "tensor([[[[-0.1883,  0.1199, -0.0411,  0.1017,  0.0278],\n",
      "          [-0.0245,  0.0555,  0.0099,  0.0730, -0.0779],\n",
      "          [-0.0146, -0.0180,  0.0290, -0.0008,  0.1748],\n",
      "          [ 0.0622, -0.0745, -0.1208, -0.0335, -0.0863],\n",
      "          [-0.0641,  0.0096,  0.1192,  0.1087, -0.1955]]],\n",
      "\n",
      "\n",
      "        [[[ 0.1240,  0.0559,  0.1897,  0.1320, -0.1822],\n",
      "          [-0.1902, -0.0965,  0.1756, -0.0333,  0.0856],\n",
      "          [-0.0929,  0.1962, -0.0846,  0.1500,  0.0024],\n",
      "          [-0.1054,  0.1028, -0.1062,  0.0588, -0.0578],\n",
      "          [-0.0219, -0.1923, -0.0954,  0.1085, -0.0486]]],\n",
      "\n",
      "\n",
      "        [[[ 0.1992,  0.1603, -0.0094, -0.1335,  0.1218],\n",
      "          [ 0.0621, -0.1293,  0.1299,  0.1214,  0.1774],\n",
      "          [-0.1121, -0.0329, -0.0039,  0.0292, -0.1518],\n",
      "          [-0.1419,  0.1088, -0.0469,  0.0977,  0.0114],\n",
      "          [ 0.0657,  0.0440,  0.0727,  0.0991, -0.1852]]],\n",
      "\n",
      "\n",
      "        [[[ 0.1007, -0.1406, -0.1509,  0.0122, -0.0341],\n",
      "          [ 0.1175, -0.1158, -0.1778,  0.1456, -0.0297],\n",
      "          [ 0.1125,  0.0643, -0.1500,  0.0402,  0.0480],\n",
      "          [-0.1339, -0.0949,  0.0682,  0.0358, -0.0851],\n",
      "          [-0.0605,  0.1832, -0.0370,  0.1128,  0.0866]]],\n",
      "\n",
      "\n",
      "        [[[-0.1293, -0.1701,  0.1920,  0.0104,  0.1371],\n",
      "          [ 0.0414,  0.0643,  0.1494,  0.1896, -0.1327],\n",
      "          [ 0.0250,  0.1493,  0.1449,  0.1242, -0.1447],\n",
      "          [-0.1440, -0.1210,  0.0251,  0.1993, -0.1263],\n",
      "          [ 0.1066, -0.1107, -0.1880, -0.0425,  0.1152]]],\n",
      "\n",
      "\n",
      "        [[[ 0.1857, -0.1242,  0.0434,  0.1726,  0.1325],\n",
      "          [ 0.1246,  0.1421,  0.1265,  0.0517, -0.1368],\n",
      "          [-0.1680, -0.0916, -0.0233, -0.1226,  0.0732],\n",
      "          [ 0.0619, -0.0453,  0.0769,  0.0646,  0.1221],\n",
      "          [ 0.1347, -0.0677,  0.1954, -0.0231, -0.0069]]],\n",
      "\n",
      "\n",
      "        [[[-0.1888, -0.1287, -0.1168, -0.0855,  0.1422],\n",
      "          [-0.0654, -0.1495,  0.0769,  0.0640,  0.1295],\n",
      "          [-0.1035,  0.0434, -0.0728, -0.0449, -0.1594],\n",
      "          [-0.0912, -0.0613,  0.0855,  0.0365,  0.0494],\n",
      "          [ 0.1996,  0.1949,  0.1364,  0.0064, -0.1384]]],\n",
      "\n",
      "\n",
      "        [[[ 0.1563, -0.0500, -0.0162, -0.1723, -0.0395],\n",
      "          [-0.1290,  0.1838, -0.1729, -0.1559, -0.0068],\n",
      "          [-0.1081,  0.0716, -0.0770, -0.0939,  0.0113],\n",
      "          [ 0.1448, -0.1407,  0.0939,  0.1285,  0.1956],\n",
      "          [-0.1400,  0.0484, -0.1479,  0.1708, -0.0776]]],\n",
      "\n",
      "\n",
      "        [[[ 0.1205,  0.0060, -0.0156, -0.0064,  0.0340],\n",
      "          [ 0.0943,  0.0321,  0.0610, -0.1799,  0.1457],\n",
      "          [ 0.1744,  0.1653,  0.1478, -0.1443, -0.0741],\n",
      "          [ 0.1763, -0.1523,  0.1814, -0.1573, -0.1409],\n",
      "          [ 0.0978, -0.1437, -0.0458,  0.1455,  0.1584]]],\n",
      "\n",
      "\n",
      "        [[[ 0.1892, -0.0406, -0.1555,  0.1969, -0.0426],\n",
      "          [-0.0823,  0.0488, -0.1399,  0.1315,  0.1253],\n",
      "          [-0.1587, -0.1643, -0.0175,  0.0840, -0.0058],\n",
      "          [-0.1014,  0.0046, -0.1880, -0.1414, -0.1331],\n",
      "          [ 0.1647,  0.1763, -0.0679,  0.0090,  0.0892]]]], requires_grad=True)\n",
      "Parameter containing:\n",
      "tensor([[-0.0551, -0.0376, -0.0987, -0.0821, -0.0229, -0.0977, -0.0934, -0.0456,\n",
      "          0.0127, -0.0381,  0.0785,  0.0749,  0.1089,  0.1024,  0.0963,  0.0719,\n",
      "          0.0045, -0.1369, -0.0322, -0.0589,  0.0295, -0.1179, -0.0502, -0.1398,\n",
      "          0.1312,  0.1253, -0.0915,  0.0564,  0.0974,  0.0276, -0.0884,  0.0920,\n",
      "          0.0209,  0.0582, -0.0331, -0.1151, -0.0758, -0.1134,  0.0709, -0.0176,\n",
      "          0.0131,  0.1225, -0.0526, -0.0572,  0.1278,  0.0445,  0.0784,  0.1413,\n",
      "         -0.0802,  0.1277],\n",
      "        [ 0.1047,  0.0780, -0.1086,  0.0201, -0.0269, -0.1092,  0.0657,  0.0946,\n",
      "         -0.0505, -0.0380,  0.0428, -0.1396,  0.0644,  0.0628, -0.0621,  0.0314,\n",
      "         -0.0136,  0.0673,  0.0621,  0.1134,  0.1106, -0.1384, -0.1208,  0.1079,\n",
      "          0.0567,  0.1219,  0.0948,  0.0620, -0.1059, -0.0421,  0.0878,  0.0446,\n",
      "         -0.0367, -0.0091,  0.0436,  0.1401, -0.0658,  0.0771, -0.0180, -0.1243,\n",
      "          0.0921, -0.0951, -0.1301,  0.1045, -0.0844,  0.0254,  0.0037, -0.0415,\n",
      "         -0.0761, -0.0645],\n",
      "        [-0.0913,  0.0940,  0.1265, -0.0649,  0.0992,  0.0229,  0.0762,  0.1240,\n",
      "          0.0755,  0.1281, -0.0238,  0.0099, -0.0768,  0.0004, -0.0834, -0.1327,\n",
      "         -0.0989,  0.0334, -0.1354, -0.1325, -0.1027, -0.0958, -0.0868,  0.0664,\n",
      "         -0.1187,  0.0046, -0.1398, -0.0030, -0.0602, -0.1179,  0.0646,  0.0853,\n",
      "         -0.0572, -0.1390,  0.1049, -0.0161,  0.0943,  0.1206, -0.0923, -0.0378,\n",
      "         -0.0068,  0.0624,  0.1318,  0.0328, -0.1164,  0.1149,  0.0335,  0.0696,\n",
      "          0.1181, -0.0834],\n",
      "        [ 0.0235, -0.1272,  0.0052,  0.0625,  0.0532, -0.0346, -0.0029,  0.1294,\n",
      "         -0.0776, -0.0858,  0.1093, -0.0046, -0.0539,  0.0353, -0.0767,  0.0558,\n",
      "          0.0392,  0.1381,  0.1022, -0.0104, -0.0872, -0.0748,  0.0777, -0.0860,\n",
      "          0.0973, -0.0902, -0.0837,  0.0934, -0.0721,  0.0697,  0.1227,  0.0613,\n",
      "          0.0995,  0.0921, -0.1000,  0.0407,  0.0414,  0.1194, -0.1229,  0.1219,\n",
      "          0.0294,  0.0892, -0.0928, -0.0324,  0.0896,  0.1236,  0.0143,  0.0390,\n",
      "          0.0354,  0.0691],\n",
      "        [ 0.0272,  0.1371,  0.0307, -0.0860,  0.0530, -0.1331,  0.0551,  0.0834,\n",
      "          0.0997, -0.0904,  0.0688,  0.1038, -0.0248, -0.0301, -0.0188, -0.0345,\n",
      "         -0.0492, -0.1259,  0.1383,  0.0902,  0.0724,  0.0183, -0.0634, -0.0347,\n",
      "          0.0398, -0.0088,  0.0246,  0.0594, -0.1286, -0.1037, -0.0669, -0.0455,\n",
      "          0.0217,  0.1307,  0.0496, -0.0191, -0.0297, -0.0310, -0.0045, -0.0060,\n",
      "         -0.0841,  0.1197, -0.0924, -0.1220,  0.1214, -0.0391, -0.0426, -0.0906,\n",
      "         -0.0709, -0.1220],\n",
      "        [ 0.0339,  0.0492, -0.0543, -0.1064,  0.0999, -0.1009,  0.1311,  0.0455,\n",
      "         -0.1370, -0.1325, -0.1225,  0.0152, -0.1311,  0.0935,  0.1284,  0.0280,\n",
      "          0.1379, -0.1077, -0.0800, -0.0284, -0.0501, -0.0964, -0.0468, -0.1382,\n",
      "          0.1236,  0.1249, -0.1057,  0.0267, -0.1128,  0.0621, -0.0494,  0.1345,\n",
      "          0.1283,  0.0552, -0.0991, -0.0983, -0.0904, -0.0261,  0.1321, -0.0850,\n",
      "         -0.0284, -0.0314,  0.1107, -0.0152,  0.0438, -0.0313, -0.1132, -0.0879,\n",
      "          0.0314, -0.0468],\n",
      "        [ 0.0062, -0.0393, -0.0971,  0.0854,  0.1110, -0.1159,  0.1189,  0.0101,\n",
      "          0.0043, -0.1026,  0.0965,  0.0788, -0.1250,  0.1016,  0.1199, -0.0293,\n",
      "          0.0484, -0.0970, -0.0556,  0.1009, -0.0979,  0.0554, -0.0249, -0.0171,\n",
      "          0.0923, -0.1008,  0.1324,  0.0744,  0.0059, -0.0052, -0.0553,  0.1068,\n",
      "         -0.1136,  0.1248,  0.1088,  0.1250, -0.0997, -0.1139,  0.1413,  0.0851,\n",
      "          0.0154,  0.0704,  0.1123,  0.0603,  0.0412,  0.0127,  0.1059,  0.0093,\n",
      "          0.0788, -0.0210],\n",
      "        [ 0.0951, -0.0641,  0.0513, -0.0026, -0.0071, -0.0471,  0.0728, -0.0069,\n",
      "          0.0753,  0.0657,  0.0762, -0.0725, -0.0225, -0.1189,  0.0941, -0.1390,\n",
      "          0.0099, -0.0917, -0.1130,  0.0621, -0.0684,  0.0742, -0.1289,  0.1009,\n",
      "          0.0682,  0.0095, -0.0505, -0.0562,  0.0582, -0.0138,  0.0773, -0.0786,\n",
      "         -0.1091,  0.0632, -0.1292, -0.0275,  0.0993,  0.0910, -0.0934,  0.0965,\n",
      "          0.0453,  0.0731, -0.0056,  0.0681,  0.1005, -0.0966, -0.0135, -0.0790,\n",
      "         -0.1165, -0.0971],\n",
      "        [-0.0430, -0.0210, -0.0502,  0.0221,  0.0362, -0.1278, -0.0441, -0.1264,\n",
      "          0.0127, -0.0806,  0.1320, -0.0880,  0.0141, -0.0500,  0.0889,  0.1186,\n",
      "          0.0938, -0.1144, -0.0626,  0.1174,  0.0915, -0.0447,  0.0265, -0.0641,\n",
      "         -0.1088,  0.0051,  0.1125, -0.0614, -0.0908, -0.0721, -0.0425,  0.1015,\n",
      "         -0.1130, -0.1304, -0.1185,  0.0816,  0.0462,  0.0318, -0.0533, -0.0321,\n",
      "         -0.1332,  0.1109, -0.1123, -0.0976,  0.0817, -0.0583,  0.0879, -0.1128,\n",
      "         -0.0688,  0.0280],\n",
      "        [ 0.0339, -0.0768,  0.0834,  0.0305, -0.1055, -0.0109,  0.1007,  0.0673,\n",
      "         -0.0190, -0.0202, -0.0014,  0.0029,  0.0217, -0.0439,  0.0603, -0.0842,\n",
      "         -0.0244, -0.0431, -0.0043, -0.0082, -0.0356,  0.0360,  0.0119,  0.0080,\n",
      "          0.0542,  0.0265,  0.0533,  0.0739, -0.0352,  0.0572, -0.0885, -0.0504,\n",
      "         -0.0286,  0.0476,  0.0791,  0.0386, -0.0607,  0.1006, -0.1117,  0.1289,\n",
      "         -0.0991, -0.1373, -0.0095,  0.1147,  0.1365, -0.1023, -0.0394,  0.0993,\n",
      "         -0.0866, -0.1302]], requires_grad=True)\n"
     ]
    }
   ],
   "source": [
    "for param in network.parameters():\n",
    "    print(type(param.data), param.size())\n",
    "print(network.conv1.weight.size())\n",
    "print(network.conv2.weight.size())\n",
    "print(network.fc1.weight.size())\n",
    "print(network.fc2.weight.size())\n",
    "print(network.conv1.weight)\n",
    "print(network.fc2.weight)"
   ]
  },
  {
   "cell_type": "markdown",
   "metadata": {
    "id": "V9FJqsIqnJp7"
   },
   "source": [
    "### Train\n",
    "\n",
    "This function will print out some info at regular intervals (100 times per epoch).\n",
    "\n",
    "It would be very messy to view the values stored in the large weight matrices every time, so I am printing out the norms of these matrices. We see that these change in the direction of a particular value, and do not get stuck at 0.\n",
    "\n",
    "While training, we can also check the values of the feature maps, filters and weights to see how they progress during backpropagation."
   ]
  },
  {
   "cell_type": "code",
   "execution_count": 24,
   "metadata": {
    "id": "aZSybmEWyWsS"
   },
   "outputs": [],
   "source": [
    "def train(epoch):\n",
    "  network.train()\n",
    "  for batch_idx, (data, target) in enumerate(train_loader):\n",
    "    optimizer.zero_grad()\n",
    "    output = network(data)\n",
    "    loss = F.nll_loss(output, target)\n",
    "    loss.backward()\n",
    "    optimizer.step()\n",
    "    if batch_idx % log_interval == 0:\n",
    "\n",
    "      c1 = float(torch.norm(network.conv1.weight.data))\n",
    "      c2 = float(torch.norm(network.conv2.weight.data))\n",
    "      f1 = float(torch.norm(network.fc1.weight.data))\n",
    "      f2 = float(torch.norm(network.fc2.weight.data))\n",
    "\n",
    "      print('Train Epoch: {} [{}/{} ({:.0f}%)]\\tLoss: {:.6f}'.format(\n",
    "        epoch, batch_idx * len(data), len(train_loader.dataset),\n",
    "        100. * batch_idx / len(train_loader), loss.item()))\n",
    "\n",
    "      print('Norms- conv1: {:.3f}, conv2: {:.3f}, fc1: {:.3f}, fc2: {:.3f}'.format(c1, c2, f1, f2))\n",
    "\n",
    "      train_losses.append(loss.item())\n",
    "      train_counter.append(\n",
    "        (batch_idx*64) + ((epoch-1)*len(train_loader.dataset)))\n",
    "      torch.save(network.state_dict(), './model.pth')\n",
    "      torch.save(optimizer.state_dict(), './optimizer.pth')"
   ]
  },
  {
   "cell_type": "markdown",
   "metadata": {
    "id": "CRFLXmCFn9rj"
   },
   "source": [
    "### Test\n",
    "\n",
    "After each epoch of training, we will test the network to see the predictions after that much training."
   ]
  },
  {
   "cell_type": "code",
   "execution_count": 25,
   "metadata": {
    "id": "sBDTwGei0-Yz"
   },
   "outputs": [],
   "source": [
    "def test():\n",
    "  network.eval()\n",
    "  test_loss = 0\n",
    "  correct = 0\n",
    "  with torch.no_grad():\n",
    "    for data, target in test_loader:\n",
    "      output = network(data)\n",
    "      test_loss += F.nll_loss(output, target, size_average=False).item()\n",
    "      pred = output.data.max(1, keepdim=True)[1]\n",
    "      correct += pred.eq(target.data.view_as(pred)).sum()\n",
    "  test_loss /= len(test_loader.dataset)\n",
    "  test_losses.append(test_loss)\n",
    "  print('\\nTest set: Avg. loss: {:.4f}, Accuracy: {}/{} ({:.0f}%)\\n'.format(\n",
    "    test_loss, correct, len(test_loader.dataset),\n",
    "    100. * correct / len(test_loader.dataset)))"
   ]
  },
  {
   "cell_type": "code",
   "execution_count": 26,
   "metadata": {
    "colab": {
     "base_uri": "https://localhost:8080/"
    },
    "id": "X-HfmvVc1MqI",
    "outputId": "f3e52a63-a549-4c1d-bbd0-0ee122f21089"
   },
   "outputs": [
    {
     "name": "stderr",
     "output_type": "stream",
     "text": [
      "/var/folders/78/px73zxmj5ks9051sxkyvbfd00000gn/T/ipykernel_23372/2026870952.py:18: UserWarning: Implicit dimension choice for log_softmax has been deprecated. Change the call to include dim=X as an argument.\n",
      "  return F.log_softmax(x)\n",
      "/Users/lorybuttazzoni/opt/anaconda3/lib/python3.9/site-packages/torch/nn/_reduction.py:42: UserWarning: size_average and reduce args will be deprecated, please use reduction='sum' instead.\n",
      "  warnings.warn(warning.format(ret))\n"
     ]
    },
    {
     "name": "stdout",
     "output_type": "stream",
     "text": [
      "\n",
      "Test set: Avg. loss: 2.3096, Accuracy: 924/10000 (9%)\n",
      "\n",
      "Train Epoch: 1 [0/60000 (0%)]\tLoss: 2.313179\n",
      "Norms- conv1: 1.847, conv2: 2.584, fc1: 4.082, fc2: 1.849\n",
      "Train Epoch: 1 [640/60000 (1%)]\tLoss: 2.300776\n",
      "Norms- conv1: 1.845, conv2: 2.583, fc1: 4.082, fc2: 1.847\n",
      "Train Epoch: 1 [1280/60000 (2%)]\tLoss: 2.298872\n",
      "Norms- conv1: 1.846, conv2: 2.584, fc1: 4.082, fc2: 1.848\n",
      "Train Epoch: 1 [1920/60000 (3%)]\tLoss: 2.276723\n",
      "Norms- conv1: 1.847, conv2: 2.585, fc1: 4.083, fc2: 1.849\n",
      "Train Epoch: 1 [2560/60000 (4%)]\tLoss: 2.241102\n",
      "Norms- conv1: 1.851, conv2: 2.588, fc1: 4.085, fc2: 1.853\n",
      "Train Epoch: 1 [3200/60000 (5%)]\tLoss: 2.248662\n",
      "Norms- conv1: 1.856, conv2: 2.592, fc1: 4.088, fc2: 1.858\n",
      "Train Epoch: 1 [3840/60000 (6%)]\tLoss: 2.189547\n",
      "Norms- conv1: 1.864, conv2: 2.598, fc1: 4.092, fc2: 1.866\n",
      "Train Epoch: 1 [4480/60000 (7%)]\tLoss: 2.146399\n",
      "Norms- conv1: 1.872, conv2: 2.604, fc1: 4.096, fc2: 1.875\n",
      "Train Epoch: 1 [5120/60000 (9%)]\tLoss: 2.107701\n",
      "Norms- conv1: 1.885, conv2: 2.614, fc1: 4.103, fc2: 1.888\n",
      "Train Epoch: 1 [5760/60000 (10%)]\tLoss: 2.011356\n",
      "Norms- conv1: 1.902, conv2: 2.627, fc1: 4.111, fc2: 1.905\n",
      "Train Epoch: 1 [6400/60000 (11%)]\tLoss: 1.843857\n",
      "Norms- conv1: 1.922, conv2: 2.643, fc1: 4.122, fc2: 1.926\n",
      "Train Epoch: 1 [7040/60000 (12%)]\tLoss: 1.758839\n",
      "Norms- conv1: 1.946, conv2: 2.660, fc1: 4.135, fc2: 1.950\n",
      "Train Epoch: 1 [7680/60000 (13%)]\tLoss: 1.672644\n",
      "Norms- conv1: 1.972, conv2: 2.680, fc1: 4.150, fc2: 1.977\n",
      "Train Epoch: 1 [8320/60000 (14%)]\tLoss: 1.687645\n",
      "Norms- conv1: 1.998, conv2: 2.701, fc1: 4.165, fc2: 2.005\n",
      "Train Epoch: 1 [8960/60000 (15%)]\tLoss: 1.426628\n",
      "Norms- conv1: 2.020, conv2: 2.718, fc1: 4.179, fc2: 2.028\n",
      "Train Epoch: 1 [9600/60000 (16%)]\tLoss: 1.284204\n",
      "Norms- conv1: 2.043, conv2: 2.736, fc1: 4.194, fc2: 2.053\n",
      "Train Epoch: 1 [10240/60000 (17%)]\tLoss: 1.318824\n",
      "Norms- conv1: 2.064, conv2: 2.753, fc1: 4.209, fc2: 2.076\n",
      "Train Epoch: 1 [10880/60000 (18%)]\tLoss: 1.445287\n",
      "Norms- conv1: 2.085, conv2: 2.770, fc1: 4.223, fc2: 2.099\n",
      "Train Epoch: 1 [11520/60000 (19%)]\tLoss: 1.140686\n",
      "Norms- conv1: 2.105, conv2: 2.787, fc1: 4.238, fc2: 2.121\n",
      "Train Epoch: 1 [12160/60000 (20%)]\tLoss: 1.152914\n",
      "Norms- conv1: 2.125, conv2: 2.803, fc1: 4.252, fc2: 2.142\n",
      "Train Epoch: 1 [12800/60000 (21%)]\tLoss: 1.054201\n",
      "Norms- conv1: 2.142, conv2: 2.816, fc1: 4.264, fc2: 2.160\n",
      "Train Epoch: 1 [13440/60000 (22%)]\tLoss: 0.900051\n",
      "Norms- conv1: 2.157, conv2: 2.829, fc1: 4.277, fc2: 2.177\n",
      "Train Epoch: 1 [14080/60000 (23%)]\tLoss: 1.192117\n",
      "Norms- conv1: 2.166, conv2: 2.837, fc1: 4.287, fc2: 2.188\n",
      "Train Epoch: 1 [14720/60000 (25%)]\tLoss: 0.944671\n",
      "Norms- conv1: 2.183, conv2: 2.851, fc1: 4.300, fc2: 2.207\n",
      "Train Epoch: 1 [15360/60000 (26%)]\tLoss: 0.883143\n",
      "Norms- conv1: 2.196, conv2: 2.862, fc1: 4.312, fc2: 2.222\n",
      "Train Epoch: 1 [16000/60000 (27%)]\tLoss: 0.846327\n",
      "Norms- conv1: 2.212, conv2: 2.875, fc1: 4.324, fc2: 2.240\n",
      "Train Epoch: 1 [16640/60000 (28%)]\tLoss: 0.773429\n",
      "Norms- conv1: 2.223, conv2: 2.884, fc1: 4.334, fc2: 2.252\n",
      "Train Epoch: 1 [17280/60000 (29%)]\tLoss: 0.760332\n",
      "Norms- conv1: 2.232, conv2: 2.892, fc1: 4.344, fc2: 2.263\n",
      "Train Epoch: 1 [17920/60000 (30%)]\tLoss: 0.813500\n",
      "Norms- conv1: 2.247, conv2: 2.905, fc1: 4.357, fc2: 2.280\n",
      "Train Epoch: 1 [18560/60000 (31%)]\tLoss: 0.890023\n",
      "Norms- conv1: 2.256, conv2: 2.912, fc1: 4.366, fc2: 2.290\n",
      "Train Epoch: 1 [19200/60000 (32%)]\tLoss: 0.797666\n",
      "Norms- conv1: 2.268, conv2: 2.923, fc1: 4.377, fc2: 2.304\n",
      "Train Epoch: 1 [19840/60000 (33%)]\tLoss: 0.903690\n",
      "Norms- conv1: 2.276, conv2: 2.931, fc1: 4.386, fc2: 2.315\n",
      "Train Epoch: 1 [20480/60000 (34%)]\tLoss: 0.582573\n",
      "Norms- conv1: 2.284, conv2: 2.937, fc1: 4.395, fc2: 2.324\n",
      "Train Epoch: 1 [21120/60000 (35%)]\tLoss: 0.689915\n",
      "Norms- conv1: 2.293, conv2: 2.945, fc1: 4.404, fc2: 2.334\n",
      "Train Epoch: 1 [21760/60000 (36%)]\tLoss: 0.625788\n",
      "Norms- conv1: 2.301, conv2: 2.953, fc1: 4.413, fc2: 2.344\n",
      "Train Epoch: 1 [22400/60000 (37%)]\tLoss: 0.770130\n",
      "Norms- conv1: 2.312, conv2: 2.962, fc1: 4.423, fc2: 2.356\n",
      "Train Epoch: 1 [23040/60000 (38%)]\tLoss: 0.728703\n",
      "Norms- conv1: 2.321, conv2: 2.970, fc1: 4.432, fc2: 2.367\n",
      "Train Epoch: 1 [23680/60000 (39%)]\tLoss: 0.634287\n",
      "Norms- conv1: 2.323, conv2: 2.972, fc1: 4.438, fc2: 2.370\n",
      "Train Epoch: 1 [24320/60000 (41%)]\tLoss: 0.662664\n",
      "Norms- conv1: 2.333, conv2: 2.982, fc1: 4.447, fc2: 2.382\n",
      "Train Epoch: 1 [24960/60000 (42%)]\tLoss: 0.837865\n",
      "Norms- conv1: 2.339, conv2: 2.987, fc1: 4.454, fc2: 2.389\n",
      "Train Epoch: 1 [25600/60000 (43%)]\tLoss: 0.864284\n",
      "Norms- conv1: 2.348, conv2: 2.995, fc1: 4.463, fc2: 2.400\n",
      "Train Epoch: 1 [26240/60000 (44%)]\tLoss: 0.624227\n",
      "Norms- conv1: 2.358, conv2: 3.004, fc1: 4.473, fc2: 2.412\n",
      "Train Epoch: 1 [26880/60000 (45%)]\tLoss: 0.626281\n",
      "Norms- conv1: 2.366, conv2: 3.011, fc1: 4.481, fc2: 2.421\n",
      "Train Epoch: 1 [27520/60000 (46%)]\tLoss: 0.678808\n",
      "Norms- conv1: 2.372, conv2: 3.017, fc1: 4.488, fc2: 2.429\n",
      "Train Epoch: 1 [28160/60000 (47%)]\tLoss: 0.598430\n",
      "Norms- conv1: 2.378, conv2: 3.022, fc1: 4.495, fc2: 2.436\n",
      "Train Epoch: 1 [28800/60000 (48%)]\tLoss: 0.549286\n",
      "Norms- conv1: 2.385, conv2: 3.030, fc1: 4.503, fc2: 2.445\n",
      "Train Epoch: 1 [29440/60000 (49%)]\tLoss: 0.827345\n",
      "Norms- conv1: 2.391, conv2: 3.035, fc1: 4.510, fc2: 2.452\n",
      "Train Epoch: 1 [30080/60000 (50%)]\tLoss: 0.739426\n",
      "Norms- conv1: 2.395, conv2: 3.039, fc1: 4.516, fc2: 2.458\n",
      "Train Epoch: 1 [30720/60000 (51%)]\tLoss: 0.627636\n",
      "Norms- conv1: 2.402, conv2: 3.046, fc1: 4.524, fc2: 2.467\n",
      "Train Epoch: 1 [31360/60000 (52%)]\tLoss: 0.647050\n",
      "Norms- conv1: 2.410, conv2: 3.053, fc1: 4.531, fc2: 2.476\n",
      "Train Epoch: 1 [32000/60000 (53%)]\tLoss: 0.714734\n",
      "Norms- conv1: 2.413, conv2: 3.056, fc1: 4.536, fc2: 2.480\n",
      "Train Epoch: 1 [32640/60000 (54%)]\tLoss: 0.441201\n",
      "Norms- conv1: 2.418, conv2: 3.061, fc1: 4.543, fc2: 2.487\n",
      "Train Epoch: 1 [33280/60000 (55%)]\tLoss: 0.584574\n",
      "Norms- conv1: 2.428, conv2: 3.070, fc1: 4.552, fc2: 2.498\n",
      "Train Epoch: 1 [33920/60000 (57%)]\tLoss: 0.573524\n",
      "Norms- conv1: 2.434, conv2: 3.075, fc1: 4.558, fc2: 2.505\n",
      "Train Epoch: 1 [34560/60000 (58%)]\tLoss: 0.667990\n",
      "Norms- conv1: 2.440, conv2: 3.081, fc1: 4.565, fc2: 2.513\n",
      "Train Epoch: 1 [35200/60000 (59%)]\tLoss: 0.575749\n",
      "Norms- conv1: 2.445, conv2: 3.086, fc1: 4.571, fc2: 2.519\n",
      "Train Epoch: 1 [35840/60000 (60%)]\tLoss: 0.569737\n",
      "Norms- conv1: 2.449, conv2: 3.090, fc1: 4.577, fc2: 2.525\n",
      "Train Epoch: 1 [36480/60000 (61%)]\tLoss: 0.619021\n",
      "Norms- conv1: 2.456, conv2: 3.096, fc1: 4.584, fc2: 2.533\n",
      "Train Epoch: 1 [37120/60000 (62%)]\tLoss: 0.804254\n",
      "Norms- conv1: 2.458, conv2: 3.100, fc1: 4.589, fc2: 2.537\n",
      "Train Epoch: 1 [37760/60000 (63%)]\tLoss: 0.574300\n",
      "Norms- conv1: 2.463, conv2: 3.104, fc1: 4.595, fc2: 2.543\n",
      "Train Epoch: 1 [38400/60000 (64%)]\tLoss: 0.629139\n",
      "Norms- conv1: 2.467, conv2: 3.108, fc1: 4.600, fc2: 2.549\n",
      "Train Epoch: 1 [39040/60000 (65%)]\tLoss: 0.539587\n",
      "Norms- conv1: 2.468, conv2: 3.110, fc1: 4.604, fc2: 2.551\n",
      "Train Epoch: 1 [39680/60000 (66%)]\tLoss: 0.600415\n",
      "Norms- conv1: 2.479, conv2: 3.119, fc1: 4.613, fc2: 2.563\n",
      "Train Epoch: 1 [40320/60000 (67%)]\tLoss: 0.319789\n",
      "Norms- conv1: 2.486, conv2: 3.126, fc1: 4.620, fc2: 2.572\n",
      "Train Epoch: 1 [40960/60000 (68%)]\tLoss: 0.337515\n",
      "Norms- conv1: 2.491, conv2: 3.131, fc1: 4.626, fc2: 2.578\n",
      "Train Epoch: 1 [41600/60000 (69%)]\tLoss: 0.379404\n",
      "Norms- conv1: 2.497, conv2: 3.136, fc1: 4.632, fc2: 2.585\n",
      "Train Epoch: 1 [42240/60000 (70%)]\tLoss: 0.305378\n",
      "Norms- conv1: 2.505, conv2: 3.143, fc1: 4.639, fc2: 2.594\n",
      "Train Epoch: 1 [42880/60000 (71%)]\tLoss: 0.412509\n",
      "Norms- conv1: 2.505, conv2: 3.144, fc1: 4.643, fc2: 2.595\n",
      "Train Epoch: 1 [43520/60000 (72%)]\tLoss: 0.451396\n",
      "Norms- conv1: 2.510, conv2: 3.149, fc1: 4.649, fc2: 2.602\n",
      "Train Epoch: 1 [44160/60000 (74%)]\tLoss: 0.460904\n",
      "Norms- conv1: 2.514, conv2: 3.153, fc1: 4.654, fc2: 2.607\n",
      "Train Epoch: 1 [44800/60000 (75%)]\tLoss: 0.613322\n",
      "Norms- conv1: 2.515, conv2: 3.155, fc1: 4.658, fc2: 2.609\n",
      "Train Epoch: 1 [45440/60000 (76%)]\tLoss: 0.527180\n",
      "Norms- conv1: 2.521, conv2: 3.161, fc1: 4.664, fc2: 2.616\n",
      "Train Epoch: 1 [46080/60000 (77%)]\tLoss: 0.519084\n",
      "Norms- conv1: 2.526, conv2: 3.165, fc1: 4.669, fc2: 2.622\n",
      "Train Epoch: 1 [46720/60000 (78%)]\tLoss: 0.378749\n",
      "Norms- conv1: 2.529, conv2: 3.168, fc1: 4.674, fc2: 2.626\n",
      "Train Epoch: 1 [47360/60000 (79%)]\tLoss: 0.481628\n",
      "Norms- conv1: 2.531, conv2: 3.172, fc1: 4.679, fc2: 2.630\n",
      "Train Epoch: 1 [48000/60000 (80%)]\tLoss: 0.562539\n",
      "Norms- conv1: 2.533, conv2: 3.174, fc1: 4.683, fc2: 2.632\n"
     ]
    },
    {
     "name": "stdout",
     "output_type": "stream",
     "text": [
      "Train Epoch: 1 [48640/60000 (81%)]\tLoss: 0.403204\n",
      "Norms- conv1: 2.534, conv2: 3.176, fc1: 4.687, fc2: 2.635\n",
      "Train Epoch: 1 [49280/60000 (82%)]\tLoss: 0.388118\n",
      "Norms- conv1: 2.537, conv2: 3.179, fc1: 4.692, fc2: 2.639\n",
      "Train Epoch: 1 [49920/60000 (83%)]\tLoss: 0.521023\n",
      "Norms- conv1: 2.543, conv2: 3.185, fc1: 4.698, fc2: 2.646\n",
      "Train Epoch: 1 [50560/60000 (84%)]\tLoss: 0.437831\n",
      "Norms- conv1: 2.547, conv2: 3.189, fc1: 4.704, fc2: 2.651\n",
      "Train Epoch: 1 [51200/60000 (85%)]\tLoss: 0.688478\n",
      "Norms- conv1: 2.551, conv2: 3.193, fc1: 4.708, fc2: 2.656\n",
      "Train Epoch: 1 [51840/60000 (86%)]\tLoss: 0.506551\n",
      "Norms- conv1: 2.556, conv2: 3.197, fc1: 4.714, fc2: 2.662\n",
      "Train Epoch: 1 [52480/60000 (87%)]\tLoss: 0.675337\n",
      "Norms- conv1: 2.556, conv2: 3.198, fc1: 4.716, fc2: 2.663\n",
      "Train Epoch: 1 [53120/60000 (88%)]\tLoss: 0.539167\n",
      "Norms- conv1: 2.554, conv2: 3.198, fc1: 4.719, fc2: 2.663\n",
      "Train Epoch: 1 [53760/60000 (90%)]\tLoss: 0.559808\n",
      "Norms- conv1: 2.558, conv2: 3.201, fc1: 4.723, fc2: 2.667\n",
      "Train Epoch: 1 [54400/60000 (91%)]\tLoss: 0.630693\n",
      "Norms- conv1: 2.561, conv2: 3.205, fc1: 4.728, fc2: 2.672\n",
      "Train Epoch: 1 [55040/60000 (92%)]\tLoss: 0.454042\n",
      "Norms- conv1: 2.569, conv2: 3.212, fc1: 4.735, fc2: 2.680\n",
      "Train Epoch: 1 [55680/60000 (93%)]\tLoss: 0.551113\n",
      "Norms- conv1: 2.574, conv2: 3.217, fc1: 4.740, fc2: 2.686\n",
      "Train Epoch: 1 [56320/60000 (94%)]\tLoss: 0.546008\n",
      "Norms- conv1: 2.575, conv2: 3.219, fc1: 4.744, fc2: 2.689\n",
      "Train Epoch: 1 [56960/60000 (95%)]\tLoss: 0.360539\n",
      "Norms- conv1: 2.582, conv2: 3.225, fc1: 4.750, fc2: 2.696\n",
      "Train Epoch: 1 [57600/60000 (96%)]\tLoss: 0.308958\n",
      "Norms- conv1: 2.587, conv2: 3.230, fc1: 4.755, fc2: 2.702\n",
      "Train Epoch: 1 [58240/60000 (97%)]\tLoss: 0.293329\n",
      "Norms- conv1: 2.591, conv2: 3.234, fc1: 4.760, fc2: 2.707\n",
      "Train Epoch: 1 [58880/60000 (98%)]\tLoss: 0.723760\n",
      "Norms- conv1: 2.596, conv2: 3.239, fc1: 4.765, fc2: 2.713\n",
      "Train Epoch: 1 [59520/60000 (99%)]\tLoss: 0.381739\n",
      "Norms- conv1: 2.595, conv2: 3.240, fc1: 4.768, fc2: 2.714\n",
      "\n",
      "Test set: Avg. loss: 0.1862, Accuracy: 9441/10000 (94%)\n",
      "\n",
      "Train Epoch: 2 [0/60000 (0%)]\tLoss: 0.432888\n",
      "Norms- conv1: 2.600, conv2: 3.244, fc1: 4.773, fc2: 2.719\n",
      "Train Epoch: 2 [640/60000 (1%)]\tLoss: 0.446911\n",
      "Norms- conv1: 2.603, conv2: 3.248, fc1: 4.778, fc2: 2.723\n",
      "Train Epoch: 2 [1280/60000 (2%)]\tLoss: 0.507080\n",
      "Norms- conv1: 2.605, conv2: 3.250, fc1: 4.782, fc2: 2.727\n",
      "Train Epoch: 2 [1920/60000 (3%)]\tLoss: 0.507227\n",
      "Norms- conv1: 2.606, conv2: 3.252, fc1: 4.786, fc2: 2.729\n",
      "Train Epoch: 2 [2560/60000 (4%)]\tLoss: 0.308235\n",
      "Norms- conv1: 2.609, conv2: 3.255, fc1: 4.790, fc2: 2.733\n",
      "Train Epoch: 2 [3200/60000 (5%)]\tLoss: 0.168689\n",
      "Norms- conv1: 2.617, conv2: 3.262, fc1: 4.796, fc2: 2.741\n",
      "Train Epoch: 2 [3840/60000 (6%)]\tLoss: 0.487557\n",
      "Norms- conv1: 2.617, conv2: 3.264, fc1: 4.799, fc2: 2.743\n",
      "Train Epoch: 2 [4480/60000 (7%)]\tLoss: 0.412423\n",
      "Norms- conv1: 2.623, conv2: 3.269, fc1: 4.805, fc2: 2.749\n",
      "Train Epoch: 2 [5120/60000 (9%)]\tLoss: 0.382438\n",
      "Norms- conv1: 2.628, conv2: 3.274, fc1: 4.810, fc2: 2.755\n",
      "Train Epoch: 2 [5760/60000 (10%)]\tLoss: 0.654850\n",
      "Norms- conv1: 2.631, conv2: 3.277, fc1: 4.815, fc2: 2.759\n",
      "Train Epoch: 2 [6400/60000 (11%)]\tLoss: 0.573690\n",
      "Norms- conv1: 2.630, conv2: 3.277, fc1: 4.817, fc2: 2.758\n",
      "Train Epoch: 2 [7040/60000 (12%)]\tLoss: 0.302206\n",
      "Norms- conv1: 2.631, conv2: 3.279, fc1: 4.821, fc2: 2.761\n",
      "Train Epoch: 2 [7680/60000 (13%)]\tLoss: 0.441115\n",
      "Norms- conv1: 2.635, conv2: 3.283, fc1: 4.825, fc2: 2.766\n",
      "Train Epoch: 2 [8320/60000 (14%)]\tLoss: 0.649224\n",
      "Norms- conv1: 2.637, conv2: 3.285, fc1: 4.828, fc2: 2.768\n",
      "Train Epoch: 2 [8960/60000 (15%)]\tLoss: 0.473181\n",
      "Norms- conv1: 2.639, conv2: 3.288, fc1: 4.832, fc2: 2.771\n",
      "Train Epoch: 2 [9600/60000 (16%)]\tLoss: 0.451606\n",
      "Norms- conv1: 2.637, conv2: 3.287, fc1: 4.834, fc2: 2.770\n",
      "Train Epoch: 2 [10240/60000 (17%)]\tLoss: 0.308774\n",
      "Norms- conv1: 2.642, conv2: 3.292, fc1: 4.839, fc2: 2.776\n",
      "Train Epoch: 2 [10880/60000 (18%)]\tLoss: 0.497761\n",
      "Norms- conv1: 2.644, conv2: 3.294, fc1: 4.843, fc2: 2.779\n",
      "Train Epoch: 2 [11520/60000 (19%)]\tLoss: 0.329022\n",
      "Norms- conv1: 2.649, conv2: 3.299, fc1: 4.848, fc2: 2.785\n",
      "Train Epoch: 2 [12160/60000 (20%)]\tLoss: 0.321448\n",
      "Norms- conv1: 2.649, conv2: 3.300, fc1: 4.851, fc2: 2.786\n",
      "Train Epoch: 2 [12800/60000 (21%)]\tLoss: 0.479058\n",
      "Norms- conv1: 2.653, conv2: 3.304, fc1: 4.855, fc2: 2.791\n",
      "Train Epoch: 2 [13440/60000 (22%)]\tLoss: 0.454690\n",
      "Norms- conv1: 2.652, conv2: 3.304, fc1: 4.857, fc2: 2.791\n",
      "Train Epoch: 2 [14080/60000 (23%)]\tLoss: 0.492258\n",
      "Norms- conv1: 2.654, conv2: 3.306, fc1: 4.861, fc2: 2.794\n",
      "Train Epoch: 2 [14720/60000 (25%)]\tLoss: 0.362932\n",
      "Norms- conv1: 2.656, conv2: 3.309, fc1: 4.865, fc2: 2.797\n",
      "Train Epoch: 2 [15360/60000 (26%)]\tLoss: 0.217045\n",
      "Norms- conv1: 2.660, conv2: 3.313, fc1: 4.870, fc2: 2.802\n",
      "Train Epoch: 2 [16000/60000 (27%)]\tLoss: 0.264456\n",
      "Norms- conv1: 2.665, conv2: 3.317, fc1: 4.874, fc2: 2.807\n",
      "Train Epoch: 2 [16640/60000 (28%)]\tLoss: 0.364367\n",
      "Norms- conv1: 2.670, conv2: 3.323, fc1: 4.880, fc2: 2.814\n",
      "Train Epoch: 2 [17280/60000 (29%)]\tLoss: 0.431922\n",
      "Norms- conv1: 2.675, conv2: 3.328, fc1: 4.885, fc2: 2.819\n",
      "Train Epoch: 2 [17920/60000 (30%)]\tLoss: 0.334500\n",
      "Norms- conv1: 2.679, conv2: 3.331, fc1: 4.889, fc2: 2.824\n",
      "Train Epoch: 2 [18560/60000 (31%)]\tLoss: 0.342042\n",
      "Norms- conv1: 2.682, conv2: 3.335, fc1: 4.894, fc2: 2.828\n",
      "Train Epoch: 2 [19200/60000 (32%)]\tLoss: 0.489334\n",
      "Norms- conv1: 2.677, conv2: 3.332, fc1: 4.894, fc2: 2.825\n",
      "Train Epoch: 2 [19840/60000 (33%)]\tLoss: 0.347126\n",
      "Norms- conv1: 2.681, conv2: 3.336, fc1: 4.898, fc2: 2.829\n",
      "Train Epoch: 2 [20480/60000 (34%)]\tLoss: 0.380542\n",
      "Norms- conv1: 2.682, conv2: 3.337, fc1: 4.901, fc2: 2.830\n",
      "Train Epoch: 2 [21120/60000 (35%)]\tLoss: 0.358531\n",
      "Norms- conv1: 2.683, conv2: 3.339, fc1: 4.905, fc2: 2.833\n",
      "Train Epoch: 2 [21760/60000 (36%)]\tLoss: 0.491076\n",
      "Norms- conv1: 2.685, conv2: 3.341, fc1: 4.908, fc2: 2.836\n",
      "Train Epoch: 2 [22400/60000 (37%)]\tLoss: 0.615661\n",
      "Norms- conv1: 2.686, conv2: 3.343, fc1: 4.911, fc2: 2.837\n",
      "Train Epoch: 2 [23040/60000 (38%)]\tLoss: 0.498258\n",
      "Norms- conv1: 2.684, conv2: 3.342, fc1: 4.912, fc2: 2.837\n",
      "Train Epoch: 2 [23680/60000 (39%)]\tLoss: 0.341580\n",
      "Norms- conv1: 2.691, conv2: 3.348, fc1: 4.918, fc2: 2.844\n",
      "Train Epoch: 2 [24320/60000 (41%)]\tLoss: 0.392248\n",
      "Norms- conv1: 2.693, conv2: 3.351, fc1: 4.921, fc2: 2.847\n",
      "Train Epoch: 2 [24960/60000 (42%)]\tLoss: 0.217114\n",
      "Norms- conv1: 2.697, conv2: 3.355, fc1: 4.926, fc2: 2.852\n",
      "Train Epoch: 2 [25600/60000 (43%)]\tLoss: 0.206744\n",
      "Norms- conv1: 2.701, conv2: 3.359, fc1: 4.931, fc2: 2.856\n",
      "Train Epoch: 2 [26240/60000 (44%)]\tLoss: 0.388892\n",
      "Norms- conv1: 2.702, conv2: 3.361, fc1: 4.933, fc2: 2.858\n",
      "Train Epoch: 2 [26880/60000 (45%)]\tLoss: 0.300727\n",
      "Norms- conv1: 2.703, conv2: 3.362, fc1: 4.937, fc2: 2.860\n",
      "Train Epoch: 2 [27520/60000 (46%)]\tLoss: 0.232062\n",
      "Norms- conv1: 2.709, conv2: 3.368, fc1: 4.942, fc2: 2.867\n",
      "Train Epoch: 2 [28160/60000 (47%)]\tLoss: 0.175521\n",
      "Norms- conv1: 2.713, conv2: 3.372, fc1: 4.946, fc2: 2.871\n",
      "Train Epoch: 2 [28800/60000 (48%)]\tLoss: 0.249145\n",
      "Norms- conv1: 2.713, conv2: 3.373, fc1: 4.949, fc2: 2.873\n",
      "Train Epoch: 2 [29440/60000 (49%)]\tLoss: 0.530927\n",
      "Norms- conv1: 2.715, conv2: 3.376, fc1: 4.952, fc2: 2.875\n",
      "Train Epoch: 2 [30080/60000 (50%)]\tLoss: 0.292572\n",
      "Norms- conv1: 2.719, conv2: 3.380, fc1: 4.957, fc2: 2.880\n",
      "Train Epoch: 2 [30720/60000 (51%)]\tLoss: 0.317337\n",
      "Norms- conv1: 2.724, conv2: 3.385, fc1: 4.962, fc2: 2.885\n",
      "Train Epoch: 2 [31360/60000 (52%)]\tLoss: 0.444517\n",
      "Norms- conv1: 2.728, conv2: 3.388, fc1: 4.966, fc2: 2.889\n",
      "Train Epoch: 2 [32000/60000 (53%)]\tLoss: 0.693833\n",
      "Norms- conv1: 2.730, conv2: 3.391, fc1: 4.970, fc2: 2.893\n",
      "Train Epoch: 2 [32640/60000 (54%)]\tLoss: 0.306624\n",
      "Norms- conv1: 2.728, conv2: 3.391, fc1: 4.972, fc2: 2.892\n",
      "Train Epoch: 2 [33280/60000 (55%)]\tLoss: 0.276098\n",
      "Norms- conv1: 2.731, conv2: 3.394, fc1: 4.975, fc2: 2.896\n",
      "Train Epoch: 2 [33920/60000 (57%)]\tLoss: 0.430071\n",
      "Norms- conv1: 2.734, conv2: 3.397, fc1: 4.979, fc2: 2.900\n",
      "Train Epoch: 2 [34560/60000 (58%)]\tLoss: 0.395357\n",
      "Norms- conv1: 2.737, conv2: 3.401, fc1: 4.983, fc2: 2.904\n",
      "Train Epoch: 2 [35200/60000 (59%)]\tLoss: 0.423868\n",
      "Norms- conv1: 2.739, conv2: 3.403, fc1: 4.986, fc2: 2.907\n",
      "Train Epoch: 2 [35840/60000 (60%)]\tLoss: 0.463472\n",
      "Norms- conv1: 2.738, conv2: 3.403, fc1: 4.989, fc2: 2.907\n",
      "Train Epoch: 2 [36480/60000 (61%)]\tLoss: 0.333340\n",
      "Norms- conv1: 2.739, conv2: 3.405, fc1: 4.992, fc2: 2.909\n"
     ]
    },
    {
     "name": "stdout",
     "output_type": "stream",
     "text": [
      "Train Epoch: 2 [37120/60000 (62%)]\tLoss: 0.488538\n",
      "Norms- conv1: 2.740, conv2: 3.406, fc1: 4.995, fc2: 2.910\n",
      "Train Epoch: 2 [37760/60000 (63%)]\tLoss: 0.434376\n",
      "Norms- conv1: 2.743, conv2: 3.410, fc1: 4.999, fc2: 2.914\n",
      "Train Epoch: 2 [38400/60000 (64%)]\tLoss: 0.277579\n",
      "Norms- conv1: 2.744, conv2: 3.412, fc1: 5.002, fc2: 2.916\n",
      "Train Epoch: 2 [39040/60000 (65%)]\tLoss: 0.196538\n",
      "Norms- conv1: 2.749, conv2: 3.417, fc1: 5.006, fc2: 2.922\n",
      "Train Epoch: 2 [39680/60000 (66%)]\tLoss: 0.427959\n",
      "Norms- conv1: 2.753, conv2: 3.421, fc1: 5.010, fc2: 2.926\n",
      "Train Epoch: 2 [40320/60000 (67%)]\tLoss: 0.197449\n",
      "Norms- conv1: 2.755, conv2: 3.423, fc1: 5.013, fc2: 2.929\n",
      "Train Epoch: 2 [40960/60000 (68%)]\tLoss: 0.490782\n",
      "Norms- conv1: 2.756, conv2: 3.425, fc1: 5.017, fc2: 2.931\n",
      "Train Epoch: 2 [41600/60000 (69%)]\tLoss: 0.140071\n",
      "Norms- conv1: 2.764, conv2: 3.432, fc1: 5.023, fc2: 2.939\n",
      "Train Epoch: 2 [42240/60000 (70%)]\tLoss: 0.341662\n",
      "Norms- conv1: 2.767, conv2: 3.435, fc1: 5.027, fc2: 2.942\n",
      "Train Epoch: 2 [42880/60000 (71%)]\tLoss: 0.452761\n",
      "Norms- conv1: 2.764, conv2: 3.434, fc1: 5.028, fc2: 2.941\n",
      "Train Epoch: 2 [43520/60000 (72%)]\tLoss: 0.280167\n",
      "Norms- conv1: 2.766, conv2: 3.437, fc1: 5.031, fc2: 2.943\n",
      "Train Epoch: 2 [44160/60000 (74%)]\tLoss: 0.391824\n",
      "Norms- conv1: 2.767, conv2: 3.438, fc1: 5.034, fc2: 2.945\n",
      "Train Epoch: 2 [44800/60000 (75%)]\tLoss: 0.213573\n",
      "Norms- conv1: 2.771, conv2: 3.442, fc1: 5.038, fc2: 2.950\n",
      "Train Epoch: 2 [45440/60000 (76%)]\tLoss: 0.510876\n",
      "Norms- conv1: 2.774, conv2: 3.445, fc1: 5.042, fc2: 2.953\n",
      "Train Epoch: 2 [46080/60000 (77%)]\tLoss: 0.293319\n",
      "Norms- conv1: 2.775, conv2: 3.448, fc1: 5.046, fc2: 2.955\n",
      "Train Epoch: 2 [46720/60000 (78%)]\tLoss: 0.275308\n",
      "Norms- conv1: 2.775, conv2: 3.448, fc1: 5.047, fc2: 2.956\n",
      "Train Epoch: 2 [47360/60000 (79%)]\tLoss: 0.199297\n",
      "Norms- conv1: 2.777, conv2: 3.451, fc1: 5.051, fc2: 2.958\n",
      "Train Epoch: 2 [48000/60000 (80%)]\tLoss: 0.265942\n",
      "Norms- conv1: 2.781, conv2: 3.455, fc1: 5.055, fc2: 2.962\n",
      "Train Epoch: 2 [48640/60000 (81%)]\tLoss: 0.357501\n",
      "Norms- conv1: 2.782, conv2: 3.456, fc1: 5.058, fc2: 2.964\n",
      "Train Epoch: 2 [49280/60000 (82%)]\tLoss: 0.459325\n",
      "Norms- conv1: 2.782, conv2: 3.457, fc1: 5.060, fc2: 2.965\n",
      "Train Epoch: 2 [49920/60000 (83%)]\tLoss: 0.272623\n",
      "Norms- conv1: 2.781, conv2: 3.458, fc1: 5.063, fc2: 2.966\n",
      "Train Epoch: 2 [50560/60000 (84%)]\tLoss: 0.325481\n",
      "Norms- conv1: 2.783, conv2: 3.460, fc1: 5.066, fc2: 2.968\n",
      "Train Epoch: 2 [51200/60000 (85%)]\tLoss: 0.449231\n",
      "Norms- conv1: 2.784, conv2: 3.461, fc1: 5.069, fc2: 2.970\n",
      "Train Epoch: 2 [51840/60000 (86%)]\tLoss: 0.302177\n",
      "Norms- conv1: 2.786, conv2: 3.464, fc1: 5.072, fc2: 2.973\n",
      "Train Epoch: 2 [52480/60000 (87%)]\tLoss: 0.357290\n",
      "Norms- conv1: 2.789, conv2: 3.467, fc1: 5.075, fc2: 2.976\n",
      "Train Epoch: 2 [53120/60000 (88%)]\tLoss: 0.248778\n",
      "Norms- conv1: 2.790, conv2: 3.469, fc1: 5.078, fc2: 2.978\n",
      "Train Epoch: 2 [53760/60000 (90%)]\tLoss: 0.236462\n",
      "Norms- conv1: 2.792, conv2: 3.471, fc1: 5.081, fc2: 2.981\n",
      "Train Epoch: 2 [54400/60000 (91%)]\tLoss: 0.197804\n",
      "Norms- conv1: 2.795, conv2: 3.474, fc1: 5.085, fc2: 2.984\n",
      "Train Epoch: 2 [55040/60000 (92%)]\tLoss: 0.471653\n",
      "Norms- conv1: 2.795, conv2: 3.475, fc1: 5.087, fc2: 2.985\n",
      "Train Epoch: 2 [55680/60000 (93%)]\tLoss: 0.195413\n",
      "Norms- conv1: 2.798, conv2: 3.478, fc1: 5.090, fc2: 2.988\n",
      "Train Epoch: 2 [56320/60000 (94%)]\tLoss: 0.368755\n",
      "Norms- conv1: 2.802, conv2: 3.482, fc1: 5.094, fc2: 2.992\n",
      "Train Epoch: 2 [56960/60000 (95%)]\tLoss: 0.222731\n",
      "Norms- conv1: 2.803, conv2: 3.483, fc1: 5.097, fc2: 2.994\n",
      "Train Epoch: 2 [57600/60000 (96%)]\tLoss: 0.576563\n",
      "Norms- conv1: 2.806, conv2: 3.487, fc1: 5.100, fc2: 2.998\n",
      "Train Epoch: 2 [58240/60000 (97%)]\tLoss: 0.502057\n",
      "Norms- conv1: 2.806, conv2: 3.488, fc1: 5.103, fc2: 2.999\n",
      "Train Epoch: 2 [58880/60000 (98%)]\tLoss: 0.280876\n",
      "Norms- conv1: 2.805, conv2: 3.488, fc1: 5.104, fc2: 2.998\n",
      "Train Epoch: 2 [59520/60000 (99%)]\tLoss: 0.287533\n",
      "Norms- conv1: 2.808, conv2: 3.490, fc1: 5.108, fc2: 3.002\n",
      "\n",
      "Test set: Avg. loss: 0.1151, Accuracy: 9634/10000 (96%)\n",
      "\n",
      "Train Epoch: 3 [0/60000 (0%)]\tLoss: 0.199990\n",
      "Norms- conv1: 2.810, conv2: 3.493, fc1: 5.111, fc2: 3.004\n",
      "Train Epoch: 3 [640/60000 (1%)]\tLoss: 0.263821\n",
      "Norms- conv1: 2.811, conv2: 3.494, fc1: 5.113, fc2: 3.006\n",
      "Train Epoch: 3 [1280/60000 (2%)]\tLoss: 0.391696\n",
      "Norms- conv1: 2.815, conv2: 3.498, fc1: 5.118, fc2: 3.010\n",
      "Train Epoch: 3 [1920/60000 (3%)]\tLoss: 0.255127\n",
      "Norms- conv1: 2.819, conv2: 3.502, fc1: 5.122, fc2: 3.015\n",
      "Train Epoch: 3 [2560/60000 (4%)]\tLoss: 0.266017\n",
      "Norms- conv1: 2.817, conv2: 3.502, fc1: 5.123, fc2: 3.015\n",
      "Train Epoch: 3 [3200/60000 (5%)]\tLoss: 0.319526\n",
      "Norms- conv1: 2.817, conv2: 3.502, fc1: 5.125, fc2: 3.015\n",
      "Train Epoch: 3 [3840/60000 (6%)]\tLoss: 0.280777\n",
      "Norms- conv1: 2.818, conv2: 3.504, fc1: 5.128, fc2: 3.017\n",
      "Train Epoch: 3 [4480/60000 (7%)]\tLoss: 0.484230\n",
      "Norms- conv1: 2.819, conv2: 3.506, fc1: 5.131, fc2: 3.019\n",
      "Train Epoch: 3 [5120/60000 (9%)]\tLoss: 0.503693\n",
      "Norms- conv1: 2.821, conv2: 3.508, fc1: 5.133, fc2: 3.021\n",
      "Train Epoch: 3 [5760/60000 (10%)]\tLoss: 0.412011\n",
      "Norms- conv1: 2.822, conv2: 3.509, fc1: 5.136, fc2: 3.022\n",
      "Train Epoch: 3 [6400/60000 (11%)]\tLoss: 0.315787\n",
      "Norms- conv1: 2.821, conv2: 3.510, fc1: 5.138, fc2: 3.023\n",
      "Train Epoch: 3 [7040/60000 (12%)]\tLoss: 0.329247\n",
      "Norms- conv1: 2.824, conv2: 3.513, fc1: 5.141, fc2: 3.026\n",
      "Train Epoch: 3 [7680/60000 (13%)]\tLoss: 0.263751\n",
      "Norms- conv1: 2.826, conv2: 3.516, fc1: 5.144, fc2: 3.029\n",
      "Train Epoch: 3 [8320/60000 (14%)]\tLoss: 0.162588\n",
      "Norms- conv1: 2.829, conv2: 3.519, fc1: 5.148, fc2: 3.033\n",
      "Train Epoch: 3 [8960/60000 (15%)]\tLoss: 0.264596\n",
      "Norms- conv1: 2.832, conv2: 3.522, fc1: 5.152, fc2: 3.035\n",
      "Train Epoch: 3 [9600/60000 (16%)]\tLoss: 0.249711\n",
      "Norms- conv1: 2.834, conv2: 3.524, fc1: 5.155, fc2: 3.038\n",
      "Train Epoch: 3 [10240/60000 (17%)]\tLoss: 0.279594\n",
      "Norms- conv1: 2.832, conv2: 3.524, fc1: 5.156, fc2: 3.037\n",
      "Train Epoch: 3 [10880/60000 (18%)]\tLoss: 0.283952\n",
      "Norms- conv1: 2.833, conv2: 3.526, fc1: 5.159, fc2: 3.039\n",
      "Train Epoch: 3 [11520/60000 (19%)]\tLoss: 0.423245\n",
      "Norms- conv1: 2.837, conv2: 3.530, fc1: 5.163, fc2: 3.043\n",
      "Train Epoch: 3 [12160/60000 (20%)]\tLoss: 0.220579\n",
      "Norms- conv1: 2.840, conv2: 3.532, fc1: 5.166, fc2: 3.046\n",
      "Train Epoch: 3 [12800/60000 (21%)]\tLoss: 0.439141\n",
      "Norms- conv1: 2.839, conv2: 3.533, fc1: 5.168, fc2: 3.046\n",
      "Train Epoch: 3 [13440/60000 (22%)]\tLoss: 0.330470\n",
      "Norms- conv1: 2.839, conv2: 3.533, fc1: 5.170, fc2: 3.047\n",
      "Train Epoch: 3 [14080/60000 (23%)]\tLoss: 0.350911\n",
      "Norms- conv1: 2.839, conv2: 3.534, fc1: 5.172, fc2: 3.048\n",
      "Train Epoch: 3 [14720/60000 (25%)]\tLoss: 0.311836\n",
      "Norms- conv1: 2.842, conv2: 3.537, fc1: 5.176, fc2: 3.051\n",
      "Train Epoch: 3 [15360/60000 (26%)]\tLoss: 0.319367\n",
      "Norms- conv1: 2.840, conv2: 3.537, fc1: 5.177, fc2: 3.050\n",
      "Train Epoch: 3 [16000/60000 (27%)]\tLoss: 0.823300\n",
      "Norms- conv1: 2.843, conv2: 3.540, fc1: 5.180, fc2: 3.053\n",
      "Train Epoch: 3 [16640/60000 (28%)]\tLoss: 0.547866\n",
      "Norms- conv1: 2.843, conv2: 3.541, fc1: 5.182, fc2: 3.054\n",
      "Train Epoch: 3 [17280/60000 (29%)]\tLoss: 0.447424\n",
      "Norms- conv1: 2.846, conv2: 3.544, fc1: 5.186, fc2: 3.058\n",
      "Train Epoch: 3 [17920/60000 (30%)]\tLoss: 0.312153\n",
      "Norms- conv1: 2.848, conv2: 3.547, fc1: 5.189, fc2: 3.060\n",
      "Train Epoch: 3 [18560/60000 (31%)]\tLoss: 0.320168\n",
      "Norms- conv1: 2.849, conv2: 3.548, fc1: 5.192, fc2: 3.062\n",
      "Train Epoch: 3 [19200/60000 (32%)]\tLoss: 0.352754\n",
      "Norms- conv1: 2.850, conv2: 3.550, fc1: 5.195, fc2: 3.064\n",
      "Train Epoch: 3 [19840/60000 (33%)]\tLoss: 0.372682\n",
      "Norms- conv1: 2.852, conv2: 3.552, fc1: 5.197, fc2: 3.066\n",
      "Train Epoch: 3 [20480/60000 (34%)]\tLoss: 0.187218\n",
      "Norms- conv1: 2.854, conv2: 3.555, fc1: 5.200, fc2: 3.069\n",
      "Train Epoch: 3 [21120/60000 (35%)]\tLoss: 0.187705\n",
      "Norms- conv1: 2.857, conv2: 3.558, fc1: 5.203, fc2: 3.072\n",
      "Train Epoch: 3 [21760/60000 (36%)]\tLoss: 0.331621\n",
      "Norms- conv1: 2.857, conv2: 3.558, fc1: 5.206, fc2: 3.073\n",
      "Train Epoch: 3 [22400/60000 (37%)]\tLoss: 0.232776\n",
      "Norms- conv1: 2.860, conv2: 3.561, fc1: 5.209, fc2: 3.076\n",
      "Train Epoch: 3 [23040/60000 (38%)]\tLoss: 0.427851\n",
      "Norms- conv1: 2.861, conv2: 3.563, fc1: 5.211, fc2: 3.078\n",
      "Train Epoch: 3 [23680/60000 (39%)]\tLoss: 0.192151\n",
      "Norms- conv1: 2.861, conv2: 3.564, fc1: 5.213, fc2: 3.079\n",
      "Train Epoch: 3 [24320/60000 (41%)]\tLoss: 0.255487\n",
      "Norms- conv1: 2.865, conv2: 3.568, fc1: 5.217, fc2: 3.083\n",
      "Train Epoch: 3 [24960/60000 (42%)]\tLoss: 0.170530\n",
      "Norms- conv1: 2.867, conv2: 3.570, fc1: 5.220, fc2: 3.085\n"
     ]
    },
    {
     "name": "stdout",
     "output_type": "stream",
     "text": [
      "Train Epoch: 3 [25600/60000 (43%)]\tLoss: 0.416054\n",
      "Norms- conv1: 2.869, conv2: 3.573, fc1: 5.223, fc2: 3.088\n",
      "Train Epoch: 3 [26240/60000 (44%)]\tLoss: 0.205225\n",
      "Norms- conv1: 2.868, conv2: 3.572, fc1: 5.224, fc2: 3.088\n",
      "Train Epoch: 3 [26880/60000 (45%)]\tLoss: 0.205759\n",
      "Norms- conv1: 2.868, conv2: 3.573, fc1: 5.226, fc2: 3.088\n",
      "Train Epoch: 3 [27520/60000 (46%)]\tLoss: 0.205646\n",
      "Norms- conv1: 2.870, conv2: 3.575, fc1: 5.229, fc2: 3.091\n",
      "Train Epoch: 3 [28160/60000 (47%)]\tLoss: 0.319231\n",
      "Norms- conv1: 2.872, conv2: 3.578, fc1: 5.232, fc2: 3.093\n",
      "Train Epoch: 3 [28800/60000 (48%)]\tLoss: 0.475816\n",
      "Norms- conv1: 2.873, conv2: 3.580, fc1: 5.235, fc2: 3.095\n",
      "Train Epoch: 3 [29440/60000 (49%)]\tLoss: 0.170877\n",
      "Norms- conv1: 2.872, conv2: 3.580, fc1: 5.237, fc2: 3.094\n",
      "Train Epoch: 3 [30080/60000 (50%)]\tLoss: 0.274327\n",
      "Norms- conv1: 2.873, conv2: 3.582, fc1: 5.239, fc2: 3.096\n",
      "Train Epoch: 3 [30720/60000 (51%)]\tLoss: 0.240216\n",
      "Norms- conv1: 2.874, conv2: 3.583, fc1: 5.242, fc2: 3.098\n",
      "Train Epoch: 3 [31360/60000 (52%)]\tLoss: 0.224578\n",
      "Norms- conv1: 2.877, conv2: 3.586, fc1: 5.245, fc2: 3.101\n",
      "Train Epoch: 3 [32000/60000 (53%)]\tLoss: 0.420657\n",
      "Norms- conv1: 2.879, conv2: 3.589, fc1: 5.248, fc2: 3.103\n",
      "Train Epoch: 3 [32640/60000 (54%)]\tLoss: 0.321153\n",
      "Norms- conv1: 2.879, conv2: 3.590, fc1: 5.250, fc2: 3.104\n",
      "Train Epoch: 3 [33280/60000 (55%)]\tLoss: 0.167595\n",
      "Norms- conv1: 2.882, conv2: 3.592, fc1: 5.253, fc2: 3.107\n",
      "Train Epoch: 3 [33920/60000 (57%)]\tLoss: 0.433983\n",
      "Norms- conv1: 2.882, conv2: 3.593, fc1: 5.255, fc2: 3.108\n",
      "Train Epoch: 3 [34560/60000 (58%)]\tLoss: 0.261044\n",
      "Norms- conv1: 2.886, conv2: 3.597, fc1: 5.259, fc2: 3.112\n",
      "Train Epoch: 3 [35200/60000 (59%)]\tLoss: 0.307285\n",
      "Norms- conv1: 2.885, conv2: 3.597, fc1: 5.260, fc2: 3.112\n",
      "Train Epoch: 3 [35840/60000 (60%)]\tLoss: 0.460420\n",
      "Norms- conv1: 2.886, conv2: 3.599, fc1: 5.263, fc2: 3.113\n",
      "Train Epoch: 3 [36480/60000 (61%)]\tLoss: 0.190250\n",
      "Norms- conv1: 2.886, conv2: 3.600, fc1: 5.265, fc2: 3.114\n",
      "Train Epoch: 3 [37120/60000 (62%)]\tLoss: 0.209253\n",
      "Norms- conv1: 2.890, conv2: 3.604, fc1: 5.269, fc2: 3.119\n",
      "Train Epoch: 3 [37760/60000 (63%)]\tLoss: 0.323306\n",
      "Norms- conv1: 2.889, conv2: 3.603, fc1: 5.270, fc2: 3.118\n",
      "Train Epoch: 3 [38400/60000 (64%)]\tLoss: 0.454879\n",
      "Norms- conv1: 2.889, conv2: 3.604, fc1: 5.272, fc2: 3.119\n",
      "Train Epoch: 3 [39040/60000 (65%)]\tLoss: 0.365571\n",
      "Norms- conv1: 2.891, conv2: 3.608, fc1: 5.276, fc2: 3.122\n",
      "Train Epoch: 3 [39680/60000 (66%)]\tLoss: 0.200882\n",
      "Norms- conv1: 2.891, conv2: 3.608, fc1: 5.278, fc2: 3.122\n",
      "Train Epoch: 3 [40320/60000 (67%)]\tLoss: 0.231838\n",
      "Norms- conv1: 2.895, conv2: 3.612, fc1: 5.281, fc2: 3.126\n",
      "Train Epoch: 3 [40960/60000 (68%)]\tLoss: 0.452787\n",
      "Norms- conv1: 2.894, conv2: 3.612, fc1: 5.283, fc2: 3.126\n",
      "Train Epoch: 3 [41600/60000 (69%)]\tLoss: 0.333629\n",
      "Norms- conv1: 2.894, conv2: 3.612, fc1: 5.284, fc2: 3.127\n",
      "Train Epoch: 3 [42240/60000 (70%)]\tLoss: 0.361289\n",
      "Norms- conv1: 2.894, conv2: 3.614, fc1: 5.286, fc2: 3.128\n",
      "Train Epoch: 3 [42880/60000 (71%)]\tLoss: 0.190326\n",
      "Norms- conv1: 2.896, conv2: 3.616, fc1: 5.289, fc2: 3.130\n",
      "Train Epoch: 3 [43520/60000 (72%)]\tLoss: 0.247740\n",
      "Norms- conv1: 2.898, conv2: 3.618, fc1: 5.292, fc2: 3.132\n",
      "Train Epoch: 3 [44160/60000 (74%)]\tLoss: 0.311000\n",
      "Norms- conv1: 2.898, conv2: 3.619, fc1: 5.294, fc2: 3.133\n",
      "Train Epoch: 3 [44800/60000 (75%)]\tLoss: 0.182235\n",
      "Norms- conv1: 2.902, conv2: 3.623, fc1: 5.298, fc2: 3.138\n",
      "Train Epoch: 3 [45440/60000 (76%)]\tLoss: 0.243461\n",
      "Norms- conv1: 2.903, conv2: 3.625, fc1: 5.301, fc2: 3.139\n",
      "Train Epoch: 3 [46080/60000 (77%)]\tLoss: 0.344030\n",
      "Norms- conv1: 2.905, conv2: 3.628, fc1: 5.304, fc2: 3.142\n",
      "Train Epoch: 3 [46720/60000 (78%)]\tLoss: 0.206886\n",
      "Norms- conv1: 2.907, conv2: 3.630, fc1: 5.307, fc2: 3.144\n",
      "Train Epoch: 3 [47360/60000 (79%)]\tLoss: 0.365308\n",
      "Norms- conv1: 2.909, conv2: 3.632, fc1: 5.310, fc2: 3.147\n",
      "Train Epoch: 3 [48000/60000 (80%)]\tLoss: 0.334996\n",
      "Norms- conv1: 2.910, conv2: 3.634, fc1: 5.312, fc2: 3.148\n",
      "Train Epoch: 3 [48640/60000 (81%)]\tLoss: 0.224132\n",
      "Norms- conv1: 2.913, conv2: 3.637, fc1: 5.316, fc2: 3.151\n",
      "Train Epoch: 3 [49280/60000 (82%)]\tLoss: 0.235565\n",
      "Norms- conv1: 2.914, conv2: 3.639, fc1: 5.318, fc2: 3.153\n",
      "Train Epoch: 3 [49920/60000 (83%)]\tLoss: 0.483696\n",
      "Norms- conv1: 2.913, conv2: 3.638, fc1: 5.320, fc2: 3.153\n",
      "Train Epoch: 3 [50560/60000 (84%)]\tLoss: 0.437832\n",
      "Norms- conv1: 2.915, conv2: 3.641, fc1: 5.323, fc2: 3.155\n",
      "Train Epoch: 3 [51200/60000 (85%)]\tLoss: 0.422938\n",
      "Norms- conv1: 2.917, conv2: 3.643, fc1: 5.325, fc2: 3.158\n",
      "Train Epoch: 3 [51840/60000 (86%)]\tLoss: 0.243266\n",
      "Norms- conv1: 2.916, conv2: 3.644, fc1: 5.327, fc2: 3.158\n",
      "Train Epoch: 3 [52480/60000 (87%)]\tLoss: 0.521989\n",
      "Norms- conv1: 2.920, conv2: 3.647, fc1: 5.330, fc2: 3.161\n",
      "Train Epoch: 3 [53120/60000 (88%)]\tLoss: 0.228111\n",
      "Norms- conv1: 2.921, conv2: 3.648, fc1: 5.333, fc2: 3.163\n",
      "Train Epoch: 3 [53760/60000 (90%)]\tLoss: 0.180751\n",
      "Norms- conv1: 2.921, conv2: 3.650, fc1: 5.335, fc2: 3.164\n",
      "Train Epoch: 3 [54400/60000 (91%)]\tLoss: 0.419091\n",
      "Norms- conv1: 2.926, conv2: 3.654, fc1: 5.339, fc2: 3.169\n",
      "Train Epoch: 3 [55040/60000 (92%)]\tLoss: 0.315896\n",
      "Norms- conv1: 2.927, conv2: 3.656, fc1: 5.341, fc2: 3.171\n",
      "Train Epoch: 3 [55680/60000 (93%)]\tLoss: 0.185651\n",
      "Norms- conv1: 2.927, conv2: 3.657, fc1: 5.343, fc2: 3.172\n",
      "Train Epoch: 3 [56320/60000 (94%)]\tLoss: 0.292565\n",
      "Norms- conv1: 2.927, conv2: 3.657, fc1: 5.345, fc2: 3.172\n",
      "Train Epoch: 3 [56960/60000 (95%)]\tLoss: 0.338502\n",
      "Norms- conv1: 2.930, conv2: 3.660, fc1: 5.348, fc2: 3.175\n",
      "Train Epoch: 3 [57600/60000 (96%)]\tLoss: 0.520377\n",
      "Norms- conv1: 2.931, conv2: 3.662, fc1: 5.351, fc2: 3.177\n",
      "Train Epoch: 3 [58240/60000 (97%)]\tLoss: 0.383999\n",
      "Norms- conv1: 2.933, conv2: 3.664, fc1: 5.354, fc2: 3.180\n",
      "Train Epoch: 3 [58880/60000 (98%)]\tLoss: 0.117143\n",
      "Norms- conv1: 2.931, conv2: 3.663, fc1: 5.355, fc2: 3.178\n",
      "Train Epoch: 3 [59520/60000 (99%)]\tLoss: 0.309208\n",
      "Norms- conv1: 2.933, conv2: 3.666, fc1: 5.358, fc2: 3.181\n",
      "\n",
      "Test set: Avg. loss: 0.0990, Accuracy: 9687/10000 (97%)\n",
      "\n"
     ]
    }
   ],
   "source": [
    "test() # How good is the model with the default parameters?\n",
    "for epoch in range(1, n_epochs + 1):\n",
    "  train(epoch)\n",
    "  test()"
   ]
  },
  {
   "cell_type": "markdown",
   "metadata": {
    "id": "1mgvhpWR7ohS"
   },
   "source": [
    "### Layer Info"
   ]
  },
  {
   "cell_type": "code",
   "execution_count": 27,
   "metadata": {
    "colab": {
     "base_uri": "https://localhost:8080/"
    },
    "id": "K_RzHYaZIy53",
    "outputId": "0ae925d8-bfa7-45d6-810e-401af26b6bcc"
   },
   "outputs": [
    {
     "name": "stdout",
     "output_type": "stream",
     "text": [
      "Total convolutional layers: 2\n",
      "Total linear layers: 2\n"
     ]
    }
   ],
   "source": [
    "model_weights = [] \n",
    "conv_layers = []\n",
    "model_children = list(network.children())\n",
    "\n",
    "linear_layers = [] \n",
    "model_linear_weights = []\n",
    "\n",
    "# counter to keep count of the conv layers\n",
    "counter = 0 \n",
    "counter_linear = 0\n",
    "\n",
    "# append all the conv layers and their respective weights to the list\n",
    "for i in range(len(model_children)):\n",
    "    if type(model_children[i]) == nn.Conv2d:\n",
    "        counter += 1\n",
    "        model_weights.append(model_children[i].weight)\n",
    "        conv_layers.append(model_children[i])\n",
    "    elif type(model_children[i]) == nn.Linear:\n",
    "        counter_linear += 1\n",
    "        model_linear_weights.append(model_children[i].weight)\n",
    "        linear_layers.append(model_children[i])\n",
    "print(f\"Total convolutional layers: {counter}\")\n",
    "print(f\"Total linear layers: {counter_linear}\")"
   ]
  },
  {
   "cell_type": "code",
   "execution_count": 28,
   "metadata": {
    "colab": {
     "base_uri": "https://localhost:8080/"
    },
    "id": "2NsTNxBg2uah",
    "outputId": "bd5b3cb2-cb9c-4a77-d418-571856ae7a46"
   },
   "outputs": [
    {
     "name": "stdout",
     "output_type": "stream",
     "text": [
      "<class 'torch.nn.modules.conv.Conv2d'>\n",
      "<class 'torch.nn.modules.conv.Conv2d'>\n",
      "<class 'torch.nn.modules.dropout.Dropout2d'>\n",
      "<class 'torch.nn.modules.linear.Linear'>\n",
      "<class 'torch.nn.modules.linear.Linear'>\n"
     ]
    }
   ],
   "source": [
    "for i in range(len(model_children)):\n",
    "  print(type(model_children[i]))"
   ]
  },
  {
   "cell_type": "code",
   "execution_count": 29,
   "metadata": {
    "colab": {
     "base_uri": "https://localhost:8080/"
    },
    "id": "D6sUs6w_JCnG",
    "outputId": "b46d752a-77c8-4d80-88e4-764d7b359474"
   },
   "outputs": [
    {
     "name": "stdout",
     "output_type": "stream",
     "text": [
      "CONV: Conv2d(1, 10, kernel_size=(5, 5), stride=(1, 1)) ====> SHAPE: torch.Size([10, 1, 5, 5])\n",
      "CONV: Conv2d(10, 20, kernel_size=(5, 5), stride=(1, 1)) ====> SHAPE: torch.Size([20, 10, 5, 5])\n"
     ]
    }
   ],
   "source": [
    "for weight, conv in zip(model_weights, conv_layers):\n",
    "    # print(f\"WEIGHT: {weight} \\nSHAPE: {weight.shape}\")\n",
    "    print(f\"CONV: {conv} ====> SHAPE: {weight.shape}\")"
   ]
  },
  {
   "cell_type": "code",
   "execution_count": 30,
   "metadata": {
    "colab": {
     "base_uri": "https://localhost:8080/"
    },
    "id": "oKSSQqvE3vBp",
    "outputId": "1f5e041d-4428-4a70-c0c6-4fc1ed800f56"
   },
   "outputs": [
    {
     "name": "stdout",
     "output_type": "stream",
     "text": [
      "Linear: Linear(in_features=320, out_features=50, bias=True) ====> SHAPE: torch.Size([10, 1, 5, 5])\n",
      "Linear: Linear(in_features=50, out_features=10, bias=True) ====> SHAPE: torch.Size([20, 10, 5, 5])\n"
     ]
    }
   ],
   "source": [
    "for weight, linear in zip(model_weights, linear_layers):\n",
    "    # print(f\"WEIGHT: {weight} \\nSHAPE: {weight.shape}\")\n",
    "    print(f\"Linear: {linear} ====> SHAPE: {weight.shape}\")"
   ]
  },
  {
   "cell_type": "markdown",
   "metadata": {
    "id": "6-1LASNJ7vwb"
   },
   "source": [
    "### After Training: The Model"
   ]
  },
  {
   "cell_type": "markdown",
   "metadata": {
    "id": "c4OtapjN8TSW"
   },
   "source": [
    "Here are the weights of the linear layers. These are fully-connected, so there are many."
   ]
  },
  {
   "cell_type": "code",
   "execution_count": 31,
   "metadata": {
    "colab": {
     "base_uri": "https://localhost:8080/",
     "height": 533
    },
    "id": "iF4RQsmF39sg",
    "outputId": "1aa8845f-a627-44cf-8f50-b071b640d945"
   },
   "outputs": [
    {
     "name": "stdout",
     "output_type": "stream",
     "text": [
      "torch.Size([50, 320])\n",
      "torch.Size([10, 50])\n"
     ]
    },
    {
     "data": {
      "text/plain": [
       "<matplotlib.image.AxesImage at 0x7fcf8a0e6460>"
      ]
     },
     "execution_count": 31,
     "metadata": {},
     "output_type": "execute_result"
    },
    {
     "data": {
      "image/png": "[encoded data removed]",
      "text/plain": [
       "<Figure size 1440x1224 with 1 Axes>"
      ]
     },
     "metadata": {
      "needs_background": "light"
     },
     "output_type": "display_data"
    },
    {
     "data": {
      "image/png": "[encoded data removed]",
      "text/plain": [
       "<Figure size 1440x1224 with 1 Axes>"
      ]
     },
     "metadata": {
      "needs_background": "light"
     },
     "output_type": "display_data"
    }
   ],
   "source": [
    "print(model_linear_weights[0].shape)\n",
    "print(model_linear_weights[1].shape)\n",
    "plt.figure(figsize=(20, 17))\n",
    "plt.imshow(model_linear_weights[0].detach().numpy())\n",
    "plt.figure(figsize=(20, 17))\n",
    "plt.imshow(model_linear_weights[1].detach().numpy())"
   ]
  },
  {
   "cell_type": "code",
   "execution_count": 32,
   "metadata": {
    "colab": {
     "base_uri": "https://localhost:8080/",
     "height": 193
    },
    "id": "UB2p6lmp5vJf",
    "outputId": "65d037ae-1990-4edd-d678-4f6e59d717ef"
   },
   "outputs": [
    {
     "data": {
      "text/plain": [
       "<matplotlib.image.AxesImage at 0x7fcf898a4070>"
      ]
     },
     "execution_count": 32,
     "metadata": {},
     "output_type": "execute_result"
    },
    {
     "data": {
      "image/png": "[encoded data removed]",
      "text/plain": [
       "<Figure size 432x288 with 1 Axes>"
      ]
     },
     "metadata": {
      "needs_background": "light"
     },
     "output_type": "display_data"
    }
   ],
   "source": [
    "#plt.imshow(model_weights[0].detach().numpy()[0][0])\n",
    "#plt.imshow(model_weights[0].detach().numpy().reshape(10, 5, 5).reshape(10, 25))\n",
    "A = np.zeros((11, 29))\n",
    "\n",
    "k = 0\n",
    "for i in range(2):\n",
    "  for j in range(5):\n",
    "    A[5*i+i:5*(i+1)+i, 5*j+j:5*(j+1)+j] = model_weights[0].detach().numpy()[k][0]\n",
    "    k += 1\n",
    "\n",
    "#A[0:5, 0:5] = model_weights[0].detach().numpy()[0][0]\n",
    "#A[0:5, 5:10] = model_weights[0].detach().numpy()[1][0]\n",
    "\n",
    "plt.imshow(A)"
   ]
  },
  {
   "cell_type": "markdown",
   "metadata": {
    "id": "sL5G-iRj9KhU"
   },
   "source": [
    "Weights of the first conv layer."
   ]
  },
  {
   "cell_type": "code",
   "execution_count": 33,
   "metadata": {
    "colab": {
     "base_uri": "https://localhost:8080/",
     "height": 1000
    },
    "id": "i6Mwtk_MJXxU",
    "outputId": "c8762a46-04ea-4c70-8aab-b660dc4db518"
   },
   "outputs": [
    {
     "name": "stdout",
     "output_type": "stream",
     "text": [
      "[[-0.10355853  0.2432864   0.11843319  0.24272     0.19729221]\n",
      " [ 0.05266387  0.15611117  0.1295883   0.17150761  0.05215835]\n",
      " [-0.06967475 -0.05923887 -0.01322672 -0.05745829  0.16178523]\n",
      " [-0.04931245 -0.1894802  -0.26807317 -0.19473158 -0.17688298]\n",
      " [-0.15263142 -0.11027091 -0.0582195  -0.06042293 -0.26112628]]\n",
      "[[ 0.28590596  0.31492397  0.38874787  0.25931653 -0.10861052]\n",
      " [-0.10853633  0.02916484  0.35199693  0.21647699  0.28266177]\n",
      " [-0.18803082  0.07784872 -0.08332305  0.24177739  0.16810784]\n",
      " [-0.31080025 -0.09511328 -0.21977767 -0.05276442  0.00078615]\n",
      " [-0.24125035 -0.37237847 -0.25420985 -0.06478219 -0.06232504]]\n",
      "[[ 0.3248085   0.36487544  0.1870481  -0.03407615  0.1687656 ]\n",
      " [ 0.07626848 -0.03305111  0.2860814   0.24948095  0.23935612]\n",
      " [-0.17620572 -0.019214    0.08877688  0.10445114 -0.15155382]\n",
      " [-0.17155579  0.14113167  0.02324723  0.11941974 -0.04670707]\n",
      " [ 0.02134579  0.06645036  0.10802354  0.07240304 -0.27585062]]\n",
      "[[ 0.14408714 -0.1256923  -0.17115054 -0.0365558  -0.05503544]\n",
      " [ 0.17689674 -0.0819641  -0.19984847  0.12072348 -0.02567102]\n",
      " [ 0.18239179  0.1309214  -0.12731159  0.09406035  0.11457642]\n",
      " [-0.07184129 -0.00555578  0.15973505  0.1568513   0.01156815]\n",
      " [ 0.02613591  0.29457182  0.06094427  0.22694764  0.18585883]]\n",
      "[[-0.14711684 -0.15488599  0.2567951   0.1405614   0.21734394]\n",
      " [ 0.10420804  0.18664289  0.35238597  0.38711256 -0.04961951]\n",
      " [ 0.08439282  0.20651266  0.22937615  0.21826267 -0.09156919]\n",
      " [-0.16493626 -0.17324787  0.00201495  0.2591799  -0.04668877]\n",
      " [-0.02344043 -0.21903355 -0.2247579  -0.00318867  0.19804907]]\n",
      "[[ 0.27406716 -0.00218545  0.16365837  0.2420914   0.11482037]\n",
      " [ 0.19164754  0.24849941  0.21844459  0.09290424 -0.15869316]\n",
      " [-0.18962932 -0.11087    -0.01017764 -0.07265689  0.12706308]\n",
      " [ 0.01182628 -0.08428341  0.12057786  0.1792971   0.27795383]\n",
      " [ 0.10700456 -0.0625007   0.25971392  0.07372545  0.08571168]]\n",
      "[[-0.3131115  -0.26773345 -0.16652957  0.04980031  0.33774963]\n",
      " [-0.29262555 -0.25975737  0.09889998  0.26689076  0.33623862]\n",
      " [-0.3212399  -0.03491492  0.07128144  0.27071175  0.06333217]\n",
      " [-0.24213186 -0.03254753  0.3054346   0.32850918  0.19706793]\n",
      " [ 0.18170384  0.28680986  0.29115048  0.14083965 -0.11223822]]\n",
      "[[ 0.10607812 -0.10978556 -0.07954052 -0.2594905  -0.16220582]\n",
      " [-0.1330769   0.10753005 -0.26267564 -0.28066224 -0.15464534]\n",
      " [-0.07652512  0.06281478 -0.0685256  -0.10699514  0.00951345]\n",
      " [ 0.21110097 -0.05896425  0.25632235  0.31212947  0.34113967]\n",
      " [-0.04601892  0.20799094  0.06336443  0.34496325  0.01674025]]\n",
      "[[ 0.23310292  0.14472531  0.0212539  -0.11844414 -0.13360366]\n",
      " [ 0.23573461  0.19667721  0.06848804 -0.3444672  -0.03733581]\n",
      " [ 0.34398088  0.34220162  0.13973743 -0.29135537 -0.21445647]\n",
      " [ 0.33314338  0.00304348  0.22102866 -0.23170967 -0.21966703]\n",
      " [ 0.21434252 -0.02713359 -0.00673004  0.11406134  0.12984923]]\n",
      "[[ 0.17951836  0.01284553 -0.03964713  0.32294235  0.07379952]\n",
      " [-0.11662491  0.06629677 -0.10379676  0.15157841  0.19153441]\n",
      " [-0.22850728 -0.24553509 -0.11236938 -0.03527078 -0.03982087]\n",
      " [-0.15614088 -0.12628561 -0.31164643 -0.27248216 -0.23776934]\n",
      " [ 0.1718772   0.13596968 -0.09752839 -0.06971379 -0.02784543]]\n"
     ]
    },
    {
     "data": {
      "image/png": "[encoded data removed]",
      "text/plain": [
       "<Figure size 1440x1224 with 10 Axes>"
      ]
     },
     "metadata": {
      "needs_background": "light"
     },
     "output_type": "display_data"
    }
   ],
   "source": [
    "plt.figure(figsize=(20, 17))\n",
    "for i, filter in enumerate(model_weights[0]):\n",
    "    plt.subplot(3, 4, i+1) # we have 5x5 filters and total of 10 (see printed shapes)\n",
    "    plt.imshow(filter[0, :, :].detach().cpu().numpy())\n",
    "    print(filter[0,:,:].detach().cpu().numpy())\n",
    "    plt.axis('off')\n",
    "    plt.savefig('filter1.png')\n",
    "plt.show()"
   ]
  },
  {
   "cell_type": "markdown",
   "metadata": {
    "id": "k0CCCoHH9Qzy"
   },
   "source": [
    "Weights of the second conv layer."
   ]
  },
  {
   "cell_type": "code",
   "execution_count": 56,
   "metadata": {
    "colab": {
     "base_uri": "https://localhost:8080/",
     "height": 1000
    },
    "id": "svfahla9JqTj",
    "outputId": "554b3fc5-4d37-4348-f897-7cc4aafff149"
   },
   "outputs": [
    {
     "data": {
      "image/png": "[encoded data removed]",
      "text/plain": [
       "<Figure size 1440x1224 with 20 Axes>"
      ]
     },
     "metadata": {
      "needs_background": "light"
     },
     "output_type": "display_data"
    }
   ],
   "source": [
    "# visualize the second conv layer filters\n",
    "plt.figure(figsize=(20, 17))\n",
    "for i, filter in enumerate(model_weights[1]):\n",
    "    plt.subplot(8, 8, i+1) # (8, 8) because in conv0 we have 5x5 filters and total of 64 (see printed shapes)\n",
    "    plt.imshow(filter[0, :, :].detach().cpu().numpy())\n",
    "    #print(filter[0,:,:].detach().cpu().numpy())\n",
    "    plt.axis('off')\n",
    "    plt.savefig('filter2.png')\n",
    "plt.show()"
   ]
  },
  {
   "cell_type": "markdown",
   "metadata": {
    "id": "XFhwKr7x9eqj"
   },
   "source": [
    "Feature Maps"
   ]
  },
  {
   "cell_type": "code",
   "execution_count": 35,
   "metadata": {
    "id": "0ylT4GANxaVa"
   },
   "outputs": [],
   "source": [
    "device = torch.device('cuda' if torch.cuda.is_available() else 'cpu')\n",
    "network = network.to(device)"
   ]
  },
  {
   "cell_type": "code",
   "execution_count": 36,
   "metadata": {
    "id": "SWEE3MHstKmp"
   },
   "outputs": [],
   "source": [
    "activation = {}\n",
    "def get_activation(name):\n",
    "    def hook(model, input, output):\n",
    "        activation[name] = output.detach()\n",
    "    return hook"
   ]
  },
  {
   "cell_type": "code",
   "execution_count": 37,
   "metadata": {
    "colab": {
     "base_uri": "https://localhost:8080/",
     "height": 835
    },
    "id": "qoeZ0iqMtQov",
    "outputId": "6c90728f-38eb-40ac-fd05-3cff685d0106"
   },
   "outputs": [
    {
     "name": "stderr",
     "output_type": "stream",
     "text": [
      "/var/folders/78/px73zxmj5ks9051sxkyvbfd00000gn/T/ipykernel_23372/2026870952.py:18: UserWarning: Implicit dimension choice for log_softmax has been deprecated. Change the call to include dim=X as an argument.\n",
      "  return F.log_softmax(x)\n"
     ]
    },
    {
     "data": {
      "image/png": "[encoded data removed]",
      "text/plain": [
       "<Figure size 864x1080 with 4 Axes>"
      ]
     },
     "metadata": {
      "needs_background": "light"
     },
     "output_type": "display_data"
    }
   ],
   "source": [
    "network.conv1.register_forward_hook(get_activation('conv1'))\n",
    "data, _ = train_dataset[4]\n",
    "data=data.to(device)\n",
    "data.unsqueeze_(0)\n",
    "output = network(data)\n",
    "\n",
    "k=0\n",
    "act = activation['conv1'].squeeze()\n",
    "fig,ax = plt.subplots(2,2,figsize=(12, 15))\n",
    "\n",
    "for i in range(act.size(0)//4):\n",
    "        for j in range(act.size(0)//4):\n",
    "           ax[i,j].imshow(act[k].detach().cpu().numpy())\n",
    "           k+=1    \n",
    "           plt.savefig('fm1.png') "
   ]
  },
  {
   "cell_type": "code",
   "execution_count": 38,
   "metadata": {
    "colab": {
     "base_uri": "https://localhost:8080/"
    },
    "id": "0ART3w12zkPQ",
    "outputId": "7d4c67c3-889d-464e-e78a-a467a182a9ae"
   },
   "outputs": [
    {
     "data": {
      "text/plain": [
       "[Conv2d(1, 10, kernel_size=(5, 5), stride=(1, 1)),\n",
       " Conv2d(10, 20, kernel_size=(5, 5), stride=(1, 1))]"
      ]
     },
     "execution_count": 38,
     "metadata": {},
     "output_type": "execute_result"
    }
   ],
   "source": [
    "conv_layers"
   ]
  },
  {
   "cell_type": "code",
   "execution_count": 39,
   "metadata": {
    "colab": {
     "base_uri": "https://localhost:8080/"
    },
    "id": "9-eIuhTHxIl4",
    "outputId": "6de732d3-b14c-4a61-d55f-212707c60bae"
   },
   "outputs": [
    {
     "name": "stdout",
     "output_type": "stream",
     "text": [
      "2\n",
      "torch.Size([10, 24, 24])\n",
      "torch.Size([20, 20, 20])\n"
     ]
    }
   ],
   "source": [
    "image, _ = train_dataset[4]\n",
    "\n",
    "outputs = []\n",
    "names = []\n",
    "\n",
    "for layer in conv_layers[0:]:\n",
    "    image = layer(image)\n",
    "    outputs.append(image)\n",
    "    names.append(str(layer))\n",
    "print(len(outputs))\n",
    "\n",
    "#print feature_maps\n",
    "\n",
    "for feature_map in outputs:\n",
    "    print(feature_map.shape)"
   ]
  },
  {
   "cell_type": "code",
   "execution_count": 40,
   "metadata": {
    "colab": {
     "base_uri": "https://localhost:8080/"
    },
    "id": "nI77NkoQx2P7",
    "outputId": "a85d5596-594b-446d-bd3b-796a06d252cb"
   },
   "outputs": [
    {
     "name": "stdout",
     "output_type": "stream",
     "text": [
      "(24, 24)\n",
      "(20, 20)\n"
     ]
    }
   ],
   "source": [
    "processed = []\n",
    "for feature_map in outputs:\n",
    "    feature_map = feature_map.squeeze(0)\n",
    "    gray_scale = torch.sum(feature_map,0)\n",
    "    gray_scale = gray_scale / feature_map.shape[0]\n",
    "    processed.append(gray_scale.data.cpu().numpy())\n",
    "for fm in processed:\n",
    "    print(fm.shape)"
   ]
  },
  {
   "cell_type": "code",
   "execution_count": 41,
   "metadata": {
    "colab": {
     "base_uri": "https://localhost:8080/",
     "height": 460
    },
    "id": "bMvXkXFNx4hT",
    "outputId": "a3fa3cb5-b199-40d0-d20f-f721aed0def0"
   },
   "outputs": [
    {
     "name": "stdout",
     "output_type": "stream",
     "text": [
      "(24, 24)\n",
      "(20, 20)\n"
     ]
    },
    {
     "data": {
      "image/png": "[encoded data removed]",
      "text/plain": [
       "<Figure size 2160x3600 with 2 Axes>"
      ]
     },
     "metadata": {
      "needs_background": "light"
     },
     "output_type": "display_data"
    }
   ],
   "source": [
    "fig = plt.figure(figsize=(30, 50))\n",
    "for i in range(len(processed)):\n",
    "    a = fig.add_subplot(5, 4, i+1)\n",
    "    imgplot = plt.imshow(processed[i])\n",
    "    print(processed[i].shape)\n",
    "    a.axis(\"off\")\n",
    "    a.set_title(names[i].split('(')[0], fontsize=30)\n",
    "plt.savefig(str('feature_maps.jpg'), bbox_inches='tight')"
   ]
  },
  {
   "cell_type": "code",
   "execution_count": 42,
   "metadata": {
    "colab": {
     "base_uri": "https://localhost:8080/",
     "height": 951
    },
    "id": "L_xt-q36v5Ff",
    "outputId": "14444bd5-10fd-46e4-b5c5-0a4e8593c903"
   },
   "outputs": [
    {
     "name": "stderr",
     "output_type": "stream",
     "text": [
      "/var/folders/78/px73zxmj5ks9051sxkyvbfd00000gn/T/ipykernel_23372/2026870952.py:18: UserWarning: Implicit dimension choice for log_softmax has been deprecated. Change the call to include dim=X as an argument.\n",
      "  return F.log_softmax(x)\n"
     ]
    },
    {
     "data": {
      "image/png": "[encoded data removed]",
      "text/plain": [
       "<Figure size 864x1152 with 20 Axes>"
      ]
     },
     "metadata": {
      "needs_background": "light"
     },
     "output_type": "display_data"
    }
   ],
   "source": [
    "network.conv2.register_forward_hook(get_activation('conv2'))\n",
    "data, _ = train_dataset[4]\n",
    "data.unsqueeze_(0)\n",
    "output = network(data)\n",
    "\n",
    "k = 0\n",
    "act = activation['conv2'].squeeze()\n",
    "fig, axarr = plt.subplots(act.size(0)//4,4,figsize=(12, 16))\n",
    "\n",
    "for i in range(act.size(0)//4):\n",
    "        for j in range(4):\n",
    "          axarr[i,j].imshow(act[k].detach().cpu().numpy())\n",
    "          k+=1  \n",
    "          plt.savefig('fm2.png')  "
   ]
  },
  {
   "cell_type": "markdown",
   "metadata": {
    "id": "lFGYWXKxoNxS"
   },
   "source": [
    "### Diagrams"
   ]
  },
  {
   "cell_type": "markdown",
   "metadata": {
    "id": "CmQLLU1koRQR"
   },
   "source": [
    "#### Log-Likelihood versus Examples Seen\n",
    "\n",
    "Let's plot the loss of the NN as it trains. The blue curve shows the loss on the training set. The red dots show the loss on the test set.\n",
    "\n",
    "The training loss shows up as a blue curve whereas the test loss shows up as red dots since we evaluate the model on the training set 100 times per epoch, but only 1 time per epoch on the test set."
   ]
  },
  {
   "cell_type": "code",
   "execution_count": 43,
   "metadata": {
    "colab": {
     "base_uri": "https://localhost:8080/",
     "height": 335
    },
    "id": "K4Hma78yfKUl",
    "outputId": "c829b225-1d17-4faa-90ed-aa04d13aa735"
   },
   "outputs": [
    {
     "name": "stderr",
     "output_type": "stream",
     "text": [
      "/var/folders/78/px73zxmj5ks9051sxkyvbfd00000gn/T/ipykernel_23372/2026870952.py:18: UserWarning: Implicit dimension choice for log_softmax has been deprecated. Change the call to include dim=X as an argument.\n",
      "  return F.log_softmax(x)\n"
     ]
    },
    {
     "data": {
      "text/plain": [
       "Text(0, 0.5, 'negative log likelihood loss')"
      ]
     },
     "execution_count": 43,
     "metadata": {},
     "output_type": "execute_result"
    },
    {
     "data": {
      "image/png": "[encoded data removed]",
      "text/plain": [
       "<Figure size 432x288 with 1 Axes>"
      ]
     },
     "metadata": {
      "needs_background": "light"
     },
     "output_type": "display_data"
    }
   ],
   "source": [
    "with torch.no_grad():\n",
    "  output = network(example_data)\n",
    "\n",
    "fig = plt.figure()\n",
    "plt.plot(train_counter, train_losses, color='blue')\n",
    "plt.scatter(test_counter, test_losses, color='red')\n",
    "plt.legend(['Train Loss', 'Test Loss'], loc='upper right')\n",
    "plt.xlabel('number of training examples seen')\n",
    "plt.ylabel('negative log likelihood loss')"
   ]
  },
  {
   "cell_type": "markdown",
   "metadata": {
    "id": "_ocGuFtJo4Zd"
   },
   "source": [
    "#### Some examples\n",
    "\n",
    "Let us see how the model does on a few images."
   ]
  },
  {
   "cell_type": "code",
   "execution_count": 44,
   "metadata": {
    "colab": {
     "base_uri": "https://localhost:8080/",
     "height": 284
    },
    "id": "gi20iIy8kmEe",
    "outputId": "8a33f1ed-3cf8-4093-8cd7-9a459d931b36"
   },
   "outputs": [
    {
     "data": {
      "image/png": "[encoded data removed]",
      "text/plain": [
       "<Figure size 432x288 with 6 Axes>"
      ]
     },
     "metadata": {},
     "output_type": "display_data"
    }
   ],
   "source": [
    "fig = plt.figure()\n",
    "for i in range(6):\n",
    "  plt.subplot(2,3,i+1)\n",
    "  plt.tight_layout()\n",
    "  plt.imshow(example_data[i][0], cmap='gray', interpolation='none')\n",
    "  plt.title(\"Prediction: {}\".format(\n",
    "    output.data.max(1, keepdim=True)[1][i].item()))\n",
    "  plt.xticks([])\n",
    "  plt.yticks([])"
   ]
  },
  {
   "cell_type": "markdown",
   "metadata": {
    "id": "M5Hnmx2JpHmI"
   },
   "source": [
    "#### Final weights\n",
    "\n",
    "After some epochs of training, let's take a look at the weight matrices. These would also get stored into the results folder."
   ]
  },
  {
   "cell_type": "code",
   "execution_count": 45,
   "metadata": {
    "colab": {
     "base_uri": "https://localhost:8080/"
    },
    "id": "vNEitx3Jk9Zx",
    "outputId": "9201c9e6-602e-4a82-c800-bedfc3d90a56"
   },
   "outputs": [
    {
     "name": "stdout",
     "output_type": "stream",
     "text": [
      "torch.Size([10, 1, 5, 5])\n",
      "torch.Size([20, 10, 5, 5])\n",
      "torch.Size([50, 320])\n",
      "torch.Size([10, 50])\n",
      "Parameter containing:\n",
      "tensor([[[[-0.1036,  0.2433,  0.1184,  0.2427,  0.1973],\n",
      "          [ 0.0527,  0.1561,  0.1296,  0.1715,  0.0522],\n",
      "          [-0.0697, -0.0592, -0.0132, -0.0575,  0.1618],\n",
      "          [-0.0493, -0.1895, -0.2681, -0.1947, -0.1769],\n",
      "          [-0.1526, -0.1103, -0.0582, -0.0604, -0.2611]]],\n",
      "\n",
      "\n",
      "        [[[ 0.2859,  0.3149,  0.3887,  0.2593, -0.1086],\n",
      "          [-0.1085,  0.0292,  0.3520,  0.2165,  0.2827],\n",
      "          [-0.1880,  0.0778, -0.0833,  0.2418,  0.1681],\n",
      "          [-0.3108, -0.0951, -0.2198, -0.0528,  0.0008],\n",
      "          [-0.2413, -0.3724, -0.2542, -0.0648, -0.0623]]],\n",
      "\n",
      "\n",
      "        [[[ 0.3248,  0.3649,  0.1870, -0.0341,  0.1688],\n",
      "          [ 0.0763, -0.0331,  0.2861,  0.2495,  0.2394],\n",
      "          [-0.1762, -0.0192,  0.0888,  0.1045, -0.1516],\n",
      "          [-0.1716,  0.1411,  0.0232,  0.1194, -0.0467],\n",
      "          [ 0.0213,  0.0665,  0.1080,  0.0724, -0.2759]]],\n",
      "\n",
      "\n",
      "        [[[ 0.1441, -0.1257, -0.1712, -0.0366, -0.0550],\n",
      "          [ 0.1769, -0.0820, -0.1998,  0.1207, -0.0257],\n",
      "          [ 0.1824,  0.1309, -0.1273,  0.0941,  0.1146],\n",
      "          [-0.0718, -0.0056,  0.1597,  0.1569,  0.0116],\n",
      "          [ 0.0261,  0.2946,  0.0609,  0.2269,  0.1859]]],\n",
      "\n",
      "\n",
      "        [[[-0.1471, -0.1549,  0.2568,  0.1406,  0.2173],\n",
      "          [ 0.1042,  0.1866,  0.3524,  0.3871, -0.0496],\n",
      "          [ 0.0844,  0.2065,  0.2294,  0.2183, -0.0916],\n",
      "          [-0.1649, -0.1732,  0.0020,  0.2592, -0.0467],\n",
      "          [-0.0234, -0.2190, -0.2248, -0.0032,  0.1980]]],\n",
      "\n",
      "\n",
      "        [[[ 0.2741, -0.0022,  0.1637,  0.2421,  0.1148],\n",
      "          [ 0.1916,  0.2485,  0.2184,  0.0929, -0.1587],\n",
      "          [-0.1896, -0.1109, -0.0102, -0.0727,  0.1271],\n",
      "          [ 0.0118, -0.0843,  0.1206,  0.1793,  0.2780],\n",
      "          [ 0.1070, -0.0625,  0.2597,  0.0737,  0.0857]]],\n",
      "\n",
      "\n",
      "        [[[-0.3131, -0.2677, -0.1665,  0.0498,  0.3377],\n",
      "          [-0.2926, -0.2598,  0.0989,  0.2669,  0.3362],\n",
      "          [-0.3212, -0.0349,  0.0713,  0.2707,  0.0633],\n",
      "          [-0.2421, -0.0325,  0.3054,  0.3285,  0.1971],\n",
      "          [ 0.1817,  0.2868,  0.2912,  0.1408, -0.1122]]],\n",
      "\n",
      "\n",
      "        [[[ 0.1061, -0.1098, -0.0795, -0.2595, -0.1622],\n",
      "          [-0.1331,  0.1075, -0.2627, -0.2807, -0.1546],\n",
      "          [-0.0765,  0.0628, -0.0685, -0.1070,  0.0095],\n",
      "          [ 0.2111, -0.0590,  0.2563,  0.3121,  0.3411],\n",
      "          [-0.0460,  0.2080,  0.0634,  0.3450,  0.0167]]],\n",
      "\n",
      "\n",
      "        [[[ 0.2331,  0.1447,  0.0213, -0.1184, -0.1336],\n",
      "          [ 0.2357,  0.1967,  0.0685, -0.3445, -0.0373],\n",
      "          [ 0.3440,  0.3422,  0.1397, -0.2914, -0.2145],\n",
      "          [ 0.3331,  0.0030,  0.2210, -0.2317, -0.2197],\n",
      "          [ 0.2143, -0.0271, -0.0067,  0.1141,  0.1298]]],\n",
      "\n",
      "\n",
      "        [[[ 0.1795,  0.0128, -0.0396,  0.3229,  0.0738],\n",
      "          [-0.1166,  0.0663, -0.1038,  0.1516,  0.1915],\n",
      "          [-0.2285, -0.2455, -0.1124, -0.0353, -0.0398],\n",
      "          [-0.1561, -0.1263, -0.3116, -0.2725, -0.2378],\n",
      "          [ 0.1719,  0.1360, -0.0975, -0.0697, -0.0278]]]], requires_grad=True)\n",
      "Parameter containing:\n",
      "tensor([[-0.2359, -0.1861, -0.1278, -0.1550,  0.0130,  0.0108, -0.0983, -0.1350,\n",
      "          0.1029,  0.0723,  0.0466, -0.0657,  0.2019,  0.2535,  0.1293, -0.0623,\n",
      "          0.1358, -0.2495, -0.1497, -0.1992, -0.1697, -0.1885, -0.1701, -0.2305,\n",
      "          0.1874,  0.0705, -0.0817, -0.1051,  0.1399,  0.0521, -0.1617,  0.1444,\n",
      "          0.1218,  0.0023, -0.0800, -0.1988, -0.1401, -0.1734,  0.1038, -0.0986,\n",
      "          0.1107,  0.2429, -0.0451, -0.0751,  0.1510,  0.0414,  0.1826,  0.2324,\n",
      "         -0.1569,  0.1260],\n",
      "        [ 0.0912,  0.1475, -0.2396,  0.1534, -0.0673, -0.1757,  0.1231,  0.0817,\n",
      "         -0.1991, -0.0321,  0.1627, -0.2158,  0.1084, -0.0357, -0.2199,  0.0542,\n",
      "         -0.1497,  0.1467,  0.1768,  0.1910,  0.1093, -0.2533, -0.2780,  0.1877,\n",
      "          0.0116,  0.3116,  0.2040,  0.0985, -0.1778, -0.0997,  0.1668, -0.0101,\n",
      "         -0.1520, -0.1622, -0.0103,  0.2277,  0.0338,  0.1817,  0.0629, -0.1813,\n",
      "          0.1486, -0.1197, -0.1323,  0.1958, -0.2173,  0.0302,  0.1007, -0.1024,\n",
      "         -0.0465, -0.1308],\n",
      "        [-0.1727,  0.0761,  0.1350,  0.0371,  0.1406,  0.0361,  0.1557,  0.1793,\n",
      "          0.0809,  0.1818,  0.0340,  0.1285,  0.0754, -0.0513, -0.0869, -0.1097,\n",
      "         -0.1247,  0.1522, -0.1245, -0.2494, -0.1104, -0.0677, -0.1445,  0.1895,\n",
      "         -0.1158,  0.0440, -0.1364, -0.1011,  0.0153, -0.1088,  0.1700,  0.1033,\n",
      "         -0.1237, -0.1792,  0.1398, -0.0743,  0.1615,  0.2027, -0.1580, -0.0468,\n",
      "          0.0024,  0.1999,  0.1253, -0.0184, -0.0922,  0.1071,  0.1116,  0.2149,\n",
      "          0.1241,  0.0340],\n",
      "        [ 0.1176, -0.1417,  0.1270,  0.0938, -0.0354,  0.0312, -0.1339,  0.1776,\n",
      "         -0.1369, -0.0733,  0.0049, -0.0888, -0.1640, -0.0359, -0.0816,  0.1493,\n",
      "          0.0051,  0.1573,  0.1427, -0.1339, -0.1556, -0.1250,  0.1169, -0.0802,\n",
      "          0.1423, -0.1466, -0.1172,  0.1395, -0.0659,  0.1274,  0.1556,  0.1574,\n",
      "          0.1662, -0.0405, -0.1809, -0.1445,  0.1206,  0.1870, -0.1579,  0.2174,\n",
      "         -0.0328, -0.0048, -0.0925, -0.0562,  0.0431,  0.1188, -0.0298, -0.0388,\n",
      "          0.1131,  0.0736],\n",
      "        [ 0.1545,  0.1090,  0.1367, -0.0806,  0.1063, -0.3150,  0.2042,  0.0879,\n",
      "          0.0933, -0.0915,  0.2536,  0.2490, -0.1079, -0.0516, -0.0877, -0.1860,\n",
      "         -0.2320, -0.1726,  0.2224,  0.0845,  0.1668,  0.1549,  0.0478, -0.0810,\n",
      "         -0.0868,  0.0079,  0.0146,  0.1638, -0.2327, -0.1987, -0.1422, -0.2151,\n",
      "         -0.0681,  0.2585,  0.2678,  0.1616, -0.1134, -0.0789, -0.0688,  0.0565,\n",
      "         -0.1756,  0.0819, -0.0920, -0.1316,  0.2087, -0.0303,  0.0238, -0.0504,\n",
      "         -0.1302, -0.2439],\n",
      "        [ 0.1092,  0.0980, -0.0836, -0.1573,  0.1279, -0.1109, -0.0115,  0.1786,\n",
      "         -0.2635, -0.1868, -0.1372,  0.0361, -0.1802,  0.1571,  0.1741,  0.1635,\n",
      "          0.1760, -0.1247, -0.1209,  0.1620,  0.0439, -0.2060,  0.1233, -0.1537,\n",
      "          0.1887,  0.0772, -0.0748,  0.1579, -0.1567,  0.1298, -0.1555,  0.1617,\n",
      "          0.1979,  0.2043, -0.1169, -0.0950, -0.1188, -0.1050,  0.2140, -0.0603,\n",
      "          0.0671, -0.1420,  0.1112, -0.0424,  0.1919, -0.0291, -0.1605, -0.1298,\n",
      "          0.0971,  0.0411],\n",
      "        [-0.2409,  0.1332, -0.2978, -0.0565,  0.1814, -0.3688,  0.2205, -0.1115,\n",
      "          0.0800, -0.1331,  0.2489, -0.0725, -0.1639,  0.2824, -0.0242, -0.0286,\n",
      "          0.1739, -0.1647, -0.2028,  0.1040, -0.2190, -0.0337, -0.1126, -0.0345,\n",
      "         -0.0281, -0.0858,  0.1199,  0.1323, -0.1316, -0.1931, -0.0886,  0.1246,\n",
      "         -0.1105,  0.2598,  0.2529,  0.1463, -0.3381, -0.2806,  0.2505, -0.0240,\n",
      "         -0.0396,  0.1833,  0.1100, -0.0641, -0.1641,  0.0053,  0.1583,  0.0116,\n",
      "          0.0967,  0.0342],\n",
      "        [ 0.1294, -0.1065,  0.1223,  0.0119, -0.1404,  0.0561, -0.0946, -0.0084,\n",
      "          0.0696,  0.0642, -0.0021, -0.1402,  0.1012, -0.1559,  0.1911, -0.2611,\n",
      "         -0.1105,  0.0196, -0.1313, -0.0187, -0.0626,  0.2052, -0.2554,  0.1449,\n",
      "          0.2041,  0.0293, -0.0541, -0.2152,  0.1438,  0.1200,  0.1464, -0.2441,\n",
      "         -0.1630,  0.0777, -0.1993, -0.1896,  0.1391,  0.2014, -0.1710,  0.2119,\n",
      "          0.1352, -0.1012, -0.0125,  0.2137,  0.2087, -0.0838, -0.1785, -0.1184,\n",
      "         -0.1843, -0.2191],\n",
      "        [ 0.0235,  0.1442, -0.0282,  0.0526,  0.1861,  0.0536, -0.0617, -0.1290,\n",
      "          0.0693, -0.1565, -0.0031, -0.0750,  0.0073, -0.0858,  0.1929,  0.1847,\n",
      "          0.1905, -0.0703, -0.0964,  0.1750,  0.1608, -0.0366,  0.1621,  0.0374,\n",
      "         -0.1492, -0.0478,  0.0484, -0.0989, -0.0834, -0.0841,  0.0881,  0.1656,\n",
      "         -0.1175, -0.1442, -0.0892,  0.1782,  0.1696,  0.1066, -0.0676, -0.1308,\n",
      "         -0.1580,  0.1035, -0.1056, -0.1087,  0.0061, -0.0617, -0.0435, -0.1609,\n",
      "          0.0479,  0.0989],\n",
      "        [ 0.1591, -0.2814,  0.1442, -0.0206, -0.2219,  0.0282,  0.1766,  0.0542,\n",
      "          0.0997, -0.0395, -0.1520,  0.2251, -0.1031, -0.1237,  0.1599, -0.0180,\n",
      "          0.0832, -0.1719,  0.1032,  0.1301,  0.0986,  0.1666,  0.1050, -0.1764,\n",
      "          0.0817, -0.0423,  0.0238,  0.1539,  0.1048,  0.1166, -0.2174,  0.0638,\n",
      "          0.0612,  0.0169, -0.0778,  0.1382, -0.0550,  0.0146, -0.1597,  0.1857,\n",
      "         -0.2141, -0.0596, -0.0071,  0.1430,  0.2059, -0.1044, -0.0498,  0.0885,\n",
      "         -0.1965, -0.1543]], requires_grad=True)\n"
     ]
    }
   ],
   "source": [
    "print(network.conv1.weight.size())\n",
    "print(network.conv2.weight.size())\n",
    "print(network.fc1.weight.size())\n",
    "print(network.fc2.weight.size())\n",
    "print(network.conv1.weight)\n",
    "print(network.fc2.weight)"
   ]
  },
  {
   "cell_type": "code",
   "execution_count": 46,
   "metadata": {
    "colab": {
     "base_uri": "https://localhost:8080/",
     "height": 926
    },
    "id": "17VCAx6vA7D8",
    "outputId": "0e4c6932-a8ef-4b99-9575-5b00e0eab969"
   },
   "outputs": [
    {
     "data": {
      "image/png": "[encoded data removed]",
      "text/plain": [
       "<Figure size 1440x1224 with 10 Axes>"
      ]
     },
     "metadata": {
      "needs_background": "light"
     },
     "output_type": "display_data"
    }
   ],
   "source": [
    "plt.figure(figsize=(20, 17))\n",
    "for i in range(10):\n",
    "    plt.subplot(3, 4, i+1)\n",
    "    plt.imshow(network.conv1.weight.data[i][0])\n",
    "    plt.axis('off')\n",
    "    plt.savefig('filter1.png')\n",
    "plt.show()"
   ]
  },
  {
   "cell_type": "markdown",
   "metadata": {
    "id": "o7MffNC6pTOX"
   },
   "source": [
    "#### Norms\n",
    "\n",
    "Let's take a look at those final norms. Notice that they seem to be virtually the same as those printed out during the end of the last training epoch."
   ]
  },
  {
   "cell_type": "code",
   "execution_count": 47,
   "metadata": {
    "colab": {
     "base_uri": "https://localhost:8080/"
    },
    "id": "c8aId1ljlFG6",
    "outputId": "cb4481fd-8d61-4338-9673-9de97c366393"
   },
   "outputs": [
    {
     "name": "stdout",
     "output_type": "stream",
     "text": [
      "2.9323325157165527 3.6658847332000732 5.358343601226807 3.180638313293457\n"
     ]
    }
   ],
   "source": [
    "print(\n",
    "float(torch.norm(network.conv1.weight.data)),\n",
    "float(torch.norm(network.conv2.weight.data)),\n",
    "float(torch.norm(network.fc1.weight.data)),\n",
    "float(torch.norm(network.fc2.weight.data))\n",
    ")"
   ]
  },
  {
   "cell_type": "code",
   "execution_count": 48,
   "metadata": {
    "colab": {
     "base_uri": "https://localhost:8080/"
    },
    "id": "FLwezPlTr82X",
    "outputId": "685d8661-6547-485b-a865-74fb11d443d5"
   },
   "outputs": [
    {
     "name": "stdout",
     "output_type": "stream",
     "text": [
      "<class 'torch.Tensor'> torch.Size([10, 1, 5, 5])\n",
      "<class 'torch.Tensor'> torch.Size([10])\n",
      "<class 'torch.Tensor'> torch.Size([20, 10, 5, 5])\n",
      "<class 'torch.Tensor'> torch.Size([20])\n",
      "<class 'torch.Tensor'> torch.Size([50, 320])\n",
      "<class 'torch.Tensor'> torch.Size([50])\n",
      "<class 'torch.Tensor'> torch.Size([10, 50])\n",
      "<class 'torch.Tensor'> torch.Size([10])\n"
     ]
    }
   ],
   "source": [
    "for param in network.parameters():\n",
    "    print(type(param.data), param.size())"
   ]
  },
  {
   "cell_type": "code",
   "execution_count": 49,
   "metadata": {
    "colab": {
     "base_uri": "https://localhost:8080/"
    },
    "id": "ALh6QKcfvcBJ",
    "outputId": "01198146-0c63-430e-8192-a51220c10551"
   },
   "outputs": [
    {
     "name": "stdout",
     "output_type": "stream",
     "text": [
      "conv1.weight\n",
      "conv1.bias\n",
      "conv2.weight\n",
      "conv2.bias\n",
      "fc1.weight\n",
      "fc1.bias\n",
      "fc2.weight\n",
      "fc2.bias\n"
     ]
    }
   ],
   "source": [
    "for name, param in network.named_parameters():\n",
    "  if param.requires_grad:\n",
    "    print(name)"
   ]
  },
  {
   "cell_type": "code",
   "execution_count": 50,
   "metadata": {
    "colab": {
     "base_uri": "https://localhost:8080/"
    },
    "id": "oBGRVqkNv88_",
    "outputId": "c3cc583e-36f7-4031-89e6-f436e6eb6713"
   },
   "outputs": [
    {
     "name": "stdout",
     "output_type": "stream",
     "text": [
      "Collecting torchsummary\n",
      "  Using cached torchsummary-1.5.1-py3-none-any.whl (2.8 kB)\n",
      "Installing collected packages: torchsummary\n",
      "Successfully installed torchsummary-1.5.1\n"
     ]
    }
   ],
   "source": [
    "!pip install torchsummary"
   ]
  },
  {
   "cell_type": "code",
   "execution_count": 51,
   "metadata": {
    "colab": {
     "base_uri": "https://localhost:8080/"
    },
    "id": "jBz8FlshwDdi",
    "outputId": "ae78180c-e27f-496a-ee5f-7b1246d6a5e1"
   },
   "outputs": [
    {
     "name": "stdout",
     "output_type": "stream",
     "text": [
      "----------------------------------------------------------------\n",
      "        Layer (type)               Output Shape         Param #\n",
      "================================================================\n",
      "            Conv2d-1           [-1, 10, 24, 24]             260\n",
      "            Conv2d-2             [-1, 20, 8, 8]           5,020\n",
      "         Dropout2d-3             [-1, 20, 8, 8]               0\n",
      "            Linear-4                   [-1, 50]          16,050\n",
      "            Linear-5                   [-1, 10]             510\n",
      "================================================================\n",
      "Total params: 21,840\n",
      "Trainable params: 21,840\n",
      "Non-trainable params: 0\n",
      "----------------------------------------------------------------\n",
      "Input size (MB): 0.00\n",
      "Forward/backward pass size (MB): 0.06\n",
      "Params size (MB): 0.08\n",
      "Estimated Total Size (MB): 0.15\n",
      "----------------------------------------------------------------\n"
     ]
    },
    {
     "name": "stderr",
     "output_type": "stream",
     "text": [
      "/var/folders/78/px73zxmj5ks9051sxkyvbfd00000gn/T/ipykernel_23372/2026870952.py:18: UserWarning: Implicit dimension choice for log_softmax has been deprecated. Change the call to include dim=X as an argument.\n",
      "  return F.log_softmax(x)\n"
     ]
    }
   ],
   "source": [
    "import torchsummary\n",
    "torchsummary.summary(network, (1,28,28))"
   ]
  }
 ],
 "metadata": {
  "colab": {
   "collapsed_sections": [],
   "provenance": []
  },
  "kernelspec": {
   "display_name": "Python 3 (ipykernel)",
   "language": "python",
   "name": "python3"
  },
  "language_info": {
   "codemirror_mode": {
    "name": "ipython",
    "version": 3
   },
   "file_extension": ".py",
   "mimetype": "text/x-python",
   "name": "python",
   "nbconvert_exporter": "python",
   "pygments_lexer": "ipython3",
   "version": "3.9.12"
  },
  "widgets": {
   "application/vnd.jupyter.widget-state+json": {
    "027b2a01c3aa4bf292d204f0b43e02fe": {
     "model_module": "@jupyter-widgets/base",
     "model_module_version": "1.2.0",
     "model_name": "LayoutModel",
     "state": {
      "_model_module": "@jupyter-widgets/base",
      "_model_module_version": "1.2.0",
      "_model_name": "LayoutModel",
      "_view_count": null,
      "_view_module": "@jupyter-widgets/base",
      "_view_module_version": "1.2.0",
      "_view_name": "LayoutView",
      "align_content": null,
      "align_items": null,
      "align_self": null,
      "border": null,
      "bottom": null,
      "display": null,
      "flex": null,
      "flex_flow": null,
      "grid_area": null,
      "grid_auto_columns": null,
      "grid_auto_flow": null,
      "grid_auto_rows": null,
      "grid_column": null,
      "grid_gap": null,
      "grid_row": null,
      "grid_template_areas": null,
      "grid_template_columns": null,
      "grid_template_rows": null,
      "height": null,
      "justify_content": null,
      "justify_items": null,
      "left": null,
      "margin": null,
      "max_height": null,
      "max_width": null,
      "min_height": null,
      "min_width": null,
      "object_fit": null,
      "object_position": null,
      "order": null,
      "overflow": null,
      "overflow_x": null,
      "overflow_y": null,
      "padding": null,
      "right": null,
      "top": null,
      "visibility": null,
      "width": null
     }
    },
    "02f6f38194af48e0a215fd0122ef545e": {
     "model_module": "@jupyter-widgets/base",
     "model_module_version": "1.2.0",
     "model_name": "LayoutModel",
     "state": {
      "_model_module": "@jupyter-widgets/base",
      "_model_module_version": "1.2.0",
      "_model_name": "LayoutModel",
      "_view_count": null,
      "_view_module": "@jupyter-widgets/base",
      "_view_module_version": "1.2.0",
      "_view_name": "LayoutView",
      "align_content": null,
      "align_items": null,
      "align_self": null,
      "border": null,
      "bottom": null,
      "display": null,
      "flex": null,
      "flex_flow": null,
      "grid_area": null,
      "grid_auto_columns": null,
      "grid_auto_flow": null,
      "grid_auto_rows": null,
      "grid_column": null,
      "grid_gap": null,
      "grid_row": null,
      "grid_template_areas": null,
      "grid_template_columns": null,
      "grid_template_rows": null,
      "height": null,
      "justify_content": null,
      "justify_items": null,
      "left": null,
      "margin": null,
      "max_height": null,
      "max_width": null,
      "min_height": null,
      "min_width": null,
      "object_fit": null,
      "object_position": null,
      "order": null,
      "overflow": null,
      "overflow_x": null,
      "overflow_y": null,
      "padding": null,
      "right": null,
      "top": null,
      "visibility": null,
      "width": null
     }
    },
    "05665de1ebb04eab99c7c6a4499b0662": {
     "model_module": "@jupyter-widgets/controls",
     "model_module_version": "1.5.0",
     "model_name": "ProgressStyleModel",
     "state": {
      "_model_module": "@jupyter-widgets/controls",
      "_model_module_version": "1.5.0",
      "_model_name": "ProgressStyleModel",
      "_view_count": null,
      "_view_module": "@jupyter-widgets/base",
      "_view_module_version": "1.2.0",
      "_view_name": "StyleView",
      "bar_color": null,
      "description_width": ""
     }
    },
    "07615fc58c85434683d131dabe659fb8": {
     "model_module": "@jupyter-widgets/base",
     "model_module_version": "1.2.0",
     "model_name": "LayoutModel",
     "state": {
      "_model_module": "@jupyter-widgets/base",
      "_model_module_version": "1.2.0",
      "_model_name": "LayoutModel",
      "_view_count": null,
      "_view_module": "@jupyter-widgets/base",
      "_view_module_version": "1.2.0",
      "_view_name": "LayoutView",
      "align_content": null,
      "align_items": null,
      "align_self": null,
      "border": null,
      "bottom": null,
      "display": null,
      "flex": null,
      "flex_flow": null,
      "grid_area": null,
      "grid_auto_columns": null,
      "grid_auto_flow": null,
      "grid_auto_rows": null,
      "grid_column": null,
      "grid_gap": null,
      "grid_row": null,
      "grid_template_areas": null,
      "grid_template_columns": null,
      "grid_template_rows": null,
      "height": null,
      "justify_content": null,
      "justify_items": null,
      "left": null,
      "margin": null,
      "max_height": null,
      "max_width": null,
      "min_height": null,
      "min_width": null,
      "object_fit": null,
      "object_position": null,
      "order": null,
      "overflow": null,
      "overflow_x": null,
      "overflow_y": null,
      "padding": null,
      "right": null,
      "top": null,
      "visibility": null,
      "width": null
     }
    },
    "084d884300f94d9596e603e02c8ab8e8": {
     "model_module": "@jupyter-widgets/controls",
     "model_module_version": "1.5.0",
     "model_name": "HTMLModel",
     "state": {
      "_dom_classes": [],
      "_model_module": "@jupyter-widgets/controls",
      "_model_module_version": "1.5.0",
      "_model_name": "HTMLModel",
      "_view_count": null,
      "_view_module": "@jupyter-widgets/controls",
      "_view_module_version": "1.5.0",
      "_view_name": "HTMLView",
      "description": "",
      "description_tooltip": null,
      "layout": "IPY_MODEL_248868f864384511978248968931f58e",
      "placeholder": "​",
      "style": "IPY_MODEL_d719ffbc91f8423db7b26331f8dca64b",
      "value": "100%"
     }
    },
    "0b92451446d845548a4fc5fd8b08d0c9": {
     "model_module": "@jupyter-widgets/base",
     "model_module_version": "1.2.0",
     "model_name": "LayoutModel",
     "state": {
      "_model_module": "@jupyter-widgets/base",
      "_model_module_version": "1.2.0",
      "_model_name": "LayoutModel",
      "_view_count": null,
      "_view_module": "@jupyter-widgets/base",
      "_view_module_version": "1.2.0",
      "_view_name": "LayoutView",
      "align_content": null,
      "align_items": null,
      "align_self": null,
      "border": null,
      "bottom": null,
      "display": null,
      "flex": null,
      "flex_flow": null,
      "grid_area": null,
      "grid_auto_columns": null,
      "grid_auto_flow": null,
      "grid_auto_rows": null,
      "grid_column": null,
      "grid_gap": null,
      "grid_row": null,
      "grid_template_areas": null,
      "grid_template_columns": null,
      "grid_template_rows": null,
      "height": null,
      "justify_content": null,
      "justify_items": null,
      "left": null,
      "margin": null,
      "max_height": null,
      "max_width": null,
      "min_height": null,
      "min_width": null,
      "object_fit": null,
      "object_position": null,
      "order": null,
      "overflow": null,
      "overflow_x": null,
      "overflow_y": null,
      "padding": null,
      "right": null,
      "top": null,
      "visibility": null,
      "width": null
     }
    },
    "13412885e84a40bc90d394985dabe8f5": {
     "model_module": "@jupyter-widgets/base",
     "model_module_version": "1.2.0",
     "model_name": "LayoutModel",
     "state": {
      "_model_module": "@jupyter-widgets/base",
      "_model_module_version": "1.2.0",
      "_model_name": "LayoutModel",
      "_view_count": null,
      "_view_module": "@jupyter-widgets/base",
      "_view_module_version": "1.2.0",
      "_view_name": "LayoutView",
      "align_content": null,
      "align_items": null,
      "align_self": null,
      "border": null,
      "bottom": null,
      "display": null,
      "flex": null,
      "flex_flow": null,
      "grid_area": null,
      "grid_auto_columns": null,
      "grid_auto_flow": null,
      "grid_auto_rows": null,
      "grid_column": null,
      "grid_gap": null,
      "grid_row": null,
      "grid_template_areas": null,
      "grid_template_columns": null,
      "grid_template_rows": null,
      "height": null,
      "justify_content": null,
      "justify_items": null,
      "left": null,
      "margin": null,
      "max_height": null,
      "max_width": null,
      "min_height": null,
      "min_width": null,
      "object_fit": null,
      "object_position": null,
      "order": null,
      "overflow": null,
      "overflow_x": null,
      "overflow_y": null,
      "padding": null,
      "right": null,
      "top": null,
      "visibility": null,
      "width": null
     }
    },
    "1466ad5f698e459e840a7813e5d75450": {
     "model_module": "@jupyter-widgets/base",
     "model_module_version": "1.2.0",
     "model_name": "LayoutModel",
     "state": {
      "_model_module": "@jupyter-widgets/base",
      "_model_module_version": "1.2.0",
      "_model_name": "LayoutModel",
      "_view_count": null,
      "_view_module": "@jupyter-widgets/base",
      "_view_module_version": "1.2.0",
      "_view_name": "LayoutView",
      "align_content": null,
      "align_items": null,
      "align_self": null,
      "border": null,
      "bottom": null,
      "display": null,
      "flex": null,
      "flex_flow": null,
      "grid_area": null,
      "grid_auto_columns": null,
      "grid_auto_flow": null,
      "grid_auto_rows": null,
      "grid_column": null,
      "grid_gap": null,
      "grid_row": null,
      "grid_template_areas": null,
      "grid_template_columns": null,
      "grid_template_rows": null,
      "height": null,
      "justify_content": null,
      "justify_items": null,
      "left": null,
      "margin": null,
      "max_height": null,
      "max_width": null,
      "min_height": null,
      "min_width": null,
      "object_fit": null,
      "object_position": null,
      "order": null,
      "overflow": null,
      "overflow_x": null,
      "overflow_y": null,
      "padding": null,
      "right": null,
      "top": null,
      "visibility": null,
      "width": null
     }
    },
    "1e1c7d6a812e449db139c8853d9cfb80": {
     "model_module": "@jupyter-widgets/controls",
     "model_module_version": "1.5.0",
     "model_name": "DescriptionStyleModel",
     "state": {
      "_model_module": "@jupyter-widgets/controls",
      "_model_module_version": "1.5.0",
      "_model_name": "DescriptionStyleModel",
      "_view_count": null,
      "_view_module": "@jupyter-widgets/base",
      "_view_module_version": "1.2.0",
      "_view_name": "StyleView",
      "description_width": ""
     }
    },
    "2044699725d94225b1ceae6aae8e8a9c": {
     "model_module": "@jupyter-widgets/controls",
     "model_module_version": "1.5.0",
     "model_name": "HTMLModel",
     "state": {
      "_dom_classes": [],
      "_model_module": "@jupyter-widgets/controls",
      "_model_module_version": "1.5.0",
      "_model_name": "HTMLModel",
      "_view_count": null,
      "_view_module": "@jupyter-widgets/controls",
      "_view_module_version": "1.5.0",
      "_view_name": "HTMLView",
      "description": "",
      "description_tooltip": null,
      "layout": "IPY_MODEL_c6faa735a0784c67b2c33e43fe1bacb1",
      "placeholder": "​",
      "style": "IPY_MODEL_1e1c7d6a812e449db139c8853d9cfb80",
      "value": " 9912422/9912422 [00:00&lt;00:00, 42576718.94it/s]"
     }
    },
    "248868f864384511978248968931f58e": {
     "model_module": "@jupyter-widgets/base",
     "model_module_version": "1.2.0",
     "model_name": "LayoutModel",
     "state": {
      "_model_module": "@jupyter-widgets/base",
      "_model_module_version": "1.2.0",
      "_model_name": "LayoutModel",
      "_view_count": null,
      "_view_module": "@jupyter-widgets/base",
      "_view_module_version": "1.2.0",
      "_view_name": "LayoutView",
      "align_content": null,
      "align_items": null,
      "align_self": null,
      "border": null,
      "bottom": null,
      "display": null,
      "flex": null,
      "flex_flow": null,
      "grid_area": null,
      "grid_auto_columns": null,
      "grid_auto_flow": null,
      "grid_auto_rows": null,
      "grid_column": null,
      "grid_gap": null,
      "grid_row": null,
      "grid_template_areas": null,
      "grid_template_columns": null,
      "grid_template_rows": null,
      "height": null,
      "justify_content": null,
      "justify_items": null,
      "left": null,
      "margin": null,
      "max_height": null,
      "max_width": null,
      "min_height": null,
      "min_width": null,
      "object_fit": null,
      "object_position": null,
      "order": null,
      "overflow": null,
      "overflow_x": null,
      "overflow_y": null,
      "padding": null,
      "right": null,
      "top": null,
      "visibility": null,
      "width": null
     }
    },
    "2f79e5d8be0b4ed68d3fd478ea6a8a83": {
     "model_module": "@jupyter-widgets/controls",
     "model_module_version": "1.5.0",
     "model_name": "DescriptionStyleModel",
     "state": {
      "_model_module": "@jupyter-widgets/controls",
      "_model_module_version": "1.5.0",
      "_model_name": "DescriptionStyleModel",
      "_view_count": null,
      "_view_module": "@jupyter-widgets/base",
      "_view_module_version": "1.2.0",
      "_view_name": "StyleView",
      "description_width": ""
     }
    },
    "3e7ef6778ee14e8e874fc48f4adbcbe4": {
     "model_module": "@jupyter-widgets/controls",
     "model_module_version": "1.5.0",
     "model_name": "ProgressStyleModel",
     "state": {
      "_model_module": "@jupyter-widgets/controls",
      "_model_module_version": "1.5.0",
      "_model_name": "ProgressStyleModel",
      "_view_count": null,
      "_view_module": "@jupyter-widgets/base",
      "_view_module_version": "1.2.0",
      "_view_name": "StyleView",
      "bar_color": null,
      "description_width": ""
     }
    },
    "404c6ce41cc240ecb2dd880248813323": {
     "model_module": "@jupyter-widgets/controls",
     "model_module_version": "1.5.0",
     "model_name": "DescriptionStyleModel",
     "state": {
      "_model_module": "@jupyter-widgets/controls",
      "_model_module_version": "1.5.0",
      "_model_name": "DescriptionStyleModel",
      "_view_count": null,
      "_view_module": "@jupyter-widgets/base",
      "_view_module_version": "1.2.0",
      "_view_name": "StyleView",
      "description_width": ""
     }
    },
    "41362678efc04be5857042ade513c366": {
     "model_module": "@jupyter-widgets/base",
     "model_module_version": "1.2.0",
     "model_name": "LayoutModel",
     "state": {
      "_model_module": "@jupyter-widgets/base",
      "_model_module_version": "1.2.0",
      "_model_name": "LayoutModel",
      "_view_count": null,
      "_view_module": "@jupyter-widgets/base",
      "_view_module_version": "1.2.0",
      "_view_name": "LayoutView",
      "align_content": null,
      "align_items": null,
      "align_self": null,
      "border": null,
      "bottom": null,
      "display": null,
      "flex": null,
      "flex_flow": null,
      "grid_area": null,
      "grid_auto_columns": null,
      "grid_auto_flow": null,
      "grid_auto_rows": null,
      "grid_column": null,
      "grid_gap": null,
      "grid_row": null,
      "grid_template_areas": null,
      "grid_template_columns": null,
      "grid_template_rows": null,
      "height": null,
      "justify_content": null,
      "justify_items": null,
      "left": null,
      "margin": null,
      "max_height": null,
      "max_width": null,
      "min_height": null,
      "min_width": null,
      "object_fit": null,
      "object_position": null,
      "order": null,
      "overflow": null,
      "overflow_x": null,
      "overflow_y": null,
      "padding": null,
      "right": null,
      "top": null,
      "visibility": null,
      "width": null
     }
    },
    "59955a8db8da4fb9814f804dc8bfa6c7": {
     "model_module": "@jupyter-widgets/controls",
     "model_module_version": "1.5.0",
     "model_name": "HBoxModel",
     "state": {
      "_dom_classes": [],
      "_model_module": "@jupyter-widgets/controls",
      "_model_module_version": "1.5.0",
      "_model_name": "HBoxModel",
      "_view_count": null,
      "_view_module": "@jupyter-widgets/controls",
      "_view_module_version": "1.5.0",
      "_view_name": "HBoxView",
      "box_style": "",
      "children": [
       "IPY_MODEL_a51066cf5f3240b18a28c29b93bfb44c",
       "IPY_MODEL_ce16c4d3fffa4ced8df41b58c39f1331",
       "IPY_MODEL_2044699725d94225b1ceae6aae8e8a9c"
      ],
      "layout": "IPY_MODEL_e3c853b0b2764333ad52356e2a14a4f4"
     }
    },
    "5c914350fda1451686fd2a929ab42a06": {
     "model_module": "@jupyter-widgets/controls",
     "model_module_version": "1.5.0",
     "model_name": "HTMLModel",
     "state": {
      "_dom_classes": [],
      "_model_module": "@jupyter-widgets/controls",
      "_model_module_version": "1.5.0",
      "_model_name": "HTMLModel",
      "_view_count": null,
      "_view_module": "@jupyter-widgets/controls",
      "_view_module_version": "1.5.0",
      "_view_name": "HTMLView",
      "description": "",
      "description_tooltip": null,
      "layout": "IPY_MODEL_da235270b9ff422a8127f9f081d95833",
      "placeholder": "​",
      "style": "IPY_MODEL_f18bf9abbda743f9a0245524887041f9",
      "value": " 28881/28881 [00:00&lt;00:00, 357236.53it/s]"
     }
    },
    "6863b73f063242a3ba3238b6c7b09b89": {
     "model_module": "@jupyter-widgets/controls",
     "model_module_version": "1.5.0",
     "model_name": "FloatProgressModel",
     "state": {
      "_dom_classes": [],
      "_model_module": "@jupyter-widgets/controls",
      "_model_module_version": "1.5.0",
      "_model_name": "FloatProgressModel",
      "_view_count": null,
      "_view_module": "@jupyter-widgets/controls",
      "_view_module_version": "1.5.0",
      "_view_name": "ProgressView",
      "bar_style": "success",
      "description": "",
      "description_tooltip": null,
      "layout": "IPY_MODEL_0b92451446d845548a4fc5fd8b08d0c9",
      "max": 4542,
      "min": 0,
      "orientation": "horizontal",
      "style": "IPY_MODEL_3e7ef6778ee14e8e874fc48f4adbcbe4",
      "value": 4542
     }
    },
    "68a61dad9c8e48a2bb6b11a31dbe9fb1": {
     "model_module": "@jupyter-widgets/controls",
     "model_module_version": "1.5.0",
     "model_name": "ProgressStyleModel",
     "state": {
      "_model_module": "@jupyter-widgets/controls",
      "_model_module_version": "1.5.0",
      "_model_name": "ProgressStyleModel",
      "_view_count": null,
      "_view_module": "@jupyter-widgets/base",
      "_view_module_version": "1.2.0",
      "_view_name": "StyleView",
      "bar_color": null,
      "description_width": ""
     }
    },
    "73dd44fcabdc4ba5b29566503f3cd4ca": {
     "model_module": "@jupyter-widgets/controls",
     "model_module_version": "1.5.0",
     "model_name": "HTMLModel",
     "state": {
      "_dom_classes": [],
      "_model_module": "@jupyter-widgets/controls",
      "_model_module_version": "1.5.0",
      "_model_name": "HTMLModel",
      "_view_count": null,
      "_view_module": "@jupyter-widgets/controls",
      "_view_module_version": "1.5.0",
      "_view_name": "HTMLView",
      "description": "",
      "description_tooltip": null,
      "layout": "IPY_MODEL_13412885e84a40bc90d394985dabe8f5",
      "placeholder": "​",
      "style": "IPY_MODEL_87e84db02c4949ac9ca8a51d953e1563",
      "value": "100%"
     }
    },
    "742f3455fb774a449c49bf7d4b517821": {
     "model_module": "@jupyter-widgets/base",
     "model_module_version": "1.2.0",
     "model_name": "LayoutModel",
     "state": {
      "_model_module": "@jupyter-widgets/base",
      "_model_module_version": "1.2.0",
      "_model_name": "LayoutModel",
      "_view_count": null,
      "_view_module": "@jupyter-widgets/base",
      "_view_module_version": "1.2.0",
      "_view_name": "LayoutView",
      "align_content": null,
      "align_items": null,
      "align_self": null,
      "border": null,
      "bottom": null,
      "display": null,
      "flex": null,
      "flex_flow": null,
      "grid_area": null,
      "grid_auto_columns": null,
      "grid_auto_flow": null,
      "grid_auto_rows": null,
      "grid_column": null,
      "grid_gap": null,
      "grid_row": null,
      "grid_template_areas": null,
      "grid_template_columns": null,
      "grid_template_rows": null,
      "height": null,
      "justify_content": null,
      "justify_items": null,
      "left": null,
      "margin": null,
      "max_height": null,
      "max_width": null,
      "min_height": null,
      "min_width": null,
      "object_fit": null,
      "object_position": null,
      "order": null,
      "overflow": null,
      "overflow_x": null,
      "overflow_y": null,
      "padding": null,
      "right": null,
      "top": null,
      "visibility": null,
      "width": null
     }
    },
    "7780b5cc86774db5945a029aec5a3b43": {
     "model_module": "@jupyter-widgets/controls",
     "model_module_version": "1.5.0",
     "model_name": "FloatProgressModel",
     "state": {
      "_dom_classes": [],
      "_model_module": "@jupyter-widgets/controls",
      "_model_module_version": "1.5.0",
      "_model_name": "FloatProgressModel",
      "_view_count": null,
      "_view_module": "@jupyter-widgets/controls",
      "_view_module_version": "1.5.0",
      "_view_name": "ProgressView",
      "bar_style": "success",
      "description": "",
      "description_tooltip": null,
      "layout": "IPY_MODEL_bd1215a69f5848a0bc3d3af8997564fa",
      "max": 28881,
      "min": 0,
      "orientation": "horizontal",
      "style": "IPY_MODEL_05665de1ebb04eab99c7c6a4499b0662",
      "value": 28881
     }
    },
    "7b73549f99be4844b883d3d1c0725bdf": {
     "model_module": "@jupyter-widgets/controls",
     "model_module_version": "1.5.0",
     "model_name": "HTMLModel",
     "state": {
      "_dom_classes": [],
      "_model_module": "@jupyter-widgets/controls",
      "_model_module_version": "1.5.0",
      "_model_name": "HTMLModel",
      "_view_count": null,
      "_view_module": "@jupyter-widgets/controls",
      "_view_module_version": "1.5.0",
      "_view_name": "HTMLView",
      "description": "",
      "description_tooltip": null,
      "layout": "IPY_MODEL_742f3455fb774a449c49bf7d4b517821",
      "placeholder": "​",
      "style": "IPY_MODEL_c6e4da2425b542eca2b8397283552c17",
      "value": " 1648877/1648877 [00:00&lt;00:00, 323494.62it/s]"
     }
    },
    "7feb27b9eb274b19bcaaabc046784719": {
     "model_module": "@jupyter-widgets/controls",
     "model_module_version": "1.5.0",
     "model_name": "ProgressStyleModel",
     "state": {
      "_model_module": "@jupyter-widgets/controls",
      "_model_module_version": "1.5.0",
      "_model_name": "ProgressStyleModel",
      "_view_count": null,
      "_view_module": "@jupyter-widgets/base",
      "_view_module_version": "1.2.0",
      "_view_name": "StyleView",
      "bar_color": null,
      "description_width": ""
     }
    },
    "87e84db02c4949ac9ca8a51d953e1563": {
     "model_module": "@jupyter-widgets/controls",
     "model_module_version": "1.5.0",
     "model_name": "DescriptionStyleModel",
     "state": {
      "_model_module": "@jupyter-widgets/controls",
      "_model_module_version": "1.5.0",
      "_model_name": "DescriptionStyleModel",
      "_view_count": null,
      "_view_module": "@jupyter-widgets/base",
      "_view_module_version": "1.2.0",
      "_view_name": "StyleView",
      "description_width": ""
     }
    },
    "a1eadcc54d20460b9094e24e4dd77bda": {
     "model_module": "@jupyter-widgets/base",
     "model_module_version": "1.2.0",
     "model_name": "LayoutModel",
     "state": {
      "_model_module": "@jupyter-widgets/base",
      "_model_module_version": "1.2.0",
      "_model_name": "LayoutModel",
      "_view_count": null,
      "_view_module": "@jupyter-widgets/base",
      "_view_module_version": "1.2.0",
      "_view_name": "LayoutView",
      "align_content": null,
      "align_items": null,
      "align_self": null,
      "border": null,
      "bottom": null,
      "display": null,
      "flex": null,
      "flex_flow": null,
      "grid_area": null,
      "grid_auto_columns": null,
      "grid_auto_flow": null,
      "grid_auto_rows": null,
      "grid_column": null,
      "grid_gap": null,
      "grid_row": null,
      "grid_template_areas": null,
      "grid_template_columns": null,
      "grid_template_rows": null,
      "height": null,
      "justify_content": null,
      "justify_items": null,
      "left": null,
      "margin": null,
      "max_height": null,
      "max_width": null,
      "min_height": null,
      "min_width": null,
      "object_fit": null,
      "object_position": null,
      "order": null,
      "overflow": null,
      "overflow_x": null,
      "overflow_y": null,
      "padding": null,
      "right": null,
      "top": null,
      "visibility": null,
      "width": null
     }
    },
    "a3e9a0d8f4724412b4d0cb11ba7f613e": {
     "model_module": "@jupyter-widgets/base",
     "model_module_version": "1.2.0",
     "model_name": "LayoutModel",
     "state": {
      "_model_module": "@jupyter-widgets/base",
      "_model_module_version": "1.2.0",
      "_model_name": "LayoutModel",
      "_view_count": null,
      "_view_module": "@jupyter-widgets/base",
      "_view_module_version": "1.2.0",
      "_view_name": "LayoutView",
      "align_content": null,
      "align_items": null,
      "align_self": null,
      "border": null,
      "bottom": null,
      "display": null,
      "flex": null,
      "flex_flow": null,
      "grid_area": null,
      "grid_auto_columns": null,
      "grid_auto_flow": null,
      "grid_auto_rows": null,
      "grid_column": null,
      "grid_gap": null,
      "grid_row": null,
      "grid_template_areas": null,
      "grid_template_columns": null,
      "grid_template_rows": null,
      "height": null,
      "justify_content": null,
      "justify_items": null,
      "left": null,
      "margin": null,
      "max_height": null,
      "max_width": null,
      "min_height": null,
      "min_width": null,
      "object_fit": null,
      "object_position": null,
      "order": null,
      "overflow": null,
      "overflow_x": null,
      "overflow_y": null,
      "padding": null,
      "right": null,
      "top": null,
      "visibility": null,
      "width": null
     }
    },
    "a51066cf5f3240b18a28c29b93bfb44c": {
     "model_module": "@jupyter-widgets/controls",
     "model_module_version": "1.5.0",
     "model_name": "HTMLModel",
     "state": {
      "_dom_classes": [],
      "_model_module": "@jupyter-widgets/controls",
      "_model_module_version": "1.5.0",
      "_model_name": "HTMLModel",
      "_view_count": null,
      "_view_module": "@jupyter-widgets/controls",
      "_view_module_version": "1.5.0",
      "_view_name": "HTMLView",
      "description": "",
      "description_tooltip": null,
      "layout": "IPY_MODEL_41362678efc04be5857042ade513c366",
      "placeholder": "​",
      "style": "IPY_MODEL_2f79e5d8be0b4ed68d3fd478ea6a8a83",
      "value": "100%"
     }
    },
    "b047344fbe4344a69168fedf7ad09e0f": {
     "model_module": "@jupyter-widgets/controls",
     "model_module_version": "1.5.0",
     "model_name": "FloatProgressModel",
     "state": {
      "_dom_classes": [],
      "_model_module": "@jupyter-widgets/controls",
      "_model_module_version": "1.5.0",
      "_model_name": "FloatProgressModel",
      "_view_count": null,
      "_view_module": "@jupyter-widgets/controls",
      "_view_module_version": "1.5.0",
      "_view_name": "ProgressView",
      "bar_style": "success",
      "description": "",
      "description_tooltip": null,
      "layout": "IPY_MODEL_027b2a01c3aa4bf292d204f0b43e02fe",
      "max": 1648877,
      "min": 0,
      "orientation": "horizontal",
      "style": "IPY_MODEL_7feb27b9eb274b19bcaaabc046784719",
      "value": 1648877
     }
    },
    "bd1215a69f5848a0bc3d3af8997564fa": {
     "model_module": "@jupyter-widgets/base",
     "model_module_version": "1.2.0",
     "model_name": "LayoutModel",
     "state": {
      "_model_module": "@jupyter-widgets/base",
      "_model_module_version": "1.2.0",
      "_model_name": "LayoutModel",
      "_view_count": null,
      "_view_module": "@jupyter-widgets/base",
      "_view_module_version": "1.2.0",
      "_view_name": "LayoutView",
      "align_content": null,
      "align_items": null,
      "align_self": null,
      "border": null,
      "bottom": null,
      "display": null,
      "flex": null,
      "flex_flow": null,
      "grid_area": null,
      "grid_auto_columns": null,
      "grid_auto_flow": null,
      "grid_auto_rows": null,
      "grid_column": null,
      "grid_gap": null,
      "grid_row": null,
      "grid_template_areas": null,
      "grid_template_columns": null,
      "grid_template_rows": null,
      "height": null,
      "justify_content": null,
      "justify_items": null,
      "left": null,
      "margin": null,
      "max_height": null,
      "max_width": null,
      "min_height": null,
      "min_width": null,
      "object_fit": null,
      "object_position": null,
      "order": null,
      "overflow": null,
      "overflow_x": null,
      "overflow_y": null,
      "padding": null,
      "right": null,
      "top": null,
      "visibility": null,
      "width": null
     }
    },
    "c3df6522189146ff91947b3f7c49a127": {
     "model_module": "@jupyter-widgets/controls",
     "model_module_version": "1.5.0",
     "model_name": "HTMLModel",
     "state": {
      "_dom_classes": [],
      "_model_module": "@jupyter-widgets/controls",
      "_model_module_version": "1.5.0",
      "_model_name": "HTMLModel",
      "_view_count": null,
      "_view_module": "@jupyter-widgets/controls",
      "_view_module_version": "1.5.0",
      "_view_name": "HTMLView",
      "description": "",
      "description_tooltip": null,
      "layout": "IPY_MODEL_02f6f38194af48e0a215fd0122ef545e",
      "placeholder": "​",
      "style": "IPY_MODEL_404c6ce41cc240ecb2dd880248813323",
      "value": " 4542/4542 [00:00&lt;00:00, 47416.86it/s]"
     }
    },
    "c6e4da2425b542eca2b8397283552c17": {
     "model_module": "@jupyter-widgets/controls",
     "model_module_version": "1.5.0",
     "model_name": "DescriptionStyleModel",
     "state": {
      "_model_module": "@jupyter-widgets/controls",
      "_model_module_version": "1.5.0",
      "_model_name": "DescriptionStyleModel",
      "_view_count": null,
      "_view_module": "@jupyter-widgets/base",
      "_view_module_version": "1.2.0",
      "_view_name": "StyleView",
      "description_width": ""
     }
    },
    "c6faa735a0784c67b2c33e43fe1bacb1": {
     "model_module": "@jupyter-widgets/base",
     "model_module_version": "1.2.0",
     "model_name": "LayoutModel",
     "state": {
      "_model_module": "@jupyter-widgets/base",
      "_model_module_version": "1.2.0",
      "_model_name": "LayoutModel",
      "_view_count": null,
      "_view_module": "@jupyter-widgets/base",
      "_view_module_version": "1.2.0",
      "_view_name": "LayoutView",
      "align_content": null,
      "align_items": null,
      "align_self": null,
      "border": null,
      "bottom": null,
      "display": null,
      "flex": null,
      "flex_flow": null,
      "grid_area": null,
      "grid_auto_columns": null,
      "grid_auto_flow": null,
      "grid_auto_rows": null,
      "grid_column": null,
      "grid_gap": null,
      "grid_row": null,
      "grid_template_areas": null,
      "grid_template_columns": null,
      "grid_template_rows": null,
      "height": null,
      "justify_content": null,
      "justify_items": null,
      "left": null,
      "margin": null,
      "max_height": null,
      "max_width": null,
      "min_height": null,
      "min_width": null,
      "object_fit": null,
      "object_position": null,
      "order": null,
      "overflow": null,
      "overflow_x": null,
      "overflow_y": null,
      "padding": null,
      "right": null,
      "top": null,
      "visibility": null,
      "width": null
     }
    },
    "ca93df9c0ff744209b059df51f1beb24": {
     "model_module": "@jupyter-widgets/controls",
     "model_module_version": "1.5.0",
     "model_name": "HBoxModel",
     "state": {
      "_dom_classes": [],
      "_model_module": "@jupyter-widgets/controls",
      "_model_module_version": "1.5.0",
      "_model_name": "HBoxModel",
      "_view_count": null,
      "_view_module": "@jupyter-widgets/controls",
      "_view_module_version": "1.5.0",
      "_view_name": "HBoxView",
      "box_style": "",
      "children": [
       "IPY_MODEL_084d884300f94d9596e603e02c8ab8e8",
       "IPY_MODEL_6863b73f063242a3ba3238b6c7b09b89",
       "IPY_MODEL_c3df6522189146ff91947b3f7c49a127"
      ],
      "layout": "IPY_MODEL_a1eadcc54d20460b9094e24e4dd77bda"
     }
    },
    "ce16c4d3fffa4ced8df41b58c39f1331": {
     "model_module": "@jupyter-widgets/controls",
     "model_module_version": "1.5.0",
     "model_name": "FloatProgressModel",
     "state": {
      "_dom_classes": [],
      "_model_module": "@jupyter-widgets/controls",
      "_model_module_version": "1.5.0",
      "_model_name": "FloatProgressModel",
      "_view_count": null,
      "_view_module": "@jupyter-widgets/controls",
      "_view_module_version": "1.5.0",
      "_view_name": "ProgressView",
      "bar_style": "success",
      "description": "",
      "description_tooltip": null,
      "layout": "IPY_MODEL_1466ad5f698e459e840a7813e5d75450",
      "max": 9912422,
      "min": 0,
      "orientation": "horizontal",
      "style": "IPY_MODEL_68a61dad9c8e48a2bb6b11a31dbe9fb1",
      "value": 9912422
     }
    },
    "d2793909d8dd4dd1862aae5bbf10ac2a": {
     "model_module": "@jupyter-widgets/controls",
     "model_module_version": "1.5.0",
     "model_name": "DescriptionStyleModel",
     "state": {
      "_model_module": "@jupyter-widgets/controls",
      "_model_module_version": "1.5.0",
      "_model_name": "DescriptionStyleModel",
      "_view_count": null,
      "_view_module": "@jupyter-widgets/base",
      "_view_module_version": "1.2.0",
      "_view_name": "StyleView",
      "description_width": ""
     }
    },
    "d719ffbc91f8423db7b26331f8dca64b": {
     "model_module": "@jupyter-widgets/controls",
     "model_module_version": "1.5.0",
     "model_name": "DescriptionStyleModel",
     "state": {
      "_model_module": "@jupyter-widgets/controls",
      "_model_module_version": "1.5.0",
      "_model_name": "DescriptionStyleModel",
      "_view_count": null,
      "_view_module": "@jupyter-widgets/base",
      "_view_module_version": "1.2.0",
      "_view_name": "StyleView",
      "description_width": ""
     }
    },
    "da235270b9ff422a8127f9f081d95833": {
     "model_module": "@jupyter-widgets/base",
     "model_module_version": "1.2.0",
     "model_name": "LayoutModel",
     "state": {
      "_model_module": "@jupyter-widgets/base",
      "_model_module_version": "1.2.0",
      "_model_name": "LayoutModel",
      "_view_count": null,
      "_view_module": "@jupyter-widgets/base",
      "_view_module_version": "1.2.0",
      "_view_name": "LayoutView",
      "align_content": null,
      "align_items": null,
      "align_self": null,
      "border": null,
      "bottom": null,
      "display": null,
      "flex": null,
      "flex_flow": null,
      "grid_area": null,
      "grid_auto_columns": null,
      "grid_auto_flow": null,
      "grid_auto_rows": null,
      "grid_column": null,
      "grid_gap": null,
      "grid_row": null,
      "grid_template_areas": null,
      "grid_template_columns": null,
      "grid_template_rows": null,
      "height": null,
      "justify_content": null,
      "justify_items": null,
      "left": null,
      "margin": null,
      "max_height": null,
      "max_width": null,
      "min_height": null,
      "min_width": null,
      "object_fit": null,
      "object_position": null,
      "order": null,
      "overflow": null,
      "overflow_x": null,
      "overflow_y": null,
      "padding": null,
      "right": null,
      "top": null,
      "visibility": null,
      "width": null
     }
    },
    "e24a49ff7c364f5191c34b9007a326b2": {
     "model_module": "@jupyter-widgets/base",
     "model_module_version": "1.2.0",
     "model_name": "LayoutModel",
     "state": {
      "_model_module": "@jupyter-widgets/base",
      "_model_module_version": "1.2.0",
      "_model_name": "LayoutModel",
      "_view_count": null,
      "_view_module": "@jupyter-widgets/base",
      "_view_module_version": "1.2.0",
      "_view_name": "LayoutView",
      "align_content": null,
      "align_items": null,
      "align_self": null,
      "border": null,
      "bottom": null,
      "display": null,
      "flex": null,
      "flex_flow": null,
      "grid_area": null,
      "grid_auto_columns": null,
      "grid_auto_flow": null,
      "grid_auto_rows": null,
      "grid_column": null,
      "grid_gap": null,
      "grid_row": null,
      "grid_template_areas": null,
      "grid_template_columns": null,
      "grid_template_rows": null,
      "height": null,
      "justify_content": null,
      "justify_items": null,
      "left": null,
      "margin": null,
      "max_height": null,
      "max_width": null,
      "min_height": null,
      "min_width": null,
      "object_fit": null,
      "object_position": null,
      "order": null,
      "overflow": null,
      "overflow_x": null,
      "overflow_y": null,
      "padding": null,
      "right": null,
      "top": null,
      "visibility": null,
      "width": null
     }
    },
    "e3c853b0b2764333ad52356e2a14a4f4": {
     "model_module": "@jupyter-widgets/base",
     "model_module_version": "1.2.0",
     "model_name": "LayoutModel",
     "state": {
      "_model_module": "@jupyter-widgets/base",
      "_model_module_version": "1.2.0",
      "_model_name": "LayoutModel",
      "_view_count": null,
      "_view_module": "@jupyter-widgets/base",
      "_view_module_version": "1.2.0",
      "_view_name": "LayoutView",
      "align_content": null,
      "align_items": null,
      "align_self": null,
      "border": null,
      "bottom": null,
      "display": null,
      "flex": null,
      "flex_flow": null,
      "grid_area": null,
      "grid_auto_columns": null,
      "grid_auto_flow": null,
      "grid_auto_rows": null,
      "grid_column": null,
      "grid_gap": null,
      "grid_row": null,
      "grid_template_areas": null,
      "grid_template_columns": null,
      "grid_template_rows": null,
      "height": null,
      "justify_content": null,
      "justify_items": null,
      "left": null,
      "margin": null,
      "max_height": null,
      "max_width": null,
      "min_height": null,
      "min_width": null,
      "object_fit": null,
      "object_position": null,
      "order": null,
      "overflow": null,
      "overflow_x": null,
      "overflow_y": null,
      "padding": null,
      "right": null,
      "top": null,
      "visibility": null,
      "width": null
     }
    },
    "f18bf9abbda743f9a0245524887041f9": {
     "model_module": "@jupyter-widgets/controls",
     "model_module_version": "1.5.0",
     "model_name": "DescriptionStyleModel",
     "state": {
      "_model_module": "@jupyter-widgets/controls",
      "_model_module_version": "1.5.0",
      "_model_name": "DescriptionStyleModel",
      "_view_count": null,
      "_view_module": "@jupyter-widgets/base",
      "_view_module_version": "1.2.0",
      "_view_name": "StyleView",
      "description_width": ""
     }
    },
    "f2057c39d740439d9c320414de1db673": {
     "model_module": "@jupyter-widgets/controls",
     "model_module_version": "1.5.0",
     "model_name": "HBoxModel",
     "state": {
      "_dom_classes": [],
      "_model_module": "@jupyter-widgets/controls",
      "_model_module_version": "1.5.0",
      "_model_name": "HBoxModel",
      "_view_count": null,
      "_view_module": "@jupyter-widgets/controls",
      "_view_module_version": "1.5.0",
      "_view_name": "HBoxView",
      "box_style": "",
      "children": [
       "IPY_MODEL_73dd44fcabdc4ba5b29566503f3cd4ca",
       "IPY_MODEL_b047344fbe4344a69168fedf7ad09e0f",
       "IPY_MODEL_7b73549f99be4844b883d3d1c0725bdf"
      ],
      "layout": "IPY_MODEL_e24a49ff7c364f5191c34b9007a326b2"
     }
    },
    "fa9eb52a18b549f28f60ed447a316c0a": {
     "model_module": "@jupyter-widgets/controls",
     "model_module_version": "1.5.0",
     "model_name": "HBoxModel",
     "state": {
      "_dom_classes": [],
      "_model_module": "@jupyter-widgets/controls",
      "_model_module_version": "1.5.0",
      "_model_name": "HBoxModel",
      "_view_count": null,
      "_view_module": "@jupyter-widgets/controls",
      "_view_module_version": "1.5.0",
      "_view_name": "HBoxView",
      "box_style": "",
      "children": [
       "IPY_MODEL_fb90ca245758489eb86317e8e940bdec",
       "IPY_MODEL_7780b5cc86774db5945a029aec5a3b43",
       "IPY_MODEL_5c914350fda1451686fd2a929ab42a06"
      ],
      "layout": "IPY_MODEL_a3e9a0d8f4724412b4d0cb11ba7f613e"
     }
    },
    "fb90ca245758489eb86317e8e940bdec": {
     "model_module": "@jupyter-widgets/controls",
     "model_module_version": "1.5.0",
     "model_name": "HTMLModel",
     "state": {
      "_dom_classes": [],
      "_model_module": "@jupyter-widgets/controls",
      "_model_module_version": "1.5.0",
      "_model_name": "HTMLModel",
      "_view_count": null,
      "_view_module": "@jupyter-widgets/controls",
      "_view_module_version": "1.5.0",
      "_view_name": "HTMLView",
      "description": "",
      "description_tooltip": null,
      "layout": "IPY_MODEL_07615fc58c85434683d131dabe659fb8",
      "placeholder": "​",
      "style": "IPY_MODEL_d2793909d8dd4dd1862aae5bbf10ac2a",
      "value": "100%"
     }
    }
   }
  }
 },
 "nbformat": 4,
 "nbformat_minor": 1
}
